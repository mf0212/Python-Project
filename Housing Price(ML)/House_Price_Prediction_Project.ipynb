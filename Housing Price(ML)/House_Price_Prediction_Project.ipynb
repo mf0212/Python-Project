{
 "cells": [
  {
   "cell_type": "markdown",
   "id": "dfba15f5",
   "metadata": {},
   "source": [
    "# House Price Prediction Project\n",
    "\n",
    "1. Problem Definition:  predict the sales price for each house and Preprocessing data\n",
    "2. Feature Selection : \n",
    "\t+ Choose feature to train ML model\n",
    "    + Need to use Feature Enginerring to indentify Feature needed\n",
    "3. Spliting the datasets\n",
    "\t+ `data` : dataset\n",
    "    + `X` : data[`feature`]\n",
    "    + `y` : target variable `SalePrice`\n",
    "4. Traning Machine Learning Model"
   ]
  },
  {
   "cell_type": "code",
   "execution_count": 39,
   "id": "144362ac",
   "metadata": {},
   "outputs": [],
   "source": [
    "#import libraries\n",
    "import pandas as pd\n",
    "import numpy as np\n",
    "import matplotlib.pyplot as plt\n",
    "import seaborn as sns"
   ]
  },
  {
   "cell_type": "code",
   "execution_count": 6,
   "id": "40977696",
   "metadata": {},
   "outputs": [],
   "source": [
    "data = pd.read_csv(\"./data/train.csv\",index_col = 'Id')# Win use \\ replace for /"
   ]
  },
  {
   "cell_type": "code",
   "execution_count": 7,
   "id": "53da7e18",
   "metadata": {},
   "outputs": [
    {
     "data": {
      "text/html": [
       "<div>\n",
       "<style scoped>\n",
       "    .dataframe tbody tr th:only-of-type {\n",
       "        vertical-align: middle;\n",
       "    }\n",
       "\n",
       "    .dataframe tbody tr th {\n",
       "        vertical-align: top;\n",
       "    }\n",
       "\n",
       "    .dataframe thead th {\n",
       "        text-align: right;\n",
       "    }\n",
       "</style>\n",
       "<table border=\"1\" class=\"dataframe\">\n",
       "  <thead>\n",
       "    <tr style=\"text-align: right;\">\n",
       "      <th></th>\n",
       "      <th>MSSubClass</th>\n",
       "      <th>MSZoning</th>\n",
       "      <th>LotFrontage</th>\n",
       "      <th>LotArea</th>\n",
       "      <th>Street</th>\n",
       "      <th>Alley</th>\n",
       "      <th>LotShape</th>\n",
       "      <th>LandContour</th>\n",
       "      <th>Utilities</th>\n",
       "      <th>LotConfig</th>\n",
       "      <th>...</th>\n",
       "      <th>PoolArea</th>\n",
       "      <th>PoolQC</th>\n",
       "      <th>Fence</th>\n",
       "      <th>MiscFeature</th>\n",
       "      <th>MiscVal</th>\n",
       "      <th>MoSold</th>\n",
       "      <th>YrSold</th>\n",
       "      <th>SaleType</th>\n",
       "      <th>SaleCondition</th>\n",
       "      <th>SalePrice</th>\n",
       "    </tr>\n",
       "    <tr>\n",
       "      <th>Id</th>\n",
       "      <th></th>\n",
       "      <th></th>\n",
       "      <th></th>\n",
       "      <th></th>\n",
       "      <th></th>\n",
       "      <th></th>\n",
       "      <th></th>\n",
       "      <th></th>\n",
       "      <th></th>\n",
       "      <th></th>\n",
       "      <th></th>\n",
       "      <th></th>\n",
       "      <th></th>\n",
       "      <th></th>\n",
       "      <th></th>\n",
       "      <th></th>\n",
       "      <th></th>\n",
       "      <th></th>\n",
       "      <th></th>\n",
       "      <th></th>\n",
       "      <th></th>\n",
       "    </tr>\n",
       "  </thead>\n",
       "  <tbody>\n",
       "    <tr>\n",
       "      <th>1</th>\n",
       "      <td>60</td>\n",
       "      <td>RL</td>\n",
       "      <td>65.0</td>\n",
       "      <td>8450</td>\n",
       "      <td>Pave</td>\n",
       "      <td>NaN</td>\n",
       "      <td>Reg</td>\n",
       "      <td>Lvl</td>\n",
       "      <td>AllPub</td>\n",
       "      <td>Inside</td>\n",
       "      <td>...</td>\n",
       "      <td>0</td>\n",
       "      <td>NaN</td>\n",
       "      <td>NaN</td>\n",
       "      <td>NaN</td>\n",
       "      <td>0</td>\n",
       "      <td>2</td>\n",
       "      <td>2008</td>\n",
       "      <td>WD</td>\n",
       "      <td>Normal</td>\n",
       "      <td>208500</td>\n",
       "    </tr>\n",
       "    <tr>\n",
       "      <th>2</th>\n",
       "      <td>20</td>\n",
       "      <td>RL</td>\n",
       "      <td>80.0</td>\n",
       "      <td>9600</td>\n",
       "      <td>Pave</td>\n",
       "      <td>NaN</td>\n",
       "      <td>Reg</td>\n",
       "      <td>Lvl</td>\n",
       "      <td>AllPub</td>\n",
       "      <td>FR2</td>\n",
       "      <td>...</td>\n",
       "      <td>0</td>\n",
       "      <td>NaN</td>\n",
       "      <td>NaN</td>\n",
       "      <td>NaN</td>\n",
       "      <td>0</td>\n",
       "      <td>5</td>\n",
       "      <td>2007</td>\n",
       "      <td>WD</td>\n",
       "      <td>Normal</td>\n",
       "      <td>181500</td>\n",
       "    </tr>\n",
       "    <tr>\n",
       "      <th>3</th>\n",
       "      <td>60</td>\n",
       "      <td>RL</td>\n",
       "      <td>68.0</td>\n",
       "      <td>11250</td>\n",
       "      <td>Pave</td>\n",
       "      <td>NaN</td>\n",
       "      <td>IR1</td>\n",
       "      <td>Lvl</td>\n",
       "      <td>AllPub</td>\n",
       "      <td>Inside</td>\n",
       "      <td>...</td>\n",
       "      <td>0</td>\n",
       "      <td>NaN</td>\n",
       "      <td>NaN</td>\n",
       "      <td>NaN</td>\n",
       "      <td>0</td>\n",
       "      <td>9</td>\n",
       "      <td>2008</td>\n",
       "      <td>WD</td>\n",
       "      <td>Normal</td>\n",
       "      <td>223500</td>\n",
       "    </tr>\n",
       "    <tr>\n",
       "      <th>4</th>\n",
       "      <td>70</td>\n",
       "      <td>RL</td>\n",
       "      <td>60.0</td>\n",
       "      <td>9550</td>\n",
       "      <td>Pave</td>\n",
       "      <td>NaN</td>\n",
       "      <td>IR1</td>\n",
       "      <td>Lvl</td>\n",
       "      <td>AllPub</td>\n",
       "      <td>Corner</td>\n",
       "      <td>...</td>\n",
       "      <td>0</td>\n",
       "      <td>NaN</td>\n",
       "      <td>NaN</td>\n",
       "      <td>NaN</td>\n",
       "      <td>0</td>\n",
       "      <td>2</td>\n",
       "      <td>2006</td>\n",
       "      <td>WD</td>\n",
       "      <td>Abnorml</td>\n",
       "      <td>140000</td>\n",
       "    </tr>\n",
       "    <tr>\n",
       "      <th>5</th>\n",
       "      <td>60</td>\n",
       "      <td>RL</td>\n",
       "      <td>84.0</td>\n",
       "      <td>14260</td>\n",
       "      <td>Pave</td>\n",
       "      <td>NaN</td>\n",
       "      <td>IR1</td>\n",
       "      <td>Lvl</td>\n",
       "      <td>AllPub</td>\n",
       "      <td>FR2</td>\n",
       "      <td>...</td>\n",
       "      <td>0</td>\n",
       "      <td>NaN</td>\n",
       "      <td>NaN</td>\n",
       "      <td>NaN</td>\n",
       "      <td>0</td>\n",
       "      <td>12</td>\n",
       "      <td>2008</td>\n",
       "      <td>WD</td>\n",
       "      <td>Normal</td>\n",
       "      <td>250000</td>\n",
       "    </tr>\n",
       "  </tbody>\n",
       "</table>\n",
       "<p>5 rows × 80 columns</p>\n",
       "</div>"
      ],
      "text/plain": [
       "    MSSubClass MSZoning  LotFrontage  LotArea Street Alley LotShape  \\\n",
       "Id                                                                    \n",
       "1           60       RL         65.0     8450   Pave   NaN      Reg   \n",
       "2           20       RL         80.0     9600   Pave   NaN      Reg   \n",
       "3           60       RL         68.0    11250   Pave   NaN      IR1   \n",
       "4           70       RL         60.0     9550   Pave   NaN      IR1   \n",
       "5           60       RL         84.0    14260   Pave   NaN      IR1   \n",
       "\n",
       "   LandContour Utilities LotConfig  ... PoolArea PoolQC Fence MiscFeature  \\\n",
       "Id                                  ...                                     \n",
       "1          Lvl    AllPub    Inside  ...        0    NaN   NaN         NaN   \n",
       "2          Lvl    AllPub       FR2  ...        0    NaN   NaN         NaN   \n",
       "3          Lvl    AllPub    Inside  ...        0    NaN   NaN         NaN   \n",
       "4          Lvl    AllPub    Corner  ...        0    NaN   NaN         NaN   \n",
       "5          Lvl    AllPub       FR2  ...        0    NaN   NaN         NaN   \n",
       "\n",
       "   MiscVal MoSold  YrSold  SaleType  SaleCondition  SalePrice  \n",
       "Id                                                             \n",
       "1        0      2    2008        WD         Normal     208500  \n",
       "2        0      5    2007        WD         Normal     181500  \n",
       "3        0      9    2008        WD         Normal     223500  \n",
       "4        0      2    2006        WD        Abnorml     140000  \n",
       "5        0     12    2008        WD         Normal     250000  \n",
       "\n",
       "[5 rows x 80 columns]"
      ]
     },
     "execution_count": 7,
     "metadata": {},
     "output_type": "execute_result"
    }
   ],
   "source": [
    "data.head()"
   ]
  },
  {
   "cell_type": "code",
   "execution_count": 8,
   "id": "a8eec8ce",
   "metadata": {},
   "outputs": [
    {
     "data": {
      "text/plain": [
       "Index(['MSSubClass', 'MSZoning', 'LotFrontage', 'LotArea', 'Street', 'Alley',\n",
       "       'LotShape', 'LandContour', 'Utilities', 'LotConfig', 'LandSlope',\n",
       "       'Neighborhood', 'Condition1', 'Condition2', 'BldgType', 'HouseStyle',\n",
       "       'OverallQual', 'OverallCond', 'YearBuilt', 'YearRemodAdd', 'RoofStyle',\n",
       "       'RoofMatl', 'Exterior1st', 'Exterior2nd', 'MasVnrType', 'MasVnrArea',\n",
       "       'ExterQual', 'ExterCond', 'Foundation', 'BsmtQual', 'BsmtCond',\n",
       "       'BsmtExposure', 'BsmtFinType1', 'BsmtFinSF1', 'BsmtFinType2',\n",
       "       'BsmtFinSF2', 'BsmtUnfSF', 'TotalBsmtSF', 'Heating', 'HeatingQC',\n",
       "       'CentralAir', 'Electrical', '1stFlrSF', '2ndFlrSF', 'LowQualFinSF',\n",
       "       'GrLivArea', 'BsmtFullBath', 'BsmtHalfBath', 'FullBath', 'HalfBath',\n",
       "       'BedroomAbvGr', 'KitchenAbvGr', 'KitchenQual', 'TotRmsAbvGrd',\n",
       "       'Functional', 'Fireplaces', 'FireplaceQu', 'GarageType', 'GarageYrBlt',\n",
       "       'GarageFinish', 'GarageCars', 'GarageArea', 'GarageQual', 'GarageCond',\n",
       "       'PavedDrive', 'WoodDeckSF', 'OpenPorchSF', 'EnclosedPorch', '3SsnPorch',\n",
       "       'ScreenPorch', 'PoolArea', 'PoolQC', 'Fence', 'MiscFeature', 'MiscVal',\n",
       "       'MoSold', 'YrSold', 'SaleType', 'SaleCondition', 'SalePrice'],\n",
       "      dtype='object')"
      ]
     },
     "execution_count": 8,
     "metadata": {},
     "output_type": "execute_result"
    }
   ],
   "source": [
    "data.columns"
   ]
  },
  {
   "cell_type": "markdown",
   "id": "73f89cb0",
   "metadata": {},
   "source": [
    "### Data Imputation (Missing Data Replacement)¶\n"
   ]
  },
  {
   "cell_type": "code",
   "execution_count": 36,
   "id": "c12fbc64",
   "metadata": {},
   "outputs": [
    {
     "name": "stdout",
     "output_type": "stream",
     "text": [
      ">0,  missing entries: 0, percentage 0.00\n",
      ">1,  missing entries: 0, percentage 0.00\n",
      ">2,  missing entries: 259, percentage 17.74\n",
      ">3,  missing entries: 0, percentage 0.00\n",
      ">4,  missing entries: 0, percentage 0.00\n",
      ">5,  missing entries: 1369, percentage 93.77\n",
      ">6,  missing entries: 0, percentage 0.00\n",
      ">7,  missing entries: 0, percentage 0.00\n",
      ">8,  missing entries: 0, percentage 0.00\n",
      ">9,  missing entries: 0, percentage 0.00\n",
      ">10,  missing entries: 0, percentage 0.00\n",
      ">11,  missing entries: 0, percentage 0.00\n",
      ">12,  missing entries: 0, percentage 0.00\n",
      ">13,  missing entries: 0, percentage 0.00\n",
      ">14,  missing entries: 0, percentage 0.00\n",
      ">15,  missing entries: 0, percentage 0.00\n",
      ">16,  missing entries: 0, percentage 0.00\n",
      ">17,  missing entries: 0, percentage 0.00\n",
      ">18,  missing entries: 0, percentage 0.00\n",
      ">19,  missing entries: 0, percentage 0.00\n",
      ">20,  missing entries: 0, percentage 0.00\n",
      ">21,  missing entries: 0, percentage 0.00\n",
      ">22,  missing entries: 0, percentage 0.00\n",
      ">23,  missing entries: 0, percentage 0.00\n",
      ">24,  missing entries: 8, percentage 0.55\n",
      ">25,  missing entries: 8, percentage 0.55\n",
      ">26,  missing entries: 0, percentage 0.00\n",
      ">27,  missing entries: 0, percentage 0.00\n",
      ">28,  missing entries: 0, percentage 0.00\n",
      ">29,  missing entries: 37, percentage 2.53\n",
      ">30,  missing entries: 37, percentage 2.53\n",
      ">31,  missing entries: 38, percentage 2.60\n",
      ">32,  missing entries: 37, percentage 2.53\n",
      ">33,  missing entries: 0, percentage 0.00\n",
      ">34,  missing entries: 38, percentage 2.60\n",
      ">35,  missing entries: 0, percentage 0.00\n",
      ">36,  missing entries: 0, percentage 0.00\n",
      ">37,  missing entries: 0, percentage 0.00\n",
      ">38,  missing entries: 0, percentage 0.00\n",
      ">39,  missing entries: 0, percentage 0.00\n",
      ">40,  missing entries: 0, percentage 0.00\n",
      ">41,  missing entries: 1, percentage 0.07\n",
      ">42,  missing entries: 0, percentage 0.00\n",
      ">43,  missing entries: 0, percentage 0.00\n",
      ">44,  missing entries: 0, percentage 0.00\n",
      ">45,  missing entries: 0, percentage 0.00\n",
      ">46,  missing entries: 0, percentage 0.00\n",
      ">47,  missing entries: 0, percentage 0.00\n",
      ">48,  missing entries: 0, percentage 0.00\n",
      ">49,  missing entries: 0, percentage 0.00\n",
      ">50,  missing entries: 0, percentage 0.00\n",
      ">51,  missing entries: 0, percentage 0.00\n",
      ">52,  missing entries: 0, percentage 0.00\n",
      ">53,  missing entries: 0, percentage 0.00\n",
      ">54,  missing entries: 0, percentage 0.00\n",
      ">55,  missing entries: 0, percentage 0.00\n",
      ">56,  missing entries: 690, percentage 47.26\n",
      ">57,  missing entries: 81, percentage 5.55\n",
      ">58,  missing entries: 81, percentage 5.55\n",
      ">59,  missing entries: 81, percentage 5.55\n",
      ">60,  missing entries: 0, percentage 0.00\n",
      ">61,  missing entries: 0, percentage 0.00\n",
      ">62,  missing entries: 81, percentage 5.55\n",
      ">63,  missing entries: 81, percentage 5.55\n",
      ">64,  missing entries: 0, percentage 0.00\n",
      ">65,  missing entries: 0, percentage 0.00\n",
      ">66,  missing entries: 0, percentage 0.00\n",
      ">67,  missing entries: 0, percentage 0.00\n",
      ">68,  missing entries: 0, percentage 0.00\n",
      ">69,  missing entries: 0, percentage 0.00\n",
      ">70,  missing entries: 0, percentage 0.00\n",
      ">71,  missing entries: 1453, percentage 99.52\n",
      ">72,  missing entries: 1179, percentage 80.75\n",
      ">73,  missing entries: 1406, percentage 96.30\n",
      ">74,  missing entries: 0, percentage 0.00\n",
      ">75,  missing entries: 0, percentage 0.00\n",
      ">76,  missing entries: 0, percentage 0.00\n",
      ">77,  missing entries: 0, percentage 0.00\n",
      ">78,  missing entries: 0, percentage 0.00\n",
      ">79,  missing entries: 0, percentage 0.00\n"
     ]
    }
   ],
   "source": [
    "for i in range(len(data.columns)):\n",
    "    missing_data = data[data.columns[i]].isna().sum()\n",
    "    perc = missing_data / len(data) * 100\n",
    "    print('>%d,  missing entries: %d, percentage %.2f' % (i, missing_data, perc))"
   ]
  },
  {
   "cell_type": "code",
   "execution_count": 43,
   "id": "95517bac",
   "metadata": {},
   "outputs": [
    {
     "data": {
      "text/plain": [
       "<Axes: ylabel='Id'>"
      ]
     },
     "execution_count": 43,
     "metadata": {},
     "output_type": "execute_result"
    },
    {
     "data": {
      "image/png": "[encoded data removed]",
      "text/plain": [
       "<Figure size 800x500 with 1 Axes>"
      ]
     },
     "metadata": {},
     "output_type": "display_data"
    }
   ],
   "source": [
    "plt.figure(figsize=(8,5))\n",
    "sns.heatmap(data.isna(),cbar = False, yticklabels = False, xticklabels = False, cmap = 'viridis')"
   ]
  },
  {
   "cell_type": "markdown",
   "id": "b5ceda8c",
   "metadata": {},
   "source": [
    "## 2. Feature Selections\n"
   ]
  },
  {
   "cell_type": "code",
   "execution_count": 18,
   "id": "cb5aa25b",
   "metadata": {},
   "outputs": [],
   "source": [
    "feature = [\"LotArea\", \"YearBuilt\", \"1stFlrSF\", \"2ndFlrSF\", \"FullBath\" , \"BedroomAbvGr\", \"TotRmsAbvGrd\"]"
   ]
  },
  {
   "cell_type": "markdown",
   "id": "951e2f56",
   "metadata": {},
   "source": [
    "## 3. Splitting dataset into X and y"
   ]
  },
  {
   "cell_type": "code",
   "execution_count": 45,
   "id": "68528e30",
   "metadata": {},
   "outputs": [
    {
     "name": "stdout",
     "output_type": "stream",
     "text": [
      "<class 'pandas.core.frame.DataFrame'>\n",
      "Int64Index: 1460 entries, 1 to 1460\n",
      "Data columns (total 7 columns):\n",
      " #   Column        Non-Null Count  Dtype\n",
      "---  ------        --------------  -----\n",
      " 0   LotArea       1460 non-null   int64\n",
      " 1   YearBuilt     1460 non-null   int64\n",
      " 2   1stFlrSF      1460 non-null   int64\n",
      " 3   2ndFlrSF      1460 non-null   int64\n",
      " 4   FullBath      1460 non-null   int64\n",
      " 5   BedroomAbvGr  1460 non-null   int64\n",
      " 6   TotRmsAbvGrd  1460 non-null   int64\n",
      "dtypes: int64(7)\n",
      "memory usage: 91.2 KB\n"
     ]
    }
   ],
   "source": [
    "X = data[feature]\n",
    "y = data['SalePrice']\n",
    "X.head()\n",
    "X.info()"
   ]
  },
  {
   "cell_type": "markdown",
   "id": "62fee2ba",
   "metadata": {},
   "source": [
    "### Missing values replacement (If have)"
   ]
  },
  {
   "cell_type": "code",
   "execution_count": 50,
   "id": "c520a89b",
   "metadata": {},
   "outputs": [
    {
     "data": {
      "text/plain": [
       "array([[8.450e+03, 2.003e+03, 8.560e+02, ..., 2.000e+00, 3.000e+00,\n",
       "        8.000e+00],\n",
       "       [9.600e+03, 1.976e+03, 1.262e+03, ..., 2.000e+00, 3.000e+00,\n",
       "        6.000e+00],\n",
       "       [1.125e+04, 2.001e+03, 9.200e+02, ..., 2.000e+00, 3.000e+00,\n",
       "        6.000e+00],\n",
       "       ...,\n",
       "       [9.042e+03, 1.941e+03, 1.188e+03, ..., 2.000e+00, 4.000e+00,\n",
       "        9.000e+00],\n",
       "       [9.717e+03, 1.950e+03, 1.078e+03, ..., 1.000e+00, 2.000e+00,\n",
       "        5.000e+00],\n",
       "       [9.937e+03, 1.965e+03, 1.256e+03, ..., 1.000e+00, 3.000e+00,\n",
       "        6.000e+00]])"
      ]
     },
     "execution_count": 50,
     "metadata": {},
     "output_type": "execute_result"
    }
   ],
   "source": [
    "from sklearn.impute import SimpleImputer\n",
    "imputer = SimpleImputer(missing_values = np.nan, strategy = 'mean')\n",
    "imputer.fit(X)\n",
    "X = imputer.transform(X)\n",
    "X"
   ]
  },
  {
   "cell_type": "markdown",
   "id": "6ea7082c",
   "metadata": {},
   "source": [
    "### X,y -> X_train, y_train, X_valid, y_valid"
   ]
  },
  {
   "cell_type": "code",
   "execution_count": 52,
   "id": "ae118256",
   "metadata": {},
   "outputs": [],
   "source": [
    "from sklearn.model_selection import train_test_split\n",
    "X_train,X_valid, y_train,y_valid = train_test_split(X,y,train_size=0.8,test_size=0.2,random_state=0)"
   ]
  },
  {
   "cell_type": "code",
   "execution_count": 53,
   "id": "49747c0f",
   "metadata": {},
   "outputs": [
    {
     "data": {
      "text/plain": [
       "array([[1.1694e+04, 2.0070e+03, 1.8280e+03, ..., 2.0000e+00, 3.0000e+00,\n",
       "        9.0000e+00],\n",
       "       [6.6000e+03, 1.9620e+03, 8.9400e+02, ..., 1.0000e+00, 2.0000e+00,\n",
       "        5.0000e+00],\n",
       "       [1.3360e+04, 1.9210e+03, 9.6400e+02, ..., 1.0000e+00, 2.0000e+00,\n",
       "        5.0000e+00],\n",
       "       ...,\n",
       "       [8.9300e+03, 1.9780e+03, 1.3180e+03, ..., 2.0000e+00, 4.0000e+00,\n",
       "        8.0000e+00],\n",
       "       [3.1960e+03, 2.0030e+03, 1.5570e+03, ..., 2.0000e+00, 2.0000e+00,\n",
       "        7.0000e+00],\n",
       "       [1.6770e+04, 1.9980e+03, 1.1950e+03, ..., 2.0000e+00, 4.0000e+00,\n",
       "        7.0000e+00]])"
      ]
     },
     "execution_count": 53,
     "metadata": {},
     "output_type": "execute_result"
    }
   ],
   "source": [
    "X_train"
   ]
  },
  {
   "cell_type": "markdown",
   "id": "2674bfe6",
   "metadata": {},
   "source": [
    "## 4. Traning Machine Learning Model"
   ]
  },
  {
   "cell_type": "code",
   "execution_count": 54,
   "id": "29701e02",
   "metadata": {},
   "outputs": [],
   "source": [
    "from sklearn.tree import DecisionTreeRegressor\n",
    "\n",
    "dt_model = DecisionTreeRegressor(random_state=1)"
   ]
  },
  {
   "cell_type": "code",
   "execution_count": 55,
   "id": "04b1f288",
   "metadata": {},
   "outputs": [
    {
     "data": {
      "text/html": [
       "<style>#sk-container-id-3 {color: black;background-color: white;}#sk-container-id-3 pre{padding: 0;}#sk-container-id-3 div.sk-toggleable {background-color: white;}#sk-container-id-3 label.sk-toggleable__label {cursor: pointer;display: block;width: 100%;margin-bottom: 0;padding: 0.3em;box-sizing: border-box;text-align: center;}#sk-container-id-3 label.sk-toggleable__label-arrow:before {content: \"▸\";float: left;margin-right: 0.25em;color: #696969;}#sk-container-id-3 label.sk-toggleable__label-arrow:hover:before {color: black;}#sk-container-id-3 div.sk-estimator:hover label.sk-toggleable__label-arrow:before {color: black;}#sk-container-id-3 div.sk-toggleable__content {max-height: 0;max-width: 0;overflow: hidden;text-align: left;background-color: #f0f8ff;}#sk-container-id-3 div.sk-toggleable__content pre {margin: 0.2em;color: black;border-radius: 0.25em;background-color: #f0f8ff;}#sk-container-id-3 input.sk-toggleable__control:checked~div.sk-toggleable__content {max-height: 200px;max-width: 100%;overflow: auto;}#sk-container-id-3 input.sk-toggleable__control:checked~label.sk-toggleable__label-arrow:before {content: \"▾\";}#sk-container-id-3 div.sk-estimator input.sk-toggleable__control:checked~label.sk-toggleable__label {background-color: #d4ebff;}#sk-container-id-3 div.sk-label input.sk-toggleable__control:checked~label.sk-toggleable__label {background-color: #d4ebff;}#sk-container-id-3 input.sk-hidden--visually {border: 0;clip: rect(1px 1px 1px 1px);clip: rect(1px, 1px, 1px, 1px);height: 1px;margin: -1px;overflow: hidden;padding: 0;position: absolute;width: 1px;}#sk-container-id-3 div.sk-estimator {font-family: monospace;background-color: #f0f8ff;border: 1px dotted black;border-radius: 0.25em;box-sizing: border-box;margin-bottom: 0.5em;}#sk-container-id-3 div.sk-estimator:hover {background-color: #d4ebff;}#sk-container-id-3 div.sk-parallel-item::after {content: \"\";width: 100%;border-bottom: 1px solid gray;flex-grow: 1;}#sk-container-id-3 div.sk-label:hover label.sk-toggleable__label {background-color: #d4ebff;}#sk-container-id-3 div.sk-serial::before {content: \"\";position: absolute;border-left: 1px solid gray;box-sizing: border-box;top: 0;bottom: 0;left: 50%;z-index: 0;}#sk-container-id-3 div.sk-serial {display: flex;flex-direction: column;align-items: center;background-color: white;padding-right: 0.2em;padding-left: 0.2em;position: relative;}#sk-container-id-3 div.sk-item {position: relative;z-index: 1;}#sk-container-id-3 div.sk-parallel {display: flex;align-items: stretch;justify-content: center;background-color: white;position: relative;}#sk-container-id-3 div.sk-item::before, #sk-container-id-3 div.sk-parallel-item::before {content: \"\";position: absolute;border-left: 1px solid gray;box-sizing: border-box;top: 0;bottom: 0;left: 50%;z-index: -1;}#sk-container-id-3 div.sk-parallel-item {display: flex;flex-direction: column;z-index: 1;position: relative;background-color: white;}#sk-container-id-3 div.sk-parallel-item:first-child::after {align-self: flex-end;width: 50%;}#sk-container-id-3 div.sk-parallel-item:last-child::after {align-self: flex-start;width: 50%;}#sk-container-id-3 div.sk-parallel-item:only-child::after {width: 0;}#sk-container-id-3 div.sk-dashed-wrapped {border: 1px dashed gray;margin: 0 0.4em 0.5em 0.4em;box-sizing: border-box;padding-bottom: 0.4em;background-color: white;}#sk-container-id-3 div.sk-label label {font-family: monospace;font-weight: bold;display: inline-block;line-height: 1.2em;}#sk-container-id-3 div.sk-label-container {text-align: center;}#sk-container-id-3 div.sk-container {/* jupyter's `normalize.less` sets `[hidden] { display: none; }` but bootstrap.min.css set `[hidden] { display: none !important; }` so we also need the `!important` here to be able to override the default hidden behavior on the sphinx rendered scikit-learn.org. See: https://github.com/scikit-learn/scikit-learn/issues/21755 */display: inline-block !important;position: relative;}#sk-container-id-3 div.sk-text-repr-fallback {display: none;}</style><div id=\"sk-container-id-3\" class=\"sk-top-container\"><div class=\"sk-text-repr-fallback\"><pre>DecisionTreeRegressor(random_state=1)</pre><b>In a Jupyter environment, please rerun this cell to show the HTML representation or trust the notebook. <br />On GitHub, the HTML representation is unable to render, please try loading this page with nbviewer.org.</b></div><div class=\"sk-container\" hidden><div class=\"sk-item\"><div class=\"sk-estimator sk-toggleable\"><input class=\"sk-toggleable__control sk-hidden--visually\" id=\"sk-estimator-id-3\" type=\"checkbox\" checked><label for=\"sk-estimator-id-3\" class=\"sk-toggleable__label sk-toggleable__label-arrow\">DecisionTreeRegressor</label><div class=\"sk-toggleable__content\"><pre>DecisionTreeRegressor(random_state=1)</pre></div></div></div></div></div>"
      ],
      "text/plain": [
       "DecisionTreeRegressor(random_state=1)"
      ]
     },
     "execution_count": 55,
     "metadata": {},
     "output_type": "execute_result"
    }
   ],
   "source": [
    "#Fit training data into model\n",
    "dt_model.fit(X_train,y_train)"
   ]
  },
  {
   "cell_type": "code",
   "execution_count": 56,
   "id": "3d8ece9b",
   "metadata": {},
   "outputs": [
    {
     "data": {
      "text/plain": [
       "array([335000., 140200., 119000., 207500., 112000.,  58500., 232600.,\n",
       "       119500., 755000., 156932., 213500., 100000., 244000., 130000.,\n",
       "       144900., 123000., 236000., 126000., 154500., 128000., 141500.,\n",
       "       149000.,  62383., 186500., 139000., 135000., 195000.,  92000.,\n",
       "       271000., 105500., 141000., 178000., 110000., 258000., 253293.,\n",
       "       177000., 190000., 130000., 210000., 315750., 237500., 174000.,\n",
       "       176000., 326000., 290000., 142600., 105500., 142500., 146500.,\n",
       "       135000., 315750., 124000., 218000., 126000., 184000., 130000.,\n",
       "       119500., 226700., 160000.,  87000., 142000.,  55993., 140000.,\n",
       "       155000., 290000., 174000.,  97000., 205950., 147000., 207500.,\n",
       "       176000., 109000., 139000., 194500., 115000., 230000., 132500.,\n",
       "       109500., 325300.,  90000., 135960., 134900., 127000., 147000.,\n",
       "       197000., 194700.,  86000., 202500., 198900.,  60000., 188000.,\n",
       "       177000., 174000., 238000., 206000.,  80000., 190000., 223500.,\n",
       "        88000., 135000., 318000., 200000., 137500., 149500.,  34900.,\n",
       "       336000., 177000.,  81000., 170000., 125000.,  86000., 129000.,\n",
       "       226000., 126000., 179400., 113000., 360000., 129000., 226000.,\n",
       "       205000., 149000., 164500., 160000., 205000., 227000., 233170.,\n",
       "       360000., 176000., 197000., 150000., 176000., 185000., 206900.,\n",
       "       175500., 120500., 290000., 140200., 176000., 103200., 189000.,\n",
       "       123500., 148000., 335000., 148000., 138800., 174000., 279500.,\n",
       "        80000., 318061., 259000., 161500., 200000., 369900., 133900.,\n",
       "       128000., 190000., 135000., 140000., 157000., 183200., 120500.,\n",
       "       148000., 186500., 128500., 239000., 154900., 160000., 348000.,\n",
       "       194700., 194500., 149900., 134900., 207500.,  93500., 137000.,\n",
       "       122900.,  98600., 272000., 117000., 165500., 181000., 172000.,\n",
       "        68400., 318000., 108000., 164000.,  89500., 185000., 202500.,\n",
       "       149000., 126000., 130000., 212900., 126000.,  58500., 156000.,\n",
       "        86000., 140000., 169500., 125000., 143000., 190000.,  87000.,\n",
       "       148000., 137000., 190000., 155000., 305000., 236500.,  58500.,\n",
       "       155000., 278000.,  93500.,  91000., 287000., 294000., 218000.,\n",
       "       260000., 232000.,  75500., 218000., 181000., 105000., 120500.,\n",
       "       191000., 254900., 177500., 223000., 127000., 218000.,  93500.,\n",
       "        78000., 120500., 145000., 231500., 140200., 139000., 107500.,\n",
       "       123500., 149900., 135000., 179000., 275000., 235000., 175500.,\n",
       "        93500., 197500., 173000., 108000., 173000., 139900., 281000.,\n",
       "        98000., 361919., 198900., 230000., 131000., 174000., 184750.,\n",
       "       611657., 130000., 184000., 164000., 116000., 465000., 395192.,\n",
       "       144000.,  84500., 188700., 307000., 143000., 177000., 140200.,\n",
       "       197900., 135900., 236000., 239000., 130500., 215000., 100000.,\n",
       "       119500., 360000., 184000., 117000., 220000., 237500., 113000.,\n",
       "       260400., 451950., 107500.,  72500.,  37900.])"
      ]
     },
     "execution_count": 56,
     "metadata": {},
     "output_type": "execute_result"
    }
   ],
   "source": [
    "y_predict = dt_model.predict(X_valid)\n",
    "y_predict"
   ]
  },
  {
   "cell_type": "code",
   "execution_count": 57,
   "id": "4ddd5aa3",
   "metadata": {},
   "outputs": [
    {
     "data": {
      "text/html": [
       "<div>\n",
       "<style scoped>\n",
       "    .dataframe tbody tr th:only-of-type {\n",
       "        vertical-align: middle;\n",
       "    }\n",
       "\n",
       "    .dataframe tbody tr th {\n",
       "        vertical-align: top;\n",
       "    }\n",
       "\n",
       "    .dataframe thead th {\n",
       "        text-align: right;\n",
       "    }\n",
       "</style>\n",
       "<table border=\"1\" class=\"dataframe\">\n",
       "  <thead>\n",
       "    <tr style=\"text-align: right;\">\n",
       "      <th></th>\n",
       "      <th>y</th>\n",
       "      <th>y_predict</th>\n",
       "    </tr>\n",
       "    <tr>\n",
       "      <th>Id</th>\n",
       "      <th></th>\n",
       "      <th></th>\n",
       "    </tr>\n",
       "  </thead>\n",
       "  <tbody>\n",
       "    <tr>\n",
       "      <th>530</th>\n",
       "      <td>200624</td>\n",
       "      <td>335000.0</td>\n",
       "    </tr>\n",
       "    <tr>\n",
       "      <th>492</th>\n",
       "      <td>133000</td>\n",
       "      <td>140200.0</td>\n",
       "    </tr>\n",
       "    <tr>\n",
       "      <th>460</th>\n",
       "      <td>110000</td>\n",
       "      <td>119000.0</td>\n",
       "    </tr>\n",
       "    <tr>\n",
       "      <th>280</th>\n",
       "      <td>192000</td>\n",
       "      <td>207500.0</td>\n",
       "    </tr>\n",
       "    <tr>\n",
       "      <th>656</th>\n",
       "      <td>88000</td>\n",
       "      <td>112000.0</td>\n",
       "    </tr>\n",
       "    <tr>\n",
       "      <th>...</th>\n",
       "      <td>...</td>\n",
       "      <td>...</td>\n",
       "    </tr>\n",
       "    <tr>\n",
       "      <th>327</th>\n",
       "      <td>324000</td>\n",
       "      <td>260400.0</td>\n",
       "    </tr>\n",
       "    <tr>\n",
       "      <th>441</th>\n",
       "      <td>555000</td>\n",
       "      <td>451950.0</td>\n",
       "    </tr>\n",
       "    <tr>\n",
       "      <th>1388</th>\n",
       "      <td>136000</td>\n",
       "      <td>107500.0</td>\n",
       "    </tr>\n",
       "    <tr>\n",
       "      <th>1324</th>\n",
       "      <td>82500</td>\n",
       "      <td>72500.0</td>\n",
       "    </tr>\n",
       "    <tr>\n",
       "      <th>62</th>\n",
       "      <td>101000</td>\n",
       "      <td>37900.0</td>\n",
       "    </tr>\n",
       "  </tbody>\n",
       "</table>\n",
       "<p>292 rows × 2 columns</p>\n",
       "</div>"
      ],
      "text/plain": [
       "           y  y_predict\n",
       "Id                     \n",
       "530   200624   335000.0\n",
       "492   133000   140200.0\n",
       "460   110000   119000.0\n",
       "280   192000   207500.0\n",
       "656    88000   112000.0\n",
       "...      ...        ...\n",
       "327   324000   260400.0\n",
       "441   555000   451950.0\n",
       "1388  136000   107500.0\n",
       "1324   82500    72500.0\n",
       "62    101000    37900.0\n",
       "\n",
       "[292 rows x 2 columns]"
      ]
     },
     "execution_count": 57,
     "metadata": {},
     "output_type": "execute_result"
    }
   ],
   "source": [
    "pd.DataFrame({'y' : y_valid, 'y_predict' : y_predict})"
   ]
  },
  {
   "cell_type": "code",
   "execution_count": 58,
   "id": "1406105e",
   "metadata": {},
   "outputs": [
    {
     "data": {
      "text/html": [
       "<style>#sk-container-id-4 {color: black;background-color: white;}#sk-container-id-4 pre{padding: 0;}#sk-container-id-4 div.sk-toggleable {background-color: white;}#sk-container-id-4 label.sk-toggleable__label {cursor: pointer;display: block;width: 100%;margin-bottom: 0;padding: 0.3em;box-sizing: border-box;text-align: center;}#sk-container-id-4 label.sk-toggleable__label-arrow:before {content: \"▸\";float: left;margin-right: 0.25em;color: #696969;}#sk-container-id-4 label.sk-toggleable__label-arrow:hover:before {color: black;}#sk-container-id-4 div.sk-estimator:hover label.sk-toggleable__label-arrow:before {color: black;}#sk-container-id-4 div.sk-toggleable__content {max-height: 0;max-width: 0;overflow: hidden;text-align: left;background-color: #f0f8ff;}#sk-container-id-4 div.sk-toggleable__content pre {margin: 0.2em;color: black;border-radius: 0.25em;background-color: #f0f8ff;}#sk-container-id-4 input.sk-toggleable__control:checked~div.sk-toggleable__content {max-height: 200px;max-width: 100%;overflow: auto;}#sk-container-id-4 input.sk-toggleable__control:checked~label.sk-toggleable__label-arrow:before {content: \"▾\";}#sk-container-id-4 div.sk-estimator input.sk-toggleable__control:checked~label.sk-toggleable__label {background-color: #d4ebff;}#sk-container-id-4 div.sk-label input.sk-toggleable__control:checked~label.sk-toggleable__label {background-color: #d4ebff;}#sk-container-id-4 input.sk-hidden--visually {border: 0;clip: rect(1px 1px 1px 1px);clip: rect(1px, 1px, 1px, 1px);height: 1px;margin: -1px;overflow: hidden;padding: 0;position: absolute;width: 1px;}#sk-container-id-4 div.sk-estimator {font-family: monospace;background-color: #f0f8ff;border: 1px dotted black;border-radius: 0.25em;box-sizing: border-box;margin-bottom: 0.5em;}#sk-container-id-4 div.sk-estimator:hover {background-color: #d4ebff;}#sk-container-id-4 div.sk-parallel-item::after {content: \"\";width: 100%;border-bottom: 1px solid gray;flex-grow: 1;}#sk-container-id-4 div.sk-label:hover label.sk-toggleable__label {background-color: #d4ebff;}#sk-container-id-4 div.sk-serial::before {content: \"\";position: absolute;border-left: 1px solid gray;box-sizing: border-box;top: 0;bottom: 0;left: 50%;z-index: 0;}#sk-container-id-4 div.sk-serial {display: flex;flex-direction: column;align-items: center;background-color: white;padding-right: 0.2em;padding-left: 0.2em;position: relative;}#sk-container-id-4 div.sk-item {position: relative;z-index: 1;}#sk-container-id-4 div.sk-parallel {display: flex;align-items: stretch;justify-content: center;background-color: white;position: relative;}#sk-container-id-4 div.sk-item::before, #sk-container-id-4 div.sk-parallel-item::before {content: \"\";position: absolute;border-left: 1px solid gray;box-sizing: border-box;top: 0;bottom: 0;left: 50%;z-index: -1;}#sk-container-id-4 div.sk-parallel-item {display: flex;flex-direction: column;z-index: 1;position: relative;background-color: white;}#sk-container-id-4 div.sk-parallel-item:first-child::after {align-self: flex-end;width: 50%;}#sk-container-id-4 div.sk-parallel-item:last-child::after {align-self: flex-start;width: 50%;}#sk-container-id-4 div.sk-parallel-item:only-child::after {width: 0;}#sk-container-id-4 div.sk-dashed-wrapped {border: 1px dashed gray;margin: 0 0.4em 0.5em 0.4em;box-sizing: border-box;padding-bottom: 0.4em;background-color: white;}#sk-container-id-4 div.sk-label label {font-family: monospace;font-weight: bold;display: inline-block;line-height: 1.2em;}#sk-container-id-4 div.sk-label-container {text-align: center;}#sk-container-id-4 div.sk-container {/* jupyter's `normalize.less` sets `[hidden] { display: none; }` but bootstrap.min.css set `[hidden] { display: none !important; }` so we also need the `!important` here to be able to override the default hidden behavior on the sphinx rendered scikit-learn.org. See: https://github.com/scikit-learn/scikit-learn/issues/21755 */display: inline-block !important;position: relative;}#sk-container-id-4 div.sk-text-repr-fallback {display: none;}</style><div id=\"sk-container-id-4\" class=\"sk-top-container\"><div class=\"sk-text-repr-fallback\"><pre>RandomForestRegressor(random_state=1)</pre><b>In a Jupyter environment, please rerun this cell to show the HTML representation or trust the notebook. <br />On GitHub, the HTML representation is unable to render, please try loading this page with nbviewer.org.</b></div><div class=\"sk-container\" hidden><div class=\"sk-item\"><div class=\"sk-estimator sk-toggleable\"><input class=\"sk-toggleable__control sk-hidden--visually\" id=\"sk-estimator-id-4\" type=\"checkbox\" checked><label for=\"sk-estimator-id-4\" class=\"sk-toggleable__label sk-toggleable__label-arrow\">RandomForestRegressor</label><div class=\"sk-toggleable__content\"><pre>RandomForestRegressor(random_state=1)</pre></div></div></div></div></div>"
      ],
      "text/plain": [
       "RandomForestRegressor(random_state=1)"
      ]
     },
     "execution_count": 58,
     "metadata": {},
     "output_type": "execute_result"
    }
   ],
   "source": [
    "from sklearn.ensemble import RandomForestRegressor, GradientBoostingRegressor\n",
    "rf_model = RandomForestRegressor(random_state = 1)\n",
    "rf_model.fit(X_train,y_train)"
   ]
  },
  {
   "cell_type": "code",
   "execution_count": 59,
   "id": "5533c637",
   "metadata": {},
   "outputs": [
    {
     "data": {
      "text/plain": [
       "array([271690.        , 155039.        , 122024.        , 188915.        ,\n",
       "        91147.        ,  88533.2       , 240518.24      , 126286.        ,\n",
       "       624269.12      , 174312.25333333, 209138.46      , 147714.5       ,\n",
       "       233088.25      , 123139.5       , 140503.75      , 139187.        ,\n",
       "       232538.3       , 134260.        , 145952.24      , 130562.05      ,\n",
       "       129304.53      , 147179.68333333, 112355.46      , 183320.22      ,\n",
       "       153926.5       , 182853.57      , 176891.        ,  86320.        ,\n",
       "       308784.98      , 112746.        , 141734.5       , 190094.        ,\n",
       "       124460.65      , 280081.94      , 317780.6       , 179756.65      ,\n",
       "       218512.64      , 118609.16      , 224329.28      , 304517.56      ,\n",
       "       229449.        , 141422.15333333, 186872.35      , 302902.86      ,\n",
       "       316105.83      , 139820.        , 105783.66      , 127933.25      ,\n",
       "       165361.5       , 118615.5       , 314806.34      , 145952.75      ,\n",
       "       168104.74      , 104321.5       , 230903.86      , 104475.43      ,\n",
       "       127073.67      , 220962.32      , 134331.        , 103772.        ,\n",
       "       142472.        , 121159.87      , 137172.        , 157535.82      ,\n",
       "       238317.89      , 153370.5       , 132462.5       , 213296.08      ,\n",
       "       100501.15      , 207034.3       , 176922.95      , 115179.73      ,\n",
       "       119145.26      , 219613.93      , 119071.64      , 265884.02      ,\n",
       "       139592.5       ,  91393.        , 321720.78      , 153696.5       ,\n",
       "       132748.475     , 129206.4       , 129056.76      , 136215.        ,\n",
       "       239858.7       , 190044.01      , 111229.25      , 202547.9       ,\n",
       "       198464.88      , 128236.25      , 190444.2       , 178476.64      ,\n",
       "       185386.89      , 232633.33      , 183443.15      , 131355.5       ,\n",
       "       209776.78      , 170974.28      , 107571.81      , 130849.75      ,\n",
       "       307472.63      , 212417.15      , 153752.        , 153535.        ,\n",
       "        70977.11      , 291051.58      , 142023.33333333, 113776.36      ,\n",
       "       177632.55      , 121039.91      ,  64540.        , 132775.5       ,\n",
       "       200129.96      , 109796.        , 171477.1       , 141303.34      ,\n",
       "       379344.92      , 130431.        , 199257.        , 239009.08      ,\n",
       "       152198.33333333, 166299.03333333, 132312.        , 193673.        ,\n",
       "       228011.78      , 225480.27      , 370579.67      , 193699.5       ,\n",
       "       194058.35      , 181778.        , 186968.5       , 185745.14      ,\n",
       "       185633.        , 184546.        , 122533.5       , 251232.12      ,\n",
       "       130596.        , 188093.48      , 109434.16      , 185338.        ,\n",
       "       147235.64      , 148487.59      , 250170.        , 145917.68      ,\n",
       "       175268.        , 183785.24      , 229497.98      , 129091.25      ,\n",
       "       282253.66      , 224047.6       , 160011.        , 313718.39      ,\n",
       "       325897.47      , 131110.        , 137479.08      , 228547.92      ,\n",
       "       118973.        , 161729.5       , 149790.8       , 171744.4       ,\n",
       "       125462.1       , 148795.        , 185586.87      , 124288.125     ,\n",
       "       238657.47      , 146472.        , 153023.        , 320900.5       ,\n",
       "       192521.4       , 182268.9       , 163439.22      , 148931.38      ,\n",
       "       203741.04      , 169334.        , 142891.        , 102440.22      ,\n",
       "       129055.68333333, 236459.34      , 108644.28      , 151078.75      ,\n",
       "       199199.        , 172884.5       ,  85111.        , 296611.27      ,\n",
       "       116079.61      , 171556.        ,  88496.58333333, 193473.12      ,\n",
       "       215577.88      , 144093.3       , 134260.        , 137337.        ,\n",
       "       224150.43      , 138055.76      ,  97310.54      , 145669.5       ,\n",
       "        81912.        , 137045.5       , 164732.        , 123940.02      ,\n",
       "       145236.5       , 167402.72      , 100698.5       , 145294.01333333,\n",
       "       132062.87      , 217393.74      , 151816.74      , 249703.        ,\n",
       "       299828.97      ,  75675.8       , 154440.        , 271423.38      ,\n",
       "        99958.87      ,  87986.        , 256185.        , 231986.2       ,\n",
       "       179809.        , 277414.28      , 264852.73      ,  85421.83333333,\n",
       "       194202.        , 171716.        , 143236.46      , 123673.5       ,\n",
       "       196354.7       , 234169.6       , 213669.54      , 269384.        ,\n",
       "       138126.55333333, 181447.5       ,  99184.87      ,  92297.11      ,\n",
       "       122577.5       , 148620.        , 232536.4       , 136200.04      ,\n",
       "       156913.24      , 103420.8       , 127298.        , 170366.5       ,\n",
       "       106606.04      , 195612.15      , 229462.21      , 223218.78      ,\n",
       "       165259.5       , 128302.625     , 176544.86742857, 182924.17      ,\n",
       "       111784.5       , 181067.54      , 159068.32      , 261360.9       ,\n",
       "        87746.14      , 357532.72      , 210126.86      , 278566.06      ,\n",
       "        98601.94      , 236282.46      , 383697.98      , 452103.49      ,\n",
       "       143236.65      , 156256.75      , 172705.5       , 121778.41      ,\n",
       "       427192.36      , 322220.05      , 239785.4       ,  73976.22      ,\n",
       "       171058.        , 307708.33      , 145679.18      , 187698.79      ,\n",
       "       134249.5       , 198488.7       , 128103.5       , 226360.48      ,\n",
       "       204146.        , 169714.37      , 218699.45      , 116743.        ,\n",
       "       126018.5       , 361240.09      , 157760.25      , 134607.36      ,\n",
       "       206879.31      , 221064.        , 100056.17857143, 275931.87      ,\n",
       "       478954.15      , 176038.        ,  78096.        ,  81104.        ])"
      ]
     },
     "execution_count": 59,
     "metadata": {},
     "output_type": "execute_result"
    }
   ],
   "source": [
    "rf_predict =  rf_model.predict(X_valid)\n",
    "rf_predict"
   ]
  },
  {
   "cell_type": "markdown",
   "id": "254b9749",
   "metadata": {},
   "source": [
    "### Predict with a new inout"
   ]
  },
  {
   "cell_type": "code",
   "execution_count": 60,
   "id": "18444fa3",
   "metadata": {},
   "outputs": [
    {
     "data": {
      "text/plain": [
       "array([206158.4])"
      ]
     },
     "execution_count": 60,
     "metadata": {},
     "output_type": "execute_result"
    }
   ],
   "source": [
    "rf_model.predict([[6969,2021,1000,800,4,5,8]])"
   ]
  },
  {
   "cell_type": "markdown",
   "id": "0bf34475",
   "metadata": {},
   "source": [
    "## 5. Model Evaluation"
   ]
  }
 ],
 "metadata": {
  "kernelspec": {
   "display_name": "Python 3 (ipykernel)",
   "language": "python",
   "name": "python3"
  },
  "language_info": {
   "codemirror_mode": {
    "name": "ipython",
    "version": 3
   },
   "file_extension": ".py",
   "mimetype": "text/x-python",
   "name": "python",
   "nbconvert_exporter": "python",
   "pygments_lexer": "ipython3",
   "version": "3.10.9"
  }
 },
 "nbformat": 4,
 "nbformat_minor": 5
}
