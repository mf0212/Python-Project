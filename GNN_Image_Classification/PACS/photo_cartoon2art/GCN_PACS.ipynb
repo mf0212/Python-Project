{
  "cells": [
    {
      "cell_type": "code",
      "execution_count": 1,
      "id": "d4e45a49-974f-4f9c-8642-42e2c45aab71",
      "metadata": {
        "id": "d4e45a49-974f-4f9c-8642-42e2c45aab71"
      },
      "outputs": [],
      "source": [
        "import os\n",
        "from collections import OrderedDict\n",
        "\n",
        "import matplotlib.pyplot as plt\n",
        "import numpy as np\n",
        "import torch\n",
        "import torch.nn as nn\n",
        "import torch.nn.functional as F\n",
        "import torchvision\n",
        "import torchvision.transforms as transforms\n",
        "from torch.optim import Adam\n",
        "from torch.utils.data import DataLoader\n",
        "\n",
        "torch.manual_seed(1)\n",
        "device = \"cuda\" if torch.cuda.is_available() else \"cpu\"\n",
        "\n",
        "# fix seed\n",
        "np.random.seed(123)"
      ]
    },
    {
      "cell_type": "markdown",
      "id": "f913360b-019e-4d69-a540-b7b5715544e1",
      "metadata": {
        "id": "f913360b-019e-4d69-a540-b7b5715544e1"
      },
      "source": [
        "## Data"
      ]
    },
    {
      "cell_type": "code",
      "execution_count": 3,
      "id": "2e53dbce",
      "metadata": {},
      "outputs": [],
      "source": [
        "# means and standard deviations ImageNet because the network is pretrained\n",
        "means, stds = (0.485, 0.456, 0.406), (0.229, 0.224, 0.225)\n",
        "\n",
        "# Define transforms to apply to each image\n",
        "transf = transforms.Compose(\n",
        "    [\n",
        "        transforms.CenterCrop(224),\n",
        "        transforms.ToTensor(),\n",
        "        transforms.Normalize(means, stds),\n",
        "    ]\n",
        ")"
      ]
    },
    {
      "cell_type": "code",
      "execution_count": 4,
      "id": "3ad21976-2d99-49b7-b0b5-84e9ebcd371e",
      "metadata": {
        "id": "3ad21976-2d99-49b7-b0b5-84e9ebcd371e",
        "outputId": "141aeb93-cb68-4184-947c-9b30ac4b3591"
      },
      "outputs": [
        {
          "name": "stdout",
          "output_type": "stream",
          "text": [
            "Photo Dataset: 1670\n",
            "Art Dataset: 2048\n",
            "Cartoon Dataset: 2344\n",
            "Sketch Dataset: 3929\n"
          ]
        }
      ],
      "source": [
        "# Clone github repository with data\n",
        "if not os.path.isdir(\"./Homework3-PACS\"):\n",
        "    !git clone https://github.com/MachineLearning2020/Homework3-PACS\n",
        "\n",
        "# Define datasets root\n",
        "DIR_PHOTO = \"Homework3-PACS/PACS/photo\"\n",
        "DIR_ART = \"Homework3-PACS/PACS/art_painting\"\n",
        "DIR_CARTOON = \"Homework3-PACS/PACS/cartoon\"\n",
        "DIR_SKETCH = \"Homework3-PACS/PACS/sketch\"\n",
        "\n",
        "# Prepare Pytorch train/test Datasets\n",
        "photo_dataset = torchvision.datasets.ImageFolder(DIR_PHOTO, transform=transf)\n",
        "art_dataset = torchvision.datasets.ImageFolder(DIR_ART, transform=transf)\n",
        "cartoon_dataset = torchvision.datasets.ImageFolder(DIR_CARTOON, transform=transf)\n",
        "sketch_dataset = torchvision.datasets.ImageFolder(DIR_SKETCH, transform=transf)\n",
        "\n",
        "# Check dataset sizes\n",
        "print(f\"Photo Dataset: {len(photo_dataset)}\")\n",
        "print(f\"Art Dataset: {len(art_dataset)}\")\n",
        "print(f\"Cartoon Dataset: {len(cartoon_dataset)}\")\n",
        "print(f\"Sketch Dataset: {len(sketch_dataset)}\")"
      ]
    },
    {
      "cell_type": "code",
      "execution_count": 5,
      "id": "3d95e2dc",
      "metadata": {},
      "outputs": [],
      "source": [
        "train_dataset = torch.utils.data.ConcatDataset([photo_dataset, cartoon_dataset])\n",
        "\n",
        "# Split dataset into train and test\n",
        "train_size = int(0.8 * len(train_dataset))\n",
        "test_size = len(train_dataset) - train_size\n",
        "\n",
        "\n",
        "train_dataset, test_dataset = torch.utils.data.random_split(\n",
        "    train_dataset, [train_size, test_size]\n",
        ")"
      ]
    },
    {
      "cell_type": "code",
      "execution_count": 6,
      "id": "530ad1bc",
      "metadata": {},
      "outputs": [],
      "source": [
        "# Concatenate all datasets\n",
        "test_datasets = torch.utils.data.ConcatDataset([test_dataset, art_dataset])\n",
        "\n",
        "# Create Dataloaders\n",
        "trainloader = DataLoader(\n",
        "    train_dataset, batch_size=128, shuffle=True, num_workers=4, drop_last=True\n",
        ")\n",
        "testloader = DataLoader(test_datasets, batch_size=128, shuffle=False, num_workers=4)"
      ]
    },
    {
      "cell_type": "code",
      "execution_count": 7,
      "id": "a34fc88a",
      "metadata": {},
      "outputs": [
        {
          "name": "stdout",
          "output_type": "stream",
          "text": [
            "Train batches: 25\n",
            "Test batches: 23\n"
          ]
        }
      ],
      "source": [
        "print(f\"Train batches: {len(trainloader)}\")\n",
        "print(f\"Test batches: {len(testloader)}\")"
      ]
    },
    {
      "cell_type": "markdown",
      "id": "6ea0dde8-29e7-4096-bd15-6a5ed74655f0",
      "metadata": {
        "id": "6ea0dde8-29e7-4096-bd15-6a5ed74655f0"
      },
      "source": [
        "## Model"
      ]
    },
    {
      "cell_type": "code",
      "execution_count": 8,
      "id": "07ae0662",
      "metadata": {},
      "outputs": [],
      "source": [
        "class GCN(nn.Module):\n",
        "    def __init__(self, in_features, edge_features, out_feature, device, ratio=(1,)):\n",
        "        super(GCN, self).__init__()\n",
        "\n",
        "        self.edge_net = EdgeNet(\n",
        "            in_features=in_features,\n",
        "            num_features=edge_features,\n",
        "            device=device,\n",
        "            ratio=ratio,\n",
        "        )\n",
        "        # set edge to node\n",
        "        self.node_net = NodeNet(\n",
        "            in_features=in_features,\n",
        "            num_features=out_feature,\n",
        "            device=device,\n",
        "            ratio=ratio,\n",
        "        )\n",
        "        # mask value for no-gradient edges\n",
        "        self.mask_val = -1\n",
        "\n",
        "    def label2edge(self, targets):\n",
        "        \"\"\"convert node labels to affinity mask for backprop\"\"\"\n",
        "        num_sample = targets.size()[1]\n",
        "        label_i = targets.unsqueeze(-1).repeat(1, 1, num_sample)\n",
        "        label_j = label_i.transpose(1, 2)\n",
        "        edge = torch.eq(label_i, label_j).float()\n",
        "        target_edge_mask = (\n",
        "            torch.eq(label_i, self.mask_val) + torch.eq(label_j, self.mask_val)\n",
        "        ).type(torch.bool)\n",
        "        source_edge_mask = ~target_edge_mask\n",
        "        init_edge = edge * source_edge_mask.float()\n",
        "        return init_edge[0], source_edge_mask\n",
        "\n",
        "    def forward(self, init_node_feat):\n",
        "        #  compute normalized and not normalized affinity matrix\n",
        "        edge_feat, edge_sim = self.edge_net(init_node_feat)\n",
        "        # compute node features and class logits\n",
        "        logits_gnn = self.node_net(init_node_feat, edge_feat)\n",
        "        return logits_gnn, edge_sim\n",
        "\n",
        "\n",
        "class NodeNet(nn.Module):\n",
        "    def __init__(self, in_features, num_features, device, ratio=(1,)):\n",
        "        super(NodeNet, self).__init__()\n",
        "        num_features_list = [num_features * r for r in ratio]\n",
        "        self.device = device\n",
        "        # define layers\n",
        "        layer_list = OrderedDict()\n",
        "        for l in range(len(num_features_list)):\n",
        "            layer_list[\"conv{}\".format(l)] = nn.Conv2d(\n",
        "                in_channels=num_features_list[l - 1] if l > 0 else in_features * 2,\n",
        "                out_channels=num_features_list[l],\n",
        "                kernel_size=1,\n",
        "                bias=False,\n",
        "            )\n",
        "            layer_list[\"norm{}\".format(l)] = nn.BatchNorm2d(\n",
        "                num_features=num_features_list[l]\n",
        "            )\n",
        "            if l < (len(num_features_list) - 1):\n",
        "                layer_list[\"relu{}\".format(l)] = nn.LeakyReLU()\n",
        "        self.network = nn.Sequential(layer_list).to(device)\n",
        "\n",
        "    def forward(self, node_feat, edge_feat):\n",
        "        \"\"\"node_feat: (bs, dim), edge_feat: (bs, bs)\"\"\"\n",
        "        node_feat = node_feat.unsqueeze(dim=0)  # (1, bs, dim)\n",
        "        num_tasks = node_feat.size(0)  # 1\n",
        "        num_data = node_feat.size(1)  # bs\n",
        "        # get eye matrix (batch_size x node_size x node_size) only use inter dist.\n",
        "        diag_mask = 1.0 - torch.eye(num_data).unsqueeze(0).repeat(num_tasks, 1, 1).to(\n",
        "            self.device\n",
        "        )  # (1, bs, bs)\n",
        "        # set diagonal as zero and normalize\n",
        "        edge_feat = F.normalize(edge_feat * diag_mask, p=1, dim=-1)  # (bs, bs)\n",
        "        # compute attention and aggregate\n",
        "        aggr_feat = torch.bmm(edge_feat.squeeze(1), node_feat)  # (bs, dim)\n",
        "        node_feat = torch.cat([node_feat, aggr_feat], -1).transpose(\n",
        "            1, 2\n",
        "        )  # (1, 2*dim, bs)\n",
        "        # non-linear transform\n",
        "        node_feat = self.network(node_feat.unsqueeze(-1)).transpose(\n",
        "            1, 2\n",
        "        )  # (1, bs, dim)\n",
        "        node_feat = node_feat.squeeze(-1).squeeze(0)  # (bs, dim)\n",
        "        return node_feat\n",
        "\n",
        "\n",
        "class EdgeNet(nn.Module):\n",
        "    def __init__(self, in_features, num_features, device, ratio=(1,)):\n",
        "        super(EdgeNet, self).__init__()\n",
        "        num_features_list = [num_features * r for r in ratio]\n",
        "        self.device = device\n",
        "        # define layers\n",
        "        layer_list = OrderedDict()\n",
        "        for l in range(len(num_features_list)):\n",
        "            layer_list[\"conv{}\".format(l)] = nn.Conv2d(\n",
        "                in_channels=num_features_list[l - 1] if l > 0 else in_features,\n",
        "                out_channels=num_features_list[l],\n",
        "                kernel_size=1,\n",
        "                bias=False,\n",
        "            )\n",
        "            layer_list[\"norm{}\".format(l)] = nn.BatchNorm2d(\n",
        "                num_features=num_features_list[l]\n",
        "            )\n",
        "            layer_list[\"relu{}\".format(l)] = nn.LeakyReLU()\n",
        "        # add final similarity kernel\n",
        "        layer_list[\"conv_out\"] = nn.Conv2d(\n",
        "            in_channels=num_features_list[-1], out_channels=1, kernel_size=1\n",
        "        )\n",
        "        self.sim_network = nn.Sequential(layer_list).to(device)\n",
        "\n",
        "    def forward(self, node_feat):\n",
        "        node_feat = node_feat.unsqueeze(dim=0)  # (1, bs, dim)\n",
        "        num_tasks = node_feat.size(0)  # 1\n",
        "        num_data = node_feat.size(1)  # bs\n",
        "        x_i = node_feat.unsqueeze(2)  # (1, bs, 1, dim)\n",
        "        x_j = torch.transpose(x_i, 1, 2)  # (1, 1, bs, dim)\n",
        "        x_ij = torch.abs(x_i - x_j)  # (1, bs, bs, dim)\n",
        "        x_ij = torch.transpose(x_ij, 1, 3)  # (1, dim, bs, bs)\n",
        "        # compute similarity/dissimilarity (batch_size x feat_size x num_samples x num_samples)\n",
        "        sim_val = (\n",
        "            torch.sigmoid(self.sim_network(x_ij)).squeeze(1).squeeze(0).to(self.device)\n",
        "        )  # (bs, bs)\n",
        "        # normalize affinity matrix\n",
        "        force_edge_feat = (\n",
        "            torch.eye(num_data).unsqueeze(0).repeat(num_tasks, 1, 1).to(self.device)\n",
        "        )  # (1, bs, bs)\n",
        "        edge_feat = sim_val + force_edge_feat  # (bs, bs)\n",
        "        edge_feat = edge_feat + 1e-6  # add small value to avoid nan\n",
        "        edge_feat = edge_feat / torch.sum(edge_feat, dim=1).unsqueeze(1)  # normalize\n",
        "        return edge_feat, sim_val  # (bs, bs), (bs, bs)"
      ]
    },
    {
      "cell_type": "code",
      "execution_count": 9,
      "id": "15910cb0",
      "metadata": {},
      "outputs": [],
      "source": [
        "from torchvision.models import mobilenet_v3_small\n",
        "\n",
        "\n",
        "class Model(nn.Module):\n",
        "    def __init__(self, num_classes=7):\n",
        "        super(Model, self).__init__()\n",
        "        self.backbone = mobilenet_v3_small(pretrained=True)\n",
        "        self.backbone.classifier = nn.Sequential()\n",
        "\n",
        "        self.gcn = GCN(\n",
        "            in_features=576,\n",
        "            edge_features=576,\n",
        "            out_feature=num_classes,\n",
        "            device=\"cuda\",\n",
        "            ratio=(1,),\n",
        "        )\n",
        "\n",
        "    def forward(self, x):\n",
        "        x = self.backbone(x)\n",
        "        x, edge_sim = self.gcn(x)\n",
        "        return x, edge_sim"
      ]
    },
    {
      "cell_type": "code",
      "execution_count": 10,
      "id": "b6a3ffdc",
      "metadata": {},
      "outputs": [
        {
          "name": "stderr",
          "output_type": "stream",
          "text": [
            "/home/gb2t/anaconda3/envs/duc_open_sora/lib/python3.8/site-packages/torchvision/models/_utils.py:208: UserWarning: The parameter 'pretrained' is deprecated since 0.13 and may be removed in the future, please use 'weights' instead.\n",
            "  warnings.warn(\n",
            "/home/gb2t/anaconda3/envs/duc_open_sora/lib/python3.8/site-packages/torchvision/models/_utils.py:223: UserWarning: Arguments other than a weight enum or `None` for 'weights' are deprecated since 0.13 and may be removed in the future. The current behavior is equivalent to passing `weights=MobileNet_V3_Small_Weights.IMAGENET1K_V1`. You can also use `weights=MobileNet_V3_Small_Weights.DEFAULT` to get the most up-to-date weights.\n",
            "  warnings.warn(msg)\n"
          ]
        }
      ],
      "source": [
        "model = Model(num_classes=7).to(device)"
      ]
    },
    {
      "cell_type": "code",
      "execution_count": null,
      "id": "61b03fcd",
      "metadata": {},
      "outputs": [],
      "source": []
    },
    {
      "cell_type": "markdown",
      "id": "43c7b151-a199-4e2a-8015-fdfb5f166284",
      "metadata": {
        "id": "43c7b151-a199-4e2a-8015-fdfb5f166284"
      },
      "source": [
        "# Train"
      ]
    },
    {
      "cell_type": "code",
      "execution_count": 11,
      "id": "1464e2bd-b627-475d-9941-f2a930d69a14",
      "metadata": {
        "id": "1464e2bd-b627-475d-9941-f2a930d69a14"
      },
      "outputs": [],
      "source": [
        "criterion = nn.CrossEntropyLoss()\n",
        "criterion_edge = nn.BCELoss()\n",
        "optimizer = Adam(model.parameters(), lr=1e-4)"
      ]
    },
    {
      "cell_type": "code",
      "execution_count": 12,
      "id": "04744c84-1e6d-4bfb-8dd5-abbdc91f102e",
      "metadata": {
        "id": "04744c84-1e6d-4bfb-8dd5-abbdc91f102e"
      },
      "outputs": [],
      "source": [
        "# Function to compute loss and accuracy for test set\n",
        "def evaluate(model, testloader, criterion):\n",
        "    model.eval()\n",
        "    test_loss = 0.0\n",
        "    running_correct = 0\n",
        "    total = 0\n",
        "    with torch.no_grad():\n",
        "        for images, labels in testloader:\n",
        "            # Move inputs and labels to the device\n",
        "            images, labels = images.to(device), labels.to(device)\n",
        "\n",
        "            outputs, edge_sim = model(images)\n",
        "            # Cls loss\n",
        "            loss_cls = criterion(outputs, labels)\n",
        "\n",
        "            # Edge loss\n",
        "            edge_gt, edge_mask = model.gcn.label2edge(labels.unsqueeze(dim=0))\n",
        "            loss_edge = criterion_edge(\n",
        "                edge_sim.masked_select(edge_mask), edge_gt.masked_select(edge_mask)\n",
        "            )\n",
        "\n",
        "            # Total loss\n",
        "            loss = 0.3 * loss_cls + loss_edge\n",
        "\n",
        "            test_loss += loss.item()\n",
        "\n",
        "            _, predicted = torch.max(outputs.data, 1)\n",
        "            total += labels.size(0)\n",
        "            running_correct += (predicted == labels).sum().item()\n",
        "\n",
        "    accuracy = 100 * running_correct / total\n",
        "    test_loss = test_loss / len(testloader)\n",
        "    return test_loss, accuracy"
      ]
    },
    {
      "cell_type": "code",
      "execution_count": 13,
      "id": "f2402591-e7f7-4bdd-8962-c029cfcd9307",
      "metadata": {
        "id": "f2402591-e7f7-4bdd-8962-c029cfcd9307"
      },
      "outputs": [],
      "source": [
        "# some parameter\n",
        "train_losses = []\n",
        "train_accuracies = []\n",
        "test_losses = []\n",
        "test_accuracies = []\n",
        "max_epoch = 50"
      ]
    },
    {
      "cell_type": "code",
      "execution_count": 14,
      "id": "190a58e1-0864-4818-a8d2-0f83212c6d13",
      "metadata": {
        "id": "190a58e1-0864-4818-a8d2-0f83212c6d13",
        "outputId": "3724347d-79a0-421d-e565-81297021a64d"
      },
      "outputs": [
        {
          "name": "stdout",
          "output_type": "stream",
          "text": [
            "Epoch [ 1/ 50] \t Loss: 1.14268     Accuracy: 48.188% \t Test Loss: 1.22953     Test Accuracy: 37.74%\n",
            "Epoch [ 2/ 50] \t Loss: 0.71488     Accuracy: 80.000% \t Test Loss: 1.15348     Test Accuracy: 52.44%\n",
            "Epoch [ 3/ 50] \t Loss: 0.53359     Accuracy: 87.469% \t Test Loss: 1.07789     Test Accuracy: 64.61%\n",
            "Epoch [ 4/ 50] \t Loss: 0.42863     Accuracy: 91.312% \t Test Loss: 0.96711     Test Accuracy: 70.92%\n",
            "Epoch [ 5/ 50] \t Loss: 0.36470     Accuracy: 93.406% \t Test Loss: 0.88626     Test Accuracy: 74.25%\n",
            "Epoch [ 6/ 50] \t Loss: 0.31439     Accuracy: 94.812% \t Test Loss: 0.80671     Test Accuracy: 76.25%\n",
            "Epoch [ 7/ 50] \t Loss: 0.27854     Accuracy: 96.406% \t Test Loss: 0.75559     Test Accuracy: 77.38%\n",
            "Epoch [ 8/ 50] \t Loss: 0.24543     Accuracy: 97.375% \t Test Loss: 0.72306     Test Accuracy: 79.02%\n",
            "Epoch [ 9/ 50] \t Loss: 0.21869     Accuracy: 98.188% \t Test Loss: 0.69936     Test Accuracy: 80.04%\n",
            "Epoch [10/ 50] \t Loss: 0.19651     Accuracy: 98.625% \t Test Loss: 0.66878     Test Accuracy: 82.01%\n",
            "Epoch [11/ 50] \t Loss: 0.17486     Accuracy: 99.062% \t Test Loss: 0.66753     Test Accuracy: 81.27%\n",
            "Epoch [12/ 50] \t Loss: 0.15855     Accuracy: 99.312% \t Test Loss: 0.66263     Test Accuracy: 82.29%\n",
            "Epoch [13/ 50] \t Loss: 0.14453     Accuracy: 99.750% \t Test Loss: 0.66986     Test Accuracy: 82.74%\n",
            "Epoch [14/ 50] \t Loss: 0.13353     Accuracy: 99.844% \t Test Loss: 0.66386     Test Accuracy: 82.74%\n",
            "Epoch [15/ 50] \t Loss: 0.12513     Accuracy: 99.969% \t Test Loss: 0.66673     Test Accuracy: 83.97%\n",
            "Epoch [16/ 50] \t Loss: 0.11834     Accuracy: 100.000% \t Test Loss: 0.67566     Test Accuracy: 84.08%\n",
            "Epoch [17/ 50] \t Loss: 0.11330     Accuracy: 100.000% \t Test Loss: 0.66970     Test Accuracy: 84.50%\n",
            "Epoch [18/ 50] \t Loss: 0.11142     Accuracy: 99.969% \t Test Loss: 0.69620     Test Accuracy: 83.80%\n",
            "Epoch [19/ 50] \t Loss: 0.10810     Accuracy: 100.000% \t Test Loss: 0.70346     Test Accuracy: 83.41%\n",
            "Epoch [20/ 50] \t Loss: 0.10426     Accuracy: 100.000% \t Test Loss: 0.70246     Test Accuracy: 84.29%\n",
            "Epoch [21/ 50] \t Loss: 0.10253     Accuracy: 100.000% \t Test Loss: 0.68514     Test Accuracy: 85.16%\n",
            "Epoch [22/ 50] \t Loss: 0.09991     Accuracy: 100.000% \t Test Loss: 0.69354     Test Accuracy: 84.60%\n",
            "Epoch [23/ 50] \t Loss: 0.09862     Accuracy: 100.000% \t Test Loss: 0.70307     Test Accuracy: 84.78%\n",
            "Epoch [24/ 50] \t Loss: 0.09589     Accuracy: 100.000% \t Test Loss: 0.71122     Test Accuracy: 84.50%\n",
            "Epoch [25/ 50] \t Loss: 0.09491     Accuracy: 100.000% \t Test Loss: 0.71213     Test Accuracy: 84.18%\n",
            "Epoch [26/ 50] \t Loss: 0.09385     Accuracy: 100.000% \t Test Loss: 0.72296     Test Accuracy: 84.57%\n",
            "Epoch [27/ 50] \t Loss: 0.09203     Accuracy: 100.000% \t Test Loss: 0.71409     Test Accuracy: 85.16%\n",
            "Epoch [28/ 50] \t Loss: 0.09237     Accuracy: 100.000% \t Test Loss: 0.71809     Test Accuracy: 85.58%\n",
            "Epoch [29/ 50] \t Loss: 0.09148     Accuracy: 100.000% \t Test Loss: 0.74123     Test Accuracy: 84.88%\n",
            "Epoch [30/ 50] \t Loss: 0.09026     Accuracy: 100.000% \t Test Loss: 0.73104     Test Accuracy: 84.99%\n",
            "Epoch [31/ 50] \t Loss: 0.08866     Accuracy: 100.000% \t Test Loss: 0.73915     Test Accuracy: 84.64%\n",
            "Epoch [32/ 50] \t Loss: 0.08788     Accuracy: 100.000% \t Test Loss: 0.73152     Test Accuracy: 85.30%\n",
            "Epoch [33/ 50] \t Loss: 0.08758     Accuracy: 100.000% \t Test Loss: 0.72690     Test Accuracy: 85.16%\n",
            "Epoch [34/ 50] \t Loss: 0.08685     Accuracy: 100.000% \t Test Loss: 0.72667     Test Accuracy: 85.34%\n",
            "Epoch [35/ 50] \t Loss: 0.08497     Accuracy: 100.000% \t Test Loss: 0.72720     Test Accuracy: 85.34%\n",
            "Epoch [36/ 50] \t Loss: 0.08571     Accuracy: 100.000% \t Test Loss: 0.72949     Test Accuracy: 85.13%\n",
            "Epoch [37/ 50] \t Loss: 0.08500     Accuracy: 100.000% \t Test Loss: 0.74064     Test Accuracy: 84.88%\n",
            "Epoch [38/ 50] \t Loss: 0.08356     Accuracy: 100.000% \t Test Loss: 0.74030     Test Accuracy: 85.06%\n",
            "Epoch [39/ 50] \t Loss: 0.08183     Accuracy: 100.000% \t Test Loss: 0.73680     Test Accuracy: 85.34%\n",
            "Epoch [40/ 50] \t Loss: 0.08343     Accuracy: 100.000% \t Test Loss: 0.73873     Test Accuracy: 85.23%\n",
            "Epoch [41/ 50] \t Loss: 0.08111     Accuracy: 100.000% \t Test Loss: 0.73137     Test Accuracy: 85.48%\n",
            "Epoch [42/ 50] \t Loss: 0.08115     Accuracy: 100.000% \t Test Loss: 0.73071     Test Accuracy: 85.62%\n",
            "Epoch [43/ 50] \t Loss: 0.08175     Accuracy: 100.000% \t Test Loss: 0.74760     Test Accuracy: 85.27%\n",
            "Epoch [44/ 50] \t Loss: 0.07999     Accuracy: 100.000% \t Test Loss: 0.74066     Test Accuracy: 85.30%\n",
            "Epoch [45/ 50] \t Loss: 0.07984     Accuracy: 100.000% \t Test Loss: 0.75001     Test Accuracy: 85.27%\n",
            "Epoch [46/ 50] \t Loss: 0.07796     Accuracy: 100.000% \t Test Loss: 0.74040     Test Accuracy: 85.41%\n",
            "Epoch [47/ 50] \t Loss: 0.07907     Accuracy: 100.000% \t Test Loss: 0.75842     Test Accuracy: 84.81%\n",
            "Epoch [48/ 50] \t Loss: 0.07791     Accuracy: 100.000% \t Test Loss: 0.76122     Test Accuracy: 84.32%\n",
            "Epoch [49/ 50] \t Loss: 0.07677     Accuracy: 100.000% \t Test Loss: 0.75877     Test Accuracy: 84.92%\n",
            "Epoch [50/ 50] \t Loss: 0.07728     Accuracy: 100.000% \t Test Loss: 0.76037     Test Accuracy: 85.02%\n"
          ]
        }
      ],
      "source": [
        "# train\n",
        "for epoch in range(max_epoch):\n",
        "    model.train()\n",
        "    running_loss = 0.0\n",
        "    running_correct = 0  # to track number of correct predictions\n",
        "    total = 0  # to track total number of samples\n",
        "\n",
        "    for i, (inputs, labels) in enumerate(trainloader, 0):\n",
        "        # Move inputs and labels to the device\n",
        "        inputs, labels = inputs.to(device), labels.to(device)\n",
        "\n",
        "        # Zero the parameter gradients\n",
        "        optimizer.zero_grad()\n",
        "\n",
        "        # Forward pass\n",
        "        outputs, edge_sim = model(inputs)\n",
        "\n",
        "        # Cls loss\n",
        "        loss_cls = criterion(outputs, labels)\n",
        "\n",
        "        # Edge loss\n",
        "        edge_gt, edge_mask = model.gcn.label2edge(labels.unsqueeze(dim=0))\n",
        "        loss_edge = criterion_edge(\n",
        "            edge_sim.masked_select(edge_mask), edge_gt.masked_select(edge_mask)\n",
        "        )\n",
        "\n",
        "        # Total loss\n",
        "        loss = 0.3 * loss_cls + loss_edge\n",
        "\n",
        "        running_loss += loss.item()\n",
        "\n",
        "        # Backward pass and optimization\n",
        "        loss.backward()\n",
        "        optimizer.step()\n",
        "\n",
        "        # Determine class predictions and track accuracy\n",
        "        _, predicted = torch.max(outputs.data, 1)\n",
        "        total += labels.size(0)\n",
        "        running_correct += (predicted == labels).sum().item()\n",
        "\n",
        "    epoch_accuracy = 100 * running_correct / total\n",
        "    epoch_loss = running_loss / (i + 1)\n",
        "\n",
        "    test_loss, test_accuracy = evaluate(model, testloader, criterion)\n",
        "    print(\n",
        "        f\"Epoch [{(epoch + 1):2}/{max_epoch:3}] \\t Loss: {epoch_loss:<11.5f} Accuracy: {epoch_accuracy:.3f}% \\t Test Loss: {test_loss:<11.5f} Test Accuracy: {test_accuracy:.2f}%\"\n",
        "    )\n",
        "\n",
        "    # save for plot\n",
        "    train_losses.append(epoch_loss)\n",
        "    train_accuracies.append(epoch_accuracy)\n",
        "    test_losses.append(test_loss)\n",
        "    test_accuracies.append(test_accuracy)"
      ]
    },
    {
      "cell_type": "code",
      "execution_count": 15,
      "id": "cebcb439-88f2-40b6-9a17-4990ad324731",
      "metadata": {
        "id": "cebcb439-88f2-40b6-9a17-4990ad324731",
        "outputId": "7ad0b1ef-641d-447f-af55-8cee47220cf8"
      },
      "outputs": [
        {
          "name": "stdout",
          "output_type": "stream",
          "text": [
            "\n",
            "Best epoch: 42 with test accuracy: 85.62%\n"
          ]
        }
      ],
      "source": [
        "# the best accuracy\n",
        "best_epoch = np.argmax(test_accuracies)\n",
        "print(\n",
        "    f\"\\nBest epoch: {best_epoch + 1} with test accuracy: {test_accuracies[best_epoch]:.2f}%\"\n",
        ")"
      ]
    },
    {
      "cell_type": "markdown",
      "id": "z0RuEa2Wo44e",
      "metadata": {
        "id": "z0RuEa2Wo44e"
      },
      "source": [
        "# Plot results"
      ]
    },
    {
      "cell_type": "code",
      "execution_count": 16,
      "id": "DkC3_902Lgn-",
      "metadata": {
        "id": "DkC3_902Lgn-",
        "outputId": "980415bb-e7bf-4cd0-f937-7bdb4bbeeb21"
      },
      "outputs": [
        {
          "data": {
            "text/plain": [
              "<matplotlib.legend.Legend at 0x715a017ad850>"
            ]
          },
          "execution_count": 16,
          "metadata": {},
          "output_type": "execute_result"
        },
        {
          "data": {
            "image/png": "[encoded data removed]",
            "text/plain": [
              "<Figure size 640x480 with 1 Axes>"
            ]
          },
          "metadata": {},
          "output_type": "display_data"
        }
      ],
      "source": [
        "plt.plot(train_losses, label=\"train_losses\")\n",
        "plt.plot(test_losses, label=\"test_losses\")\n",
        "plt.legend()"
      ]
    },
    {
      "cell_type": "code",
      "execution_count": 17,
      "id": "794f4e81",
      "metadata": {
        "id": "794f4e81",
        "outputId": "bf94f552-5d0c-4673-aa28-ab1ea2622dc1"
      },
      "outputs": [
        {
          "data": {
            "text/plain": [
              "<matplotlib.legend.Legend at 0x715a016ff6d0>"
            ]
          },
          "execution_count": 17,
          "metadata": {},
          "output_type": "execute_result"
        },
        {
          "data": {
            "image/png": "[encoded data removed]",
            "text/plain": [
              "<Figure size 640x480 with 1 Axes>"
            ]
          },
          "metadata": {},
          "output_type": "display_data"
        }
      ],
      "source": [
        "plt.plot(train_accuracies, label=\"train_accuracy\")\n",
        "plt.plot(test_accuracies, label=\"test_accuracy\")\n",
        "plt.legend()"
      ]
    },
    {
      "cell_type": "code",
      "execution_count": 18,
      "id": "a2ec7c96-ff05-4863-92e7-c45f2f0e3d03",
      "metadata": {
        "id": "a2ec7c96-ff05-4863-92e7-c45f2f0e3d03"
      },
      "outputs": [],
      "source": [
        "# save model\n",
        "# torch.save(model.state_dict(), 'mobilenetv3_small.pth')"
      ]
    },
    {
      "cell_type": "code",
      "execution_count": null,
      "id": "a9f0e913",
      "metadata": {},
      "outputs": [],
      "source": []
    }
  ],
  "metadata": {
    "accelerator": "GPU",
    "colab": {
      "provenance": []
    },
    "gpuClass": "standard",
    "kernelspec": {
      "display_name": "Python 3 (ipykernel)",
      "language": "python",
      "name": "python3"
    },
    "language_info": {
      "codemirror_mode": {
        "name": "ipython",
        "version": 3
      },
      "file_extension": ".py",
      "mimetype": "text/x-python",
      "name": "python",
      "nbconvert_exporter": "python",
      "pygments_lexer": "ipython3",
      "version": "3.8.18"
    }
  },
  "nbformat": 4,
  "nbformat_minor": 5
}
