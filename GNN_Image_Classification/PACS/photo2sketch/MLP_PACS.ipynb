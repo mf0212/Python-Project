{
  "cells": [
    {
      "cell_type": "code",
      "execution_count": 1,
      "id": "d4e45a49-974f-4f9c-8642-42e2c45aab71",
      "metadata": {
        "id": "d4e45a49-974f-4f9c-8642-42e2c45aab71"
      },
      "outputs": [],
      "source": [
        "import os\n",
        "\n",
        "import matplotlib.pyplot as plt\n",
        "import numpy as np\n",
        "import torch\n",
        "import torch.nn as nn\n",
        "import torchvision\n",
        "import torchvision.transforms as transforms\n",
        "from torch.optim import Adam\n",
        "from torch.utils.data import DataLoader\n",
        "\n",
        "torch.manual_seed(1)\n",
        "device = \"cuda\" if torch.cuda.is_available() else \"cpu\"\n",
        "\n",
        "# fix seed\n",
        "np.random.seed(0)"
      ]
    },
    {
      "cell_type": "markdown",
      "id": "f913360b-019e-4d69-a540-b7b5715544e1",
      "metadata": {
        "id": "f913360b-019e-4d69-a540-b7b5715544e1"
      },
      "source": [
        "## Data"
      ]
    },
    {
      "cell_type": "code",
      "execution_count": 3,
      "id": "2e53dbce",
      "metadata": {},
      "outputs": [],
      "source": [
        "# means and standard deviations ImageNet because the network is pretrained\n",
        "means, stds = (0.485, 0.456, 0.406), (0.229, 0.224, 0.225)\n",
        "\n",
        "# Define transforms to apply to each image\n",
        "transf = transforms.Compose(\n",
        "    [  # transforms.Resize(227),      # Resizes short size of the PIL image to 256\n",
        "        transforms.CenterCrop(\n",
        "            224\n",
        "        ),  # Crops a central square patch of the image 224 because torchvision's AlexNet needs a 224x224 input!\n",
        "        transforms.ToTensor(),  # Turn PIL Image to torch.Tensor\n",
        "        transforms.Normalize(\n",
        "            means, stds\n",
        "        ),  # Normalizes tensor with mean and standard deviation\n",
        "    ]\n",
        ")"
      ]
    },
    {
      "cell_type": "code",
      "execution_count": 4,
      "id": "3ad21976-2d99-49b7-b0b5-84e9ebcd371e",
      "metadata": {
        "id": "3ad21976-2d99-49b7-b0b5-84e9ebcd371e",
        "outputId": "141aeb93-cb68-4184-947c-9b30ac4b3591"
      },
      "outputs": [
        {
          "name": "stdout",
          "output_type": "stream",
          "text": [
            "Photo Dataset: 1670\n",
            "Art Dataset: 2048\n",
            "Cartoon Dataset: 2344\n",
            "Sketch Dataset: 3929\n"
          ]
        }
      ],
      "source": [
        "# Clone github repository with data\n",
        "if not os.path.isdir(\"./Homework3-PACS\"):\n",
        "    !git clone https://github.com/MachineLearning2020/Homework3-PACS\n",
        "\n",
        "# Define datasets root\n",
        "DIR_PHOTO = \"Homework3-PACS/PACS/photo\"\n",
        "DIR_ART = \"Homework3-PACS/PACS/art_painting\"\n",
        "DIR_CARTOON = \"Homework3-PACS/PACS/cartoon\"\n",
        "DIR_SKETCH = \"Homework3-PACS/PACS/sketch\"\n",
        "\n",
        "# Prepare Pytorch train/test Datasets\n",
        "photo_dataset = torchvision.datasets.ImageFolder(DIR_PHOTO, transform=transf)\n",
        "art_dataset = torchvision.datasets.ImageFolder(DIR_ART, transform=transf)\n",
        "cartoon_dataset = torchvision.datasets.ImageFolder(DIR_CARTOON, transform=transf)\n",
        "sketch_dataset = torchvision.datasets.ImageFolder(DIR_SKETCH, transform=transf)\n",
        "\n",
        "# Check dataset sizes\n",
        "print(f\"Photo Dataset: {len(photo_dataset)}\")\n",
        "print(f\"Art Dataset: {len(art_dataset)}\")\n",
        "print(f\"Cartoon Dataset: {len(cartoon_dataset)}\")\n",
        "print(f\"Sketch Dataset: {len(sketch_dataset)}\")"
      ]
    },
    {
      "cell_type": "code",
      "execution_count": 5,
      "id": "72078aec",
      "metadata": {},
      "outputs": [],
      "source": [
        "# Split dataset into train and test\n",
        "train_size = int(0.8 * len(photo_dataset))\n",
        "test_size = len(photo_dataset) - train_size\n",
        "\n",
        "train_dataset, test_dataset = torch.utils.data.random_split(\n",
        "    photo_dataset, [train_size, test_size]\n",
        ")"
      ]
    },
    {
      "cell_type": "code",
      "execution_count": 6,
      "id": "3d95e2dc",
      "metadata": {},
      "outputs": [],
      "source": [
        "# Concatenate all datasets\n",
        "test_datasets = torch.utils.data.ConcatDataset([test_dataset, sketch_dataset])\n",
        "\n",
        "# Create Dataloaders\n",
        "trainloader = DataLoader(\n",
        "    train_dataset, batch_size=128, shuffle=True, num_workers=4, drop_last=True\n",
        ")\n",
        "testloader = DataLoader(test_datasets, batch_size=128, shuffle=False, num_workers=4)"
      ]
    },
    {
      "cell_type": "code",
      "execution_count": 7,
      "id": "1701c782",
      "metadata": {},
      "outputs": [
        {
          "name": "stdout",
          "output_type": "stream",
          "text": [
            "Train batches: 10\n",
            "Test batches: 34\n"
          ]
        }
      ],
      "source": [
        "print(f\"Train batches: {len(trainloader)}\")\n",
        "print(f\"Test batches: {len(testloader)}\")"
      ]
    },
    {
      "cell_type": "markdown",
      "id": "6ea0dde8-29e7-4096-bd15-6a5ed74655f0",
      "metadata": {
        "id": "6ea0dde8-29e7-4096-bd15-6a5ed74655f0"
      },
      "source": [
        "## Model"
      ]
    },
    {
      "cell_type": "code",
      "execution_count": 8,
      "id": "15910cb0",
      "metadata": {},
      "outputs": [],
      "source": [
        "from torchvision.models import mobilenet_v3_small\n",
        "\n",
        "\n",
        "class Model(nn.Module):\n",
        "    def __init__(self, num_classes=2):\n",
        "        super(Model, self).__init__()\n",
        "        self.backbone = mobilenet_v3_small(pretrained=True)\n",
        "        self.backbone.classifier = nn.Sequential()\n",
        "\n",
        "        self.head = nn.Linear(576, num_classes)\n",
        "\n",
        "    def forward(self, x):\n",
        "        x = self.backbone(x)\n",
        "        x = self.head(x)\n",
        "        return x"
      ]
    },
    {
      "cell_type": "code",
      "execution_count": 9,
      "id": "b6a3ffdc",
      "metadata": {},
      "outputs": [
        {
          "name": "stderr",
          "output_type": "stream",
          "text": [
            "/home/gb2t/anaconda3/envs/duc_open_sora/lib/python3.8/site-packages/torchvision/models/_utils.py:208: UserWarning: The parameter 'pretrained' is deprecated since 0.13 and may be removed in the future, please use 'weights' instead.\n",
            "  warnings.warn(\n",
            "/home/gb2t/anaconda3/envs/duc_open_sora/lib/python3.8/site-packages/torchvision/models/_utils.py:223: UserWarning: Arguments other than a weight enum or `None` for 'weights' are deprecated since 0.13 and may be removed in the future. The current behavior is equivalent to passing `weights=MobileNet_V3_Small_Weights.IMAGENET1K_V1`. You can also use `weights=MobileNet_V3_Small_Weights.DEFAULT` to get the most up-to-date weights.\n",
            "  warnings.warn(msg)\n"
          ]
        }
      ],
      "source": [
        "model = Model(num_classes=7).to(device)"
      ]
    },
    {
      "cell_type": "code",
      "execution_count": null,
      "id": "61b03fcd",
      "metadata": {},
      "outputs": [],
      "source": []
    },
    {
      "cell_type": "markdown",
      "id": "43c7b151-a199-4e2a-8015-fdfb5f166284",
      "metadata": {
        "id": "43c7b151-a199-4e2a-8015-fdfb5f166284"
      },
      "source": [
        "# Train"
      ]
    },
    {
      "cell_type": "code",
      "execution_count": 10,
      "id": "1464e2bd-b627-475d-9941-f2a930d69a14",
      "metadata": {
        "id": "1464e2bd-b627-475d-9941-f2a930d69a14"
      },
      "outputs": [],
      "source": [
        "criterion = nn.CrossEntropyLoss()\n",
        "optimizer = Adam(model.parameters(), lr=1e-4)"
      ]
    },
    {
      "cell_type": "code",
      "execution_count": 11,
      "id": "04744c84-1e6d-4bfb-8dd5-abbdc91f102e",
      "metadata": {
        "id": "04744c84-1e6d-4bfb-8dd5-abbdc91f102e"
      },
      "outputs": [],
      "source": [
        "# Function to compute loss and accuracy for test set\n",
        "def evaluate(model, testloader, criterion):\n",
        "    model.eval()\n",
        "    test_loss = 0.0\n",
        "    running_correct = 0\n",
        "    total = 0\n",
        "    with torch.no_grad():\n",
        "        for images, labels in testloader:\n",
        "            # Move inputs and labels to the device\n",
        "            images, labels = images.to(device), labels.to(device)\n",
        "\n",
        "            outputs = model(images)\n",
        "\n",
        "            # loss\n",
        "            loss = criterion(outputs, labels)\n",
        "\n",
        "            test_loss += loss.item()\n",
        "\n",
        "            _, predicted = torch.max(outputs.data, 1)\n",
        "            total += labels.size(0)\n",
        "            running_correct += (predicted == labels).sum().item()\n",
        "\n",
        "    accuracy = 100 * running_correct / total\n",
        "    test_loss = test_loss / len(testloader)\n",
        "    return test_loss, accuracy"
      ]
    },
    {
      "cell_type": "code",
      "execution_count": null,
      "id": "d6292348",
      "metadata": {},
      "outputs": [],
      "source": []
    },
    {
      "cell_type": "code",
      "execution_count": 12,
      "id": "f2402591-e7f7-4bdd-8962-c029cfcd9307",
      "metadata": {
        "id": "f2402591-e7f7-4bdd-8962-c029cfcd9307"
      },
      "outputs": [],
      "source": [
        "# some parameter\n",
        "train_losses = []\n",
        "train_accuracies = []\n",
        "test_losses = []\n",
        "test_accuracies = []\n",
        "max_epoch = 50"
      ]
    },
    {
      "cell_type": "code",
      "execution_count": 13,
      "id": "190a58e1-0864-4818-a8d2-0f83212c6d13",
      "metadata": {
        "id": "190a58e1-0864-4818-a8d2-0f83212c6d13",
        "outputId": "3724347d-79a0-421d-e565-81297021a64d"
      },
      "outputs": [
        {
          "name": "stdout",
          "output_type": "stream",
          "text": [
            "Epoch [ 1/ 50] \t Loss: 1.77451     Accuracy: 43.828% \t Test Loss: 2.00640     Test Accuracy: 7.69%\n",
            "Epoch [ 2/ 50] \t Loss: 1.41336     Accuracy: 66.406% \t Test Loss: 1.96339     Test Accuracy: 8.16%\n",
            "Epoch [ 3/ 50] \t Loss: 1.13279     Accuracy: 77.109% \t Test Loss: 1.93015     Test Accuracy: 10.91%\n",
            "Epoch [ 4/ 50] \t Loss: 0.91835     Accuracy: 86.875% \t Test Loss: 1.91039     Test Accuracy: 17.05%\n",
            "Epoch [ 5/ 50] \t Loss: 0.76410     Accuracy: 92.266% \t Test Loss: 1.90219     Test Accuracy: 20.31%\n",
            "Epoch [ 6/ 50] \t Loss: 0.62262     Accuracy: 94.766% \t Test Loss: 1.92632     Test Accuracy: 20.97%\n",
            "Epoch [ 7/ 50] \t Loss: 0.49577     Accuracy: 95.859% \t Test Loss: 2.00572     Test Accuracy: 21.23%\n",
            "Epoch [ 8/ 50] \t Loss: 0.38040     Accuracy: 96.094% \t Test Loss: 2.23830     Test Accuracy: 21.37%\n",
            "Epoch [ 9/ 50] \t Loss: 0.30184     Accuracy: 97.188% \t Test Loss: 2.54637     Test Accuracy: 21.53%\n",
            "Epoch [10/ 50] \t Loss: 0.24016     Accuracy: 97.109% \t Test Loss: 2.73921     Test Accuracy: 21.75%\n",
            "Epoch [11/ 50] \t Loss: 0.19144     Accuracy: 98.047% \t Test Loss: 2.89559     Test Accuracy: 21.82%\n",
            "Epoch [12/ 50] \t Loss: 0.15242     Accuracy: 97.969% \t Test Loss: 2.83997     Test Accuracy: 21.91%\n",
            "Epoch [13/ 50] \t Loss: 0.11896     Accuracy: 98.672% \t Test Loss: 2.95121     Test Accuracy: 21.89%\n",
            "Epoch [14/ 50] \t Loss: 0.09733     Accuracy: 99.375% \t Test Loss: 3.13612     Test Accuracy: 21.79%\n",
            "Epoch [15/ 50] \t Loss: 0.07770     Accuracy: 99.531% \t Test Loss: 2.97578     Test Accuracy: 22.10%\n",
            "Epoch [16/ 50] \t Loss: 0.06556     Accuracy: 99.531% \t Test Loss: 2.98754     Test Accuracy: 22.12%\n",
            "Epoch [17/ 50] \t Loss: 0.05666     Accuracy: 99.766% \t Test Loss: 3.10992     Test Accuracy: 21.98%\n",
            "Epoch [18/ 50] \t Loss: 0.04362     Accuracy: 99.922% \t Test Loss: 3.29290     Test Accuracy: 21.82%\n",
            "Epoch [19/ 50] \t Loss: 0.03758     Accuracy: 99.922% \t Test Loss: 3.38967     Test Accuracy: 21.79%\n",
            "Epoch [20/ 50] \t Loss: 0.03094     Accuracy: 100.000% \t Test Loss: 3.34387     Test Accuracy: 21.86%\n",
            "Epoch [21/ 50] \t Loss: 0.02564     Accuracy: 100.000% \t Test Loss: 3.38257     Test Accuracy: 21.91%\n",
            "Epoch [22/ 50] \t Loss: 0.02532     Accuracy: 100.000% \t Test Loss: 3.35101     Test Accuracy: 21.91%\n",
            "Epoch [23/ 50] \t Loss: 0.01882     Accuracy: 100.000% \t Test Loss: 3.36673     Test Accuracy: 21.86%\n",
            "Epoch [24/ 50] \t Loss: 0.01824     Accuracy: 100.000% \t Test Loss: 3.38608     Test Accuracy: 21.89%\n",
            "Epoch [25/ 50] \t Loss: 0.01704     Accuracy: 100.000% \t Test Loss: 3.41490     Test Accuracy: 21.84%\n",
            "Epoch [26/ 50] \t Loss: 0.01386     Accuracy: 100.000% \t Test Loss: 3.47578     Test Accuracy: 21.79%\n",
            "Epoch [27/ 50] \t Loss: 0.01262     Accuracy: 100.000% \t Test Loss: 3.55939     Test Accuracy: 21.77%\n",
            "Epoch [28/ 50] \t Loss: 0.01290     Accuracy: 100.000% \t Test Loss: 3.58348     Test Accuracy: 21.79%\n",
            "Epoch [29/ 50] \t Loss: 0.01109     Accuracy: 100.000% \t Test Loss: 3.59307     Test Accuracy: 21.77%\n",
            "Epoch [30/ 50] \t Loss: 0.01012     Accuracy: 100.000% \t Test Loss: 3.67353     Test Accuracy: 21.75%\n",
            "Epoch [31/ 50] \t Loss: 0.01042     Accuracy: 100.000% \t Test Loss: 3.64494     Test Accuracy: 21.75%\n",
            "Epoch [32/ 50] \t Loss: 0.00886     Accuracy: 100.000% \t Test Loss: 3.60355     Test Accuracy: 21.75%\n",
            "Epoch [33/ 50] \t Loss: 0.00752     Accuracy: 100.000% \t Test Loss: 3.57808     Test Accuracy: 21.77%\n",
            "Epoch [34/ 50] \t Loss: 0.00734     Accuracy: 100.000% \t Test Loss: 3.55609     Test Accuracy: 21.77%\n",
            "Epoch [35/ 50] \t Loss: 0.00711     Accuracy: 100.000% \t Test Loss: 3.52306     Test Accuracy: 21.77%\n",
            "Epoch [36/ 50] \t Loss: 0.00629     Accuracy: 100.000% \t Test Loss: 3.52029     Test Accuracy: 21.75%\n",
            "Epoch [37/ 50] \t Loss: 0.00578     Accuracy: 100.000% \t Test Loss: 3.53402     Test Accuracy: 21.75%\n",
            "Epoch [38/ 50] \t Loss: 0.00572     Accuracy: 100.000% \t Test Loss: 3.54344     Test Accuracy: 21.75%\n",
            "Epoch [39/ 50] \t Loss: 0.00519     Accuracy: 100.000% \t Test Loss: 3.55551     Test Accuracy: 21.75%\n",
            "Epoch [40/ 50] \t Loss: 0.00504     Accuracy: 100.000% \t Test Loss: 3.56539     Test Accuracy: 21.75%\n",
            "Epoch [41/ 50] \t Loss: 0.00444     Accuracy: 100.000% \t Test Loss: 3.58556     Test Accuracy: 21.75%\n",
            "Epoch [42/ 50] \t Loss: 0.00502     Accuracy: 100.000% \t Test Loss: 3.61603     Test Accuracy: 21.75%\n",
            "Epoch [43/ 50] \t Loss: 0.00439     Accuracy: 100.000% \t Test Loss: 3.62963     Test Accuracy: 21.75%\n",
            "Epoch [44/ 50] \t Loss: 0.00377     Accuracy: 100.000% \t Test Loss: 3.63402     Test Accuracy: 21.77%\n",
            "Epoch [45/ 50] \t Loss: 0.00360     Accuracy: 100.000% \t Test Loss: 3.64951     Test Accuracy: 21.77%\n",
            "Epoch [46/ 50] \t Loss: 0.00370     Accuracy: 100.000% \t Test Loss: 3.74537     Test Accuracy: 21.77%\n",
            "Epoch [47/ 50] \t Loss: 0.00363     Accuracy: 100.000% \t Test Loss: 3.80024     Test Accuracy: 21.75%\n",
            "Epoch [48/ 50] \t Loss: 0.00359     Accuracy: 100.000% \t Test Loss: 3.82048     Test Accuracy: 21.75%\n",
            "Epoch [49/ 50] \t Loss: 0.00339     Accuracy: 100.000% \t Test Loss: 3.82174     Test Accuracy: 21.75%\n",
            "Epoch [50/ 50] \t Loss: 0.00364     Accuracy: 100.000% \t Test Loss: 3.79683     Test Accuracy: 21.75%\n"
          ]
        }
      ],
      "source": [
        "# train\n",
        "for epoch in range(max_epoch):\n",
        "    model.train()\n",
        "    running_loss = 0.0\n",
        "    running_correct = 0  # to track number of correct predictions\n",
        "    total = 0  # to track total number of samples\n",
        "\n",
        "    for i, (inputs, labels) in enumerate(trainloader, 0):\n",
        "        # Move inputs and labels to the device\n",
        "        inputs, labels = inputs.to(device), labels.to(device)\n",
        "\n",
        "        # Zero the parameter gradients\n",
        "        optimizer.zero_grad()\n",
        "\n",
        "        # Forward pass\n",
        "        outputs = model(inputs)\n",
        "\n",
        "        # loss\n",
        "        loss = criterion(outputs, labels)\n",
        "\n",
        "        running_loss += loss.item()\n",
        "\n",
        "        # Backward pass and optimization\n",
        "        loss.backward()\n",
        "        optimizer.step()\n",
        "\n",
        "        # Determine class predictions and track accuracy\n",
        "        _, predicted = torch.max(outputs.data, 1)\n",
        "        total += labels.size(0)\n",
        "        running_correct += (predicted == labels).sum().item()\n",
        "\n",
        "    epoch_accuracy = 100 * running_correct / total\n",
        "    epoch_loss = running_loss / (i + 1)\n",
        "\n",
        "    test_loss, test_accuracy = evaluate(model, testloader, criterion)\n",
        "    print(\n",
        "        f\"Epoch [{(epoch + 1):2}/{max_epoch:3}] \\t Loss: {epoch_loss:<11.5f} Accuracy: {epoch_accuracy:.3f}% \\t Test Loss: {test_loss:<11.5f} Test Accuracy: {test_accuracy:.2f}%\"\n",
        "    )\n",
        "\n",
        "    # save for plot\n",
        "    train_losses.append(epoch_loss)\n",
        "    train_accuracies.append(epoch_accuracy)\n",
        "    test_losses.append(test_loss)\n",
        "    test_accuracies.append(test_accuracy)"
      ]
    },
    {
      "cell_type": "code",
      "execution_count": 14,
      "id": "cebcb439-88f2-40b6-9a17-4990ad324731",
      "metadata": {
        "id": "cebcb439-88f2-40b6-9a17-4990ad324731",
        "outputId": "7ad0b1ef-641d-447f-af55-8cee47220cf8"
      },
      "outputs": [
        {
          "name": "stdout",
          "output_type": "stream",
          "text": [
            "\n",
            "Best epoch: 16 with test accuracy: 22.12%\n"
          ]
        }
      ],
      "source": [
        "# the best accuracy\n",
        "best_epoch = np.argmax(test_accuracies)\n",
        "print(\n",
        "    f\"\\nBest epoch: {best_epoch + 1} with test accuracy: {test_accuracies[best_epoch]:.2f}%\"\n",
        ")"
      ]
    },
    {
      "cell_type": "markdown",
      "id": "z0RuEa2Wo44e",
      "metadata": {
        "id": "z0RuEa2Wo44e"
      },
      "source": [
        "# Plot results"
      ]
    },
    {
      "cell_type": "code",
      "execution_count": 15,
      "id": "DkC3_902Lgn-",
      "metadata": {
        "id": "DkC3_902Lgn-",
        "outputId": "980415bb-e7bf-4cd0-f937-7bdb4bbeeb21"
      },
      "outputs": [
        {
          "data": {
            "text/plain": [
              "<matplotlib.legend.Legend at 0x72fd2559d910>"
            ]
          },
          "execution_count": 15,
          "metadata": {},
          "output_type": "execute_result"
        },
        {
          "data": {
            "image/png": "[encoded data removed]",
            "text/plain": [
              "<Figure size 640x480 with 1 Axes>"
            ]
          },
          "metadata": {},
          "output_type": "display_data"
        }
      ],
      "source": [
        "plt.plot(train_losses, label=\"train_losses\")\n",
        "plt.plot(test_losses, label=\"test_losses\")\n",
        "plt.legend()"
      ]
    },
    {
      "cell_type": "code",
      "execution_count": 16,
      "id": "794f4e81",
      "metadata": {
        "id": "794f4e81",
        "outputId": "bf94f552-5d0c-4673-aa28-ab1ea2622dc1"
      },
      "outputs": [
        {
          "data": {
            "text/plain": [
              "<matplotlib.legend.Legend at 0x72fd254fe820>"
            ]
          },
          "execution_count": 16,
          "metadata": {},
          "output_type": "execute_result"
        },
        {
          "data": {
            "image/png": "[encoded data removed]",
            "text/plain": [
              "<Figure size 640x480 with 1 Axes>"
            ]
          },
          "metadata": {},
          "output_type": "display_data"
        }
      ],
      "source": [
        "plt.plot(train_accuracies, label=\"train_accuracy\")\n",
        "plt.plot(test_accuracies, label=\"test_accuracy\")\n",
        "plt.legend()"
      ]
    },
    {
      "cell_type": "code",
      "execution_count": null,
      "id": "a9f0e913",
      "metadata": {},
      "outputs": [],
      "source": []
    }
  ],
  "metadata": {
    "accelerator": "GPU",
    "colab": {
      "provenance": []
    },
    "gpuClass": "standard",
    "kernelspec": {
      "display_name": "Python 3 (ipykernel)",
      "language": "python",
      "name": "python3"
    },
    "language_info": {
      "codemirror_mode": {
        "name": "ipython",
        "version": 3
      },
      "file_extension": ".py",
      "mimetype": "text/x-python",
      "name": "python",
      "nbconvert_exporter": "python",
      "pygments_lexer": "ipython3",
      "version": "3.8.18"
    }
  },
  "nbformat": 4,
  "nbformat_minor": 5
}
