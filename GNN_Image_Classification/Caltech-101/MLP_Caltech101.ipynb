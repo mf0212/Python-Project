{
  "cells": [
    {
      "cell_type": "code",
      "execution_count": 1,
      "id": "cf229497-4b6e-443d-b330-66b6fa139fcd",
      "metadata": {
        "id": "cf229497-4b6e-443d-b330-66b6fa139fcd"
      },
      "outputs": [],
      "source": [
        "!pip install -q gdown"
      ]
    },
    {
      "cell_type": "code",
      "execution_count": 2,
      "id": "d4e45a49-974f-4f9c-8642-42e2c45aab71",
      "metadata": {
        "id": "d4e45a49-974f-4f9c-8642-42e2c45aab71"
      },
      "outputs": [],
      "source": [
        "import matplotlib.pyplot as plt\n",
        "import numpy as np\n",
        "import torch\n",
        "import torch.nn as nn\n",
        "import torchvision.transforms as transforms\n",
        "from torch.optim import Adam\n",
        "from torch.utils.data import DataLoader\n",
        "from torchvision.datasets import Caltech101\n",
        "\n",
        "torch.manual_seed(1)\n",
        "device = \"cuda\" if torch.cuda.is_available() else \"cpu\"\n",
        "\n",
        "# fix seed\n",
        "np.random.seed(0)"
      ]
    },
    {
      "cell_type": "code",
      "execution_count": null,
      "id": "W4QVcUXZo44Y",
      "metadata": {
        "id": "W4QVcUXZo44Y"
      },
      "outputs": [],
      "source": []
    },
    {
      "cell_type": "markdown",
      "id": "f913360b-019e-4d69-a540-b7b5715544e1",
      "metadata": {
        "id": "f913360b-019e-4d69-a540-b7b5715544e1"
      },
      "source": [
        "## Data"
      ]
    },
    {
      "cell_type": "code",
      "execution_count": 3,
      "id": "3ad21976-2d99-49b7-b0b5-84e9ebcd371e",
      "metadata": {
        "id": "3ad21976-2d99-49b7-b0b5-84e9ebcd371e",
        "outputId": "141aeb93-cb68-4184-947c-9b30ac4b3591"
      },
      "outputs": [
        {
          "name": "stdout",
          "output_type": "stream",
          "text": [
            "Files already downloaded and verified\n"
          ]
        }
      ],
      "source": [
        "batch_size = 256\n",
        "train_transform = transforms.Compose(\n",
        "    [\n",
        "        transforms.Resize((224, 224)),\n",
        "        transforms.Grayscale(num_output_channels=3),\n",
        "        transforms.ToTensor(),\n",
        "        transforms.Normalize([0.4914, 0.4822, 0.4465], [0.2470, 0.2435, 0.2616]),\n",
        "    ]\n",
        ")\n",
        "\n",
        "\n",
        "dataset = Caltech101(root=\"./data\", download=True, transform=train_transform)\n",
        "\n",
        "# # split dataset\n",
        "n_train = int(len(dataset) * 0.8)\n",
        "n_val = len(dataset) - n_train\n",
        "\n",
        "train_dataset, val_dataset = torch.utils.data.random_split(dataset, [n_train, n_val])\n",
        "\n",
        "trainloader = DataLoader(train_dataset, batch_size=batch_size, shuffle=True)\n",
        "testloader = DataLoader(val_dataset, batch_size=batch_size, shuffle=False)"
      ]
    },
    {
      "cell_type": "code",
      "execution_count": 4,
      "id": "b9c2b6e7",
      "metadata": {},
      "outputs": [
        {
          "name": "stdout",
          "output_type": "stream",
          "text": [
            "torch.Size([256, 3, 224, 224])\n",
            "tensor([ 66,  61,  53,  35,  12,  23,  43,  60,   3,   3,   3,  72,   1,  19,\n",
            "         91,  27,  79,  29,  78,  47,  29,  33,  76,   0,  78,   1,  81,  26,\n",
            "         59,   2,   5,   3,   1,  60,   3,   3,  45,  96,  54,   0,  78,  96,\n",
            "          3,  39,  40,  26,   0,   5,   5,  26,  87,  32,   3,   3,  96,  21,\n",
            "          0,  74,  13,   0,  38,   3,  92,   2,  12,  30,   0,  61,  57,  26,\n",
            "         65,  71,  49,  47,  60,  16,  92,  12,  74,  12,   2,  13,  68,  50,\n",
            "         40,  67,  19,   0,  79,  65,   2,   3,   3,  37,  98,  60,  65,   5,\n",
            "         91,  11,  73,   3,  75,  66,   1,  54,  81,   3,   5,  20,   3,   5,\n",
            "          3,  52,  37,   2,  59,   9,   5,  85,   5,   5,  87,  85,  50,  94,\n",
            "         32,   0,  14,  15,  94,  51,  90,  22,  33,   1,  62,   0,  33,   5,\n",
            "         45,  75,  59,  50,  77,   2,  36,   5,  22,  78,  58,  87,   1,  54,\n",
            "          3,   3,   2,   5,  75,  94,   5,   3,  10,   0,  30,   3,  16,  69,\n",
            "         55,  44, 100,  90,  97,  63,  39,  73,  18,  13,  93,  94,  27,  36,\n",
            "         75,  58,   5,  42,  51,  82,   1,   3,  16,  23,   2,  87,  11,  10,\n",
            "         12,  28,  52,  46,  10,  65,  55,   3,  41,  31,  92,  36,  59,   5,\n",
            "          3,  87,   3,   5,  47,   1,   3,  94,  26,   3,   3,  36,   1,  69,\n",
            "         68,  86,  78,   5,  94,  68,   5,  82,  14,  48,  82,  53,  28,  77,\n",
            "         88,   5,  86,  96,  92,  88,  58,  67,  11,  64,  53,   5,  98,  53,\n",
            "          6,   5,   5,  80])\n"
          ]
        }
      ],
      "source": [
        "for data, target in testloader:\n",
        "    print(data.shape)\n",
        "    print(target)\n",
        "    break"
      ]
    },
    {
      "cell_type": "markdown",
      "id": "6ea0dde8-29e7-4096-bd15-6a5ed74655f0",
      "metadata": {
        "id": "6ea0dde8-29e7-4096-bd15-6a5ed74655f0"
      },
      "source": [
        "## Model"
      ]
    },
    {
      "cell_type": "code",
      "execution_count": 5,
      "id": "3bcf2755",
      "metadata": {},
      "outputs": [],
      "source": [
        "from torchvision.models import mobilenet_v3_small\n",
        "\n",
        "\n",
        "class Model(nn.Module):\n",
        "    def __init__(self, num_classes=2):\n",
        "        super(Model, self).__init__()\n",
        "        self.backbone = mobilenet_v3_small(pretrained=True)\n",
        "        self.backbone.classifier = nn.Sequential()\n",
        "\n",
        "        self.head = nn.Linear(576, num_classes)\n",
        "\n",
        "    def forward(self, x):\n",
        "        x = self.backbone(x)\n",
        "        x = self.head(x)\n",
        "        return x"
      ]
    },
    {
      "cell_type": "code",
      "execution_count": 6,
      "id": "b6a3ffdc",
      "metadata": {},
      "outputs": [
        {
          "name": "stderr",
          "output_type": "stream",
          "text": [
            "/home/gb2t/anaconda3/envs/duc_open_sora/lib/python3.8/site-packages/torchvision/models/_utils.py:208: UserWarning: The parameter 'pretrained' is deprecated since 0.13 and may be removed in the future, please use 'weights' instead.\n",
            "  warnings.warn(\n",
            "/home/gb2t/anaconda3/envs/duc_open_sora/lib/python3.8/site-packages/torchvision/models/_utils.py:223: UserWarning: Arguments other than a weight enum or `None` for 'weights' are deprecated since 0.13 and may be removed in the future. The current behavior is equivalent to passing `weights=MobileNet_V3_Small_Weights.IMAGENET1K_V1`. You can also use `weights=MobileNet_V3_Small_Weights.DEFAULT` to get the most up-to-date weights.\n",
            "  warnings.warn(msg)\n"
          ]
        }
      ],
      "source": [
        "model = Model(num_classes=101).to(device)"
      ]
    },
    {
      "cell_type": "code",
      "execution_count": 7,
      "id": "61b03fcd",
      "metadata": {},
      "outputs": [
        {
          "name": "stdout",
          "output_type": "stream",
          "text": [
            "torch.Size([2, 101])\n"
          ]
        }
      ],
      "source": [
        "x = torch.randn(2, 3, 224, 224).to(device)\n",
        "print(model(x).shape)"
      ]
    },
    {
      "cell_type": "markdown",
      "id": "43c7b151-a199-4e2a-8015-fdfb5f166284",
      "metadata": {
        "id": "43c7b151-a199-4e2a-8015-fdfb5f166284"
      },
      "source": [
        "# Train"
      ]
    },
    {
      "cell_type": "code",
      "execution_count": 8,
      "id": "1464e2bd-b627-475d-9941-f2a930d69a14",
      "metadata": {
        "id": "1464e2bd-b627-475d-9941-f2a930d69a14"
      },
      "outputs": [],
      "source": [
        "criterion = nn.CrossEntropyLoss()\n",
        "optimizer = Adam(model.parameters(), lr=1e-4)"
      ]
    },
    {
      "cell_type": "code",
      "execution_count": 9,
      "id": "04744c84-1e6d-4bfb-8dd5-abbdc91f102e",
      "metadata": {
        "id": "04744c84-1e6d-4bfb-8dd5-abbdc91f102e"
      },
      "outputs": [],
      "source": [
        "# Function to compute loss and accuracy for test set\n",
        "def evaluate(model, testloader, criterion):\n",
        "    model.eval()\n",
        "    test_loss = 0.0\n",
        "    running_correct = 0\n",
        "    total = 0\n",
        "    with torch.no_grad():\n",
        "        for images, labels in testloader:\n",
        "            # Move inputs and labels to the device\n",
        "            images, labels = images.to(device), labels.to(device)\n",
        "\n",
        "            outputs = model(images)\n",
        "            loss = criterion(outputs, labels)\n",
        "\n",
        "            test_loss += loss.item()\n",
        "\n",
        "            _, predicted = torch.max(outputs.data, 1)\n",
        "            total += labels.size(0)\n",
        "            running_correct += (predicted == labels).sum().item()\n",
        "\n",
        "    accuracy = 100 * running_correct / total\n",
        "    test_loss = test_loss / len(testloader)\n",
        "    return test_loss, accuracy"
      ]
    },
    {
      "cell_type": "code",
      "execution_count": 10,
      "id": "f2402591-e7f7-4bdd-8962-c029cfcd9307",
      "metadata": {
        "id": "f2402591-e7f7-4bdd-8962-c029cfcd9307"
      },
      "outputs": [],
      "source": [
        "# some parameter\n",
        "train_losses = []\n",
        "train_accuracies = []\n",
        "test_losses = []\n",
        "test_accuracies = []\n",
        "max_epoch = 30"
      ]
    },
    {
      "cell_type": "code",
      "execution_count": 11,
      "id": "190a58e1-0864-4818-a8d2-0f83212c6d13",
      "metadata": {
        "id": "190a58e1-0864-4818-a8d2-0f83212c6d13",
        "outputId": "3724347d-79a0-421d-e565-81297021a64d"
      },
      "outputs": [
        {
          "name": "stdout",
          "output_type": "stream",
          "text": [
            "Epoch [  1/ 30] \t Loss: 4.24413     Accuracy: 18.43% \t Test Loss: 3.74370     Test Accuracy: 25.69%\n",
            "Epoch [  2/ 30] \t Loss: 3.37101     Accuracy: 34.20% \t Test Loss: 3.19070     Test Accuracy: 28.28%\n",
            "Epoch [  3/ 30] \t Loss: 2.98311     Accuracy: 39.46% \t Test Loss: 2.99063     Test Accuracy: 31.97%\n",
            "Epoch [  4/ 30] \t Loss: 2.68811     Accuracy: 44.63% \t Test Loss: 2.75733     Test Accuracy: 40.90%\n",
            "Epoch [  5/ 30] \t Loss: 2.39665     Accuracy: 52.64% \t Test Loss: 2.51342     Test Accuracy: 50.17%\n",
            "Epoch [  6/ 30] \t Loss: 2.08034     Accuracy: 60.21% \t Test Loss: 2.26121     Test Accuracy: 57.20%\n",
            "Epoch [  7/ 30] \t Loss: 1.80005     Accuracy: 66.42% \t Test Loss: 2.03320     Test Accuracy: 62.33%\n",
            "Epoch [  8/ 30] \t Loss: 1.54443     Accuracy: 71.39% \t Test Loss: 1.79882     Test Accuracy: 66.01%\n",
            "Epoch [  9/ 30] \t Loss: 1.32127     Accuracy: 75.59% \t Test Loss: 1.58564     Test Accuracy: 69.07%\n",
            "Epoch [ 10/ 30] \t Loss: 1.14332     Accuracy: 78.63% \t Test Loss: 1.43575     Test Accuracy: 71.31%\n",
            "Epoch [ 11/ 30] \t Loss: 0.97897     Accuracy: 81.90% \t Test Loss: 1.29449     Test Accuracy: 73.27%\n",
            "Epoch [ 12/ 30] \t Loss: 0.83997     Accuracy: 85.05% \t Test Loss: 1.18488     Test Accuracy: 75.86%\n",
            "Epoch [ 13/ 30] \t Loss: 0.72096     Accuracy: 86.99% \t Test Loss: 1.05628     Test Accuracy: 77.71%\n",
            "Epoch [ 14/ 30] \t Loss: 0.62110     Accuracy: 88.92% \t Test Loss: 0.96617     Test Accuracy: 79.21%\n",
            "Epoch [ 15/ 30] \t Loss: 0.54088     Accuracy: 90.89% \t Test Loss: 0.88844     Test Accuracy: 80.13%\n",
            "Epoch [ 16/ 30] \t Loss: 0.47064     Accuracy: 92.35% \t Test Loss: 0.83184     Test Accuracy: 80.82%\n",
            "Epoch [ 17/ 30] \t Loss: 0.41243     Accuracy: 93.96% \t Test Loss: 0.76319     Test Accuracy: 81.74%\n",
            "Epoch [ 18/ 30] \t Loss: 0.35511     Accuracy: 94.89% \t Test Loss: 0.70331     Test Accuracy: 83.64%\n",
            "Epoch [ 19/ 30] \t Loss: 0.32017     Accuracy: 95.71% \t Test Loss: 0.66467     Test Accuracy: 84.39%\n",
            "Epoch [ 20/ 30] \t Loss: 0.27288     Accuracy: 96.51% \t Test Loss: 0.64688     Test Accuracy: 84.50%\n",
            "Epoch [ 21/ 30] \t Loss: 0.24084     Accuracy: 97.03% \t Test Loss: 0.60456     Test Accuracy: 85.48%\n",
            "Epoch [ 22/ 30] \t Loss: 0.20543     Accuracy: 97.69% \t Test Loss: 0.59097     Test Accuracy: 85.08%\n",
            "Epoch [ 23/ 30] \t Loss: 0.19967     Accuracy: 98.06% \t Test Loss: 0.57259     Test Accuracy: 85.77%\n",
            "Epoch [ 24/ 30] \t Loss: 0.16666     Accuracy: 98.40% \t Test Loss: 0.56815     Test Accuracy: 85.83%\n",
            "Epoch [ 25/ 30] \t Loss: 0.14902     Accuracy: 98.56% \t Test Loss: 0.54945     Test Accuracy: 86.06%\n",
            "Epoch [ 26/ 30] \t Loss: 0.12883     Accuracy: 99.03% \t Test Loss: 0.53891     Test Accuracy: 86.35%\n",
            "Epoch [ 27/ 30] \t Loss: 0.11215     Accuracy: 99.31% \t Test Loss: 0.53454     Test Accuracy: 86.52%\n",
            "Epoch [ 28/ 30] \t Loss: 0.09658     Accuracy: 99.39% \t Test Loss: 0.52522     Test Accuracy: 86.52%\n",
            "Epoch [ 29/ 30] \t Loss: 0.09082     Accuracy: 99.44% \t Test Loss: 0.52683     Test Accuracy: 86.29%\n",
            "Epoch [ 30/ 30] \t Loss: 0.08610     Accuracy: 99.55% \t Test Loss: 0.51980     Test Accuracy: 86.75%\n"
          ]
        }
      ],
      "source": [
        "# train\n",
        "for epoch in range(max_epoch):\n",
        "    model.train()\n",
        "    running_loss = 0.0\n",
        "    running_correct = 0  # to track number of correct predictions\n",
        "    total = 0  # to track total number of samples\n",
        "\n",
        "    for i, (inputs, labels) in enumerate(trainloader, 0):\n",
        "        # Move inputs and labels to the device\n",
        "        inputs, labels = inputs.to(device), labels.to(device)\n",
        "\n",
        "        # Zero the parameter gradients\n",
        "        optimizer.zero_grad()\n",
        "\n",
        "        # Forward pass\n",
        "        outputs = model(inputs)\n",
        "\n",
        "        loss = criterion(outputs, labels)\n",
        "\n",
        "        running_loss += loss.item()\n",
        "\n",
        "        # Backward pass and optimization\n",
        "        loss.backward()\n",
        "        optimizer.step()\n",
        "\n",
        "        # Determine class predictions and track accuracy\n",
        "        _, predicted = torch.max(outputs.data, 1)\n",
        "        total += labels.size(0)\n",
        "        running_correct += (predicted == labels).sum().item()\n",
        "\n",
        "    epoch_accuracy = 100 * running_correct / total\n",
        "    epoch_loss = running_loss / (i + 1)\n",
        "\n",
        "    test_loss, test_accuracy = evaluate(model, testloader, criterion)\n",
        "    print(\n",
        "        f\"Epoch [{(epoch + 1):3}/{max_epoch:3}] \\t Loss: {epoch_loss:<11.5f} Accuracy: {epoch_accuracy:.2f}% \\t Test Loss: {test_loss:<11.5f} Test Accuracy: {test_accuracy:.2f}%\"\n",
        "    )\n",
        "\n",
        "    # save for plot\n",
        "    train_losses.append(epoch_loss)\n",
        "    train_accuracies.append(epoch_accuracy)\n",
        "    test_losses.append(test_loss)\n",
        "    test_accuracies.append(test_accuracy)"
      ]
    },
    {
      "cell_type": "code",
      "execution_count": 12,
      "id": "cebcb439-88f2-40b6-9a17-4990ad324731",
      "metadata": {
        "id": "cebcb439-88f2-40b6-9a17-4990ad324731",
        "outputId": "7ad0b1ef-641d-447f-af55-8cee47220cf8"
      },
      "outputs": [
        {
          "name": "stdout",
          "output_type": "stream",
          "text": [
            "\n",
            "Best epoch: 30 with test accuracy: 86.75%\n"
          ]
        }
      ],
      "source": [
        "# the best accuracy\n",
        "best_epoch = np.argmax(test_accuracies)\n",
        "print(\n",
        "    f\"\\nBest epoch: {best_epoch + 1} with test accuracy: {test_accuracies[best_epoch]:.2f}%\"\n",
        ")"
      ]
    },
    {
      "cell_type": "markdown",
      "id": "z0RuEa2Wo44e",
      "metadata": {
        "id": "z0RuEa2Wo44e"
      },
      "source": [
        "# Plot results"
      ]
    },
    {
      "cell_type": "code",
      "execution_count": 13,
      "id": "DkC3_902Lgn-",
      "metadata": {
        "id": "DkC3_902Lgn-",
        "outputId": "980415bb-e7bf-4cd0-f937-7bdb4bbeeb21"
      },
      "outputs": [
        {
          "data": {
            "text/plain": [
              "<matplotlib.legend.Legend at 0x717bd825ed00>"
            ]
          },
          "execution_count": 13,
          "metadata": {},
          "output_type": "execute_result"
        },
        {
          "data": {
            "image/png": "[encoded data removed]",
            "text/plain": [
              "<Figure size 640x480 with 1 Axes>"
            ]
          },
          "metadata": {},
          "output_type": "display_data"
        }
      ],
      "source": [
        "plt.plot(train_losses, label=\"train_losses\")\n",
        "plt.plot(test_losses, label=\"test_losses\")\n",
        "plt.legend()"
      ]
    },
    {
      "cell_type": "code",
      "execution_count": 14,
      "id": "794f4e81",
      "metadata": {
        "id": "794f4e81",
        "outputId": "bf94f552-5d0c-4673-aa28-ab1ea2622dc1"
      },
      "outputs": [
        {
          "data": {
            "text/plain": [
              "<matplotlib.legend.Legend at 0x717bd81f4c70>"
            ]
          },
          "execution_count": 14,
          "metadata": {},
          "output_type": "execute_result"
        },
        {
          "data": {
            "image/png": "[encoded data removed]",
            "text/plain": [
              "<Figure size 640x480 with 1 Axes>"
            ]
          },
          "metadata": {},
          "output_type": "display_data"
        }
      ],
      "source": [
        "plt.plot(train_accuracies, label=\"train_accuracy\")\n",
        "plt.plot(test_accuracies, label=\"test_accuracy\")\n",
        "plt.legend()"
      ]
    },
    {
      "cell_type": "code",
      "execution_count": null,
      "id": "8c86325e-7b6c-43a6-b315-93e02bcdb264",
      "metadata": {
        "id": "8c86325e-7b6c-43a6-b315-93e02bcdb264"
      },
      "outputs": [],
      "source": []
    }
  ],
  "metadata": {
    "accelerator": "GPU",
    "colab": {
      "provenance": []
    },
    "gpuClass": "standard",
    "kernelspec": {
      "display_name": "Python 3 (ipykernel)",
      "language": "python",
      "name": "python3"
    },
    "language_info": {
      "codemirror_mode": {
        "name": "ipython",
        "version": 3
      },
      "file_extension": ".py",
      "mimetype": "text/x-python",
      "name": "python",
      "nbconvert_exporter": "python",
      "pygments_lexer": "ipython3",
      "version": "3.8.18"
    }
  },
  "nbformat": 4,
  "nbformat_minor": 5
}
