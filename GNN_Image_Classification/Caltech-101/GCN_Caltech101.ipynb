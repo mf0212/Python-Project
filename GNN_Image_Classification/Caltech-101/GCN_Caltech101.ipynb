{
  "cells": [
    {
      "cell_type": "code",
      "execution_count": 1,
      "id": "d4e45a49-974f-4f9c-8642-42e2c45aab71",
      "metadata": {
        "id": "d4e45a49-974f-4f9c-8642-42e2c45aab71"
      },
      "outputs": [],
      "source": [
        "from collections import OrderedDict\n",
        "\n",
        "import matplotlib.pyplot as plt\n",
        "import numpy as np\n",
        "import torch\n",
        "import torch.nn as nn\n",
        "import torch.nn.functional as F\n",
        "import torchvision.transforms as transforms\n",
        "from torch.optim import Adam\n",
        "from torch.utils.data import DataLoader\n",
        "from torchvision.datasets import Caltech101\n",
        "\n",
        "torch.manual_seed(1)\n",
        "device = \"cuda\" if torch.cuda.is_available() else \"cpu\"\n",
        "\n",
        "# fix seed\n",
        "np.random.seed(0)"
      ]
    },
    {
      "cell_type": "code",
      "execution_count": null,
      "id": "W4QVcUXZo44Y",
      "metadata": {
        "id": "W4QVcUXZo44Y"
      },
      "outputs": [],
      "source": []
    },
    {
      "cell_type": "markdown",
      "id": "f913360b-019e-4d69-a540-b7b5715544e1",
      "metadata": {
        "id": "f913360b-019e-4d69-a540-b7b5715544e1"
      },
      "source": [
        "## Data"
      ]
    },
    {
      "cell_type": "code",
      "execution_count": 2,
      "id": "3ad21976-2d99-49b7-b0b5-84e9ebcd371e",
      "metadata": {
        "id": "3ad21976-2d99-49b7-b0b5-84e9ebcd371e",
        "outputId": "141aeb93-cb68-4184-947c-9b30ac4b3591"
      },
      "outputs": [
        {
          "name": "stdout",
          "output_type": "stream",
          "text": [
            "Files already downloaded and verified\n"
          ]
        }
      ],
      "source": [
        "batch_size = 256\n",
        "train_transform = transforms.Compose(\n",
        "    [\n",
        "        transforms.Resize((224, 224)),\n",
        "        transforms.Grayscale(num_output_channels=3),\n",
        "        transforms.ToTensor(),\n",
        "        transforms.Normalize([0.4914, 0.4822, 0.4465], [0.2470, 0.2435, 0.2616]),\n",
        "    ]\n",
        ")\n",
        "\n",
        "\n",
        "dataset = Caltech101(root=\"./data\", download=True, transform=train_transform)\n",
        "\n",
        "# # split dataset\n",
        "n_train = int(len(dataset) * 0.8)\n",
        "n_val = len(dataset) - n_train\n",
        "\n",
        "train_dataset, val_dataset = torch.utils.data.random_split(dataset, [n_train, n_val])\n",
        "\n",
        "trainloader = DataLoader(train_dataset, batch_size=batch_size, shuffle=True)\n",
        "testloader = DataLoader(val_dataset, batch_size=batch_size, shuffle=False)"
      ]
    },
    {
      "cell_type": "code",
      "execution_count": 3,
      "id": "cf229497-4b6e-443d-b330-66b6fa139fcd",
      "metadata": {
        "id": "cf229497-4b6e-443d-b330-66b6fa139fcd"
      },
      "outputs": [
        {
          "name": "stdout",
          "output_type": "stream",
          "text": [
            "torch.Size([256, 3, 224, 224])\n",
            "tensor([ 66,  61,  53,  35,  12,  23,  43,  60,   3,   3,   3,  72,   1,  19,\n",
            "         91,  27,  79,  29,  78,  47,  29,  33,  76,   0,  78,   1,  81,  26,\n",
            "         59,   2,   5,   3,   1,  60,   3,   3,  45,  96,  54,   0,  78,  96,\n",
            "          3,  39,  40,  26,   0,   5,   5,  26,  87,  32,   3,   3,  96,  21,\n",
            "          0,  74,  13,   0,  38,   3,  92,   2,  12,  30,   0,  61,  57,  26,\n",
            "         65,  71,  49,  47,  60,  16,  92,  12,  74,  12,   2,  13,  68,  50,\n",
            "         40,  67,  19,   0,  79,  65,   2,   3,   3,  37,  98,  60,  65,   5,\n",
            "         91,  11,  73,   3,  75,  66,   1,  54,  81,   3,   5,  20,   3,   5,\n",
            "          3,  52,  37,   2,  59,   9,   5,  85,   5,   5,  87,  85,  50,  94,\n",
            "         32,   0,  14,  15,  94,  51,  90,  22,  33,   1,  62,   0,  33,   5,\n",
            "         45,  75,  59,  50,  77,   2,  36,   5,  22,  78,  58,  87,   1,  54,\n",
            "          3,   3,   2,   5,  75,  94,   5,   3,  10,   0,  30,   3,  16,  69,\n",
            "         55,  44, 100,  90,  97,  63,  39,  73,  18,  13,  93,  94,  27,  36,\n",
            "         75,  58,   5,  42,  51,  82,   1,   3,  16,  23,   2,  87,  11,  10,\n",
            "         12,  28,  52,  46,  10,  65,  55,   3,  41,  31,  92,  36,  59,   5,\n",
            "          3,  87,   3,   5,  47,   1,   3,  94,  26,   3,   3,  36,   1,  69,\n",
            "         68,  86,  78,   5,  94,  68,   5,  82,  14,  48,  82,  53,  28,  77,\n",
            "         88,   5,  86,  96,  92,  88,  58,  67,  11,  64,  53,   5,  98,  53,\n",
            "          6,   5,   5,  80])\n"
          ]
        }
      ],
      "source": [
        "for data, target in testloader:\n",
        "    print(data.shape)\n",
        "    print(target)\n",
        "    break"
      ]
    },
    {
      "cell_type": "markdown",
      "id": "6ea0dde8-29e7-4096-bd15-6a5ed74655f0",
      "metadata": {
        "id": "6ea0dde8-29e7-4096-bd15-6a5ed74655f0"
      },
      "source": [
        "## Model"
      ]
    },
    {
      "cell_type": "code",
      "execution_count": 4,
      "id": "07ae0662",
      "metadata": {},
      "outputs": [],
      "source": [
        "class GCN(nn.Module):\n",
        "    def __init__(self, in_features, edge_features, out_feature, device, ratio=(1,)):\n",
        "        super(GCN, self).__init__()\n",
        "\n",
        "        self.edge_net = EdgeNet(\n",
        "            in_features=in_features,\n",
        "            num_features=edge_features,\n",
        "            device=device,\n",
        "            ratio=ratio,\n",
        "        )\n",
        "        # set edge to node\n",
        "        self.node_net = NodeNet(\n",
        "            in_features=in_features,\n",
        "            num_features=out_feature,\n",
        "            device=device,\n",
        "            ratio=ratio,\n",
        "        )\n",
        "        # mask value for no-gradient edges\n",
        "        self.mask_val = -1\n",
        "\n",
        "    def label2edge(self, targets):\n",
        "        \"\"\"convert node labels to affinity mask for backprop\"\"\"\n",
        "        num_sample = targets.size()[1]\n",
        "        label_i = targets.unsqueeze(-1).repeat(1, 1, num_sample)\n",
        "        label_j = label_i.transpose(1, 2)\n",
        "        edge = torch.eq(label_i, label_j).float()\n",
        "        target_edge_mask = (\n",
        "            torch.eq(label_i, self.mask_val) + torch.eq(label_j, self.mask_val)\n",
        "        ).type(torch.bool)\n",
        "        source_edge_mask = ~target_edge_mask\n",
        "        init_edge = edge * source_edge_mask.float()\n",
        "        return init_edge[0], source_edge_mask\n",
        "\n",
        "    def forward(self, init_node_feat):\n",
        "        #  compute normalized and not normalized affinity matrix\n",
        "        edge_feat, edge_sim = self.edge_net(init_node_feat)\n",
        "        # compute node features and class logits\n",
        "        logits_gnn = self.node_net(init_node_feat, edge_feat)\n",
        "        return logits_gnn, edge_sim\n",
        "\n",
        "\n",
        "class NodeNet(nn.Module):\n",
        "    def __init__(self, in_features, num_features, device, ratio=(1,)):\n",
        "        super(NodeNet, self).__init__()\n",
        "        num_features_list = [num_features * r for r in ratio]\n",
        "        self.device = device\n",
        "        # define layers\n",
        "        layer_list = OrderedDict()\n",
        "        for l in range(len(num_features_list)):\n",
        "            layer_list[\"conv{}\".format(l)] = nn.Conv2d(\n",
        "                in_channels=num_features_list[l - 1] if l > 0 else in_features * 2,\n",
        "                out_channels=num_features_list[l],\n",
        "                kernel_size=1,\n",
        "                bias=False,\n",
        "            )\n",
        "            layer_list[\"norm{}\".format(l)] = nn.BatchNorm2d(\n",
        "                num_features=num_features_list[l]\n",
        "            )\n",
        "            if l < (len(num_features_list) - 1):\n",
        "                layer_list[\"relu{}\".format(l)] = nn.LeakyReLU()\n",
        "        self.network = nn.Sequential(layer_list).to(device)\n",
        "\n",
        "    def forward(self, node_feat, edge_feat):\n",
        "        \"\"\"node_feat: (bs, dim), edge_feat: (bs, bs)\"\"\"\n",
        "        node_feat = node_feat.unsqueeze(dim=0)  # (1, bs, dim)\n",
        "        num_tasks = node_feat.size(0)  # 1\n",
        "        num_data = node_feat.size(1)  # bs\n",
        "        # get eye matrix (batch_size x node_size x node_size) only use inter dist.\n",
        "        diag_mask = 1.0 - torch.eye(num_data).unsqueeze(0).repeat(num_tasks, 1, 1).to(\n",
        "            self.device\n",
        "        )  # (1, bs, bs)\n",
        "        # set diagonal as zero and normalize\n",
        "        edge_feat = F.normalize(edge_feat * diag_mask, p=1, dim=-1)  # (bs, bs)\n",
        "        # compute attention and aggregate\n",
        "        aggr_feat = torch.bmm(edge_feat.squeeze(1), node_feat)  # (bs, dim)\n",
        "        node_feat = torch.cat([node_feat, aggr_feat], -1).transpose(\n",
        "            1, 2\n",
        "        )  # (1, 2*dim, bs)\n",
        "        # non-linear transform\n",
        "        node_feat = self.network(node_feat.unsqueeze(-1)).transpose(\n",
        "            1, 2\n",
        "        )  # (1, bs, dim)\n",
        "        node_feat = node_feat.squeeze(-1).squeeze(0)  # (bs, dim)\n",
        "        return node_feat\n",
        "\n",
        "\n",
        "class EdgeNet(nn.Module):\n",
        "    def __init__(self, in_features, num_features, device, ratio=(1,)):\n",
        "        super(EdgeNet, self).__init__()\n",
        "        num_features_list = [num_features * r for r in ratio]\n",
        "        self.device = device\n",
        "        # define layers\n",
        "        layer_list = OrderedDict()\n",
        "        for l in range(len(num_features_list)):\n",
        "            layer_list[\"conv{}\".format(l)] = nn.Conv2d(\n",
        "                in_channels=num_features_list[l - 1] if l > 0 else in_features,\n",
        "                out_channels=num_features_list[l],\n",
        "                kernel_size=1,\n",
        "                bias=False,\n",
        "            )\n",
        "            layer_list[\"norm{}\".format(l)] = nn.BatchNorm2d(\n",
        "                num_features=num_features_list[l]\n",
        "            )\n",
        "            layer_list[\"relu{}\".format(l)] = nn.LeakyReLU()\n",
        "        # add final similarity kernel\n",
        "        layer_list[\"conv_out\"] = nn.Conv2d(\n",
        "            in_channels=num_features_list[-1], out_channels=1, kernel_size=1\n",
        "        )\n",
        "        self.sim_network = nn.Sequential(layer_list).to(device)\n",
        "\n",
        "    def forward(self, node_feat):\n",
        "        node_feat = node_feat.unsqueeze(dim=0)  # (1, bs, dim)\n",
        "        num_tasks = node_feat.size(0)  # 1\n",
        "        num_data = node_feat.size(1)  # bs\n",
        "        x_i = node_feat.unsqueeze(2)  # (1, bs, 1, dim)\n",
        "        x_j = torch.transpose(x_i, 1, 2)  # (1, 1, bs, dim)\n",
        "        x_ij = torch.abs(x_i - x_j)  # (1, bs, bs, dim)\n",
        "        x_ij = torch.transpose(x_ij, 1, 3)  # (1, dim, bs, bs)\n",
        "        # compute similarity/dissimilarity (batch_size x feat_size x num_samples x num_samples)\n",
        "        sim_val = (\n",
        "            torch.sigmoid(self.sim_network(x_ij)).squeeze(1).squeeze(0).to(self.device)\n",
        "        )  # (bs, bs)\n",
        "        # normalize affinity matrix\n",
        "        force_edge_feat = (\n",
        "            torch.eye(num_data).unsqueeze(0).repeat(num_tasks, 1, 1).to(self.device)\n",
        "        )  # (1, bs, bs)\n",
        "        edge_feat = sim_val + force_edge_feat  # (bs, bs)\n",
        "        edge_feat = edge_feat + 1e-6  # add small value to avoid nan\n",
        "        edge_feat = edge_feat / torch.sum(edge_feat, dim=1).unsqueeze(1)  # normalize\n",
        "        return edge_feat, sim_val  # (bs, bs), (bs, bs)"
      ]
    },
    {
      "cell_type": "code",
      "execution_count": 5,
      "id": "3bcf2755",
      "metadata": {},
      "outputs": [],
      "source": [
        "from torchvision.models import mobilenet_v3_small\n",
        "\n",
        "\n",
        "class Model(nn.Module):\n",
        "    def __init__(self, num_classes=7):\n",
        "        super(Model, self).__init__()\n",
        "        self.backbone = mobilenet_v3_small(pretrained=True)\n",
        "        self.backbone.classifier = nn.Sequential()\n",
        "\n",
        "        self.gcn = GCN(\n",
        "            in_features=576,\n",
        "            edge_features=576,\n",
        "            out_feature=num_classes,\n",
        "            device=\"cuda\",\n",
        "            ratio=(1,),\n",
        "        )\n",
        "\n",
        "    def forward(self, x):\n",
        "        x = self.backbone(x)\n",
        "        x, edge_sim = self.gcn(x)\n",
        "        return x, edge_sim"
      ]
    },
    {
      "cell_type": "code",
      "execution_count": 6,
      "id": "b6a3ffdc",
      "metadata": {},
      "outputs": [
        {
          "name": "stderr",
          "output_type": "stream",
          "text": [
            "/home/gb2t/anaconda3/envs/duc_open_sora/lib/python3.8/site-packages/torchvision/models/_utils.py:208: UserWarning: The parameter 'pretrained' is deprecated since 0.13 and may be removed in the future, please use 'weights' instead.\n",
            "  warnings.warn(\n",
            "/home/gb2t/anaconda3/envs/duc_open_sora/lib/python3.8/site-packages/torchvision/models/_utils.py:223: UserWarning: Arguments other than a weight enum or `None` for 'weights' are deprecated since 0.13 and may be removed in the future. The current behavior is equivalent to passing `weights=MobileNet_V3_Small_Weights.IMAGENET1K_V1`. You can also use `weights=MobileNet_V3_Small_Weights.DEFAULT` to get the most up-to-date weights.\n",
            "  warnings.warn(msg)\n"
          ]
        }
      ],
      "source": [
        "model = Model(num_classes=101).to(device)"
      ]
    },
    {
      "cell_type": "code",
      "execution_count": 7,
      "id": "61b03fcd",
      "metadata": {},
      "outputs": [
        {
          "name": "stdout",
          "output_type": "stream",
          "text": [
            "torch.Size([2, 101])\n"
          ]
        }
      ],
      "source": [
        "x = torch.randn(2, 3, 224, 224).to(device)\n",
        "print(model(x)[0].shape)"
      ]
    },
    {
      "cell_type": "markdown",
      "id": "43c7b151-a199-4e2a-8015-fdfb5f166284",
      "metadata": {
        "id": "43c7b151-a199-4e2a-8015-fdfb5f166284"
      },
      "source": [
        "# Train"
      ]
    },
    {
      "cell_type": "code",
      "execution_count": 8,
      "id": "1464e2bd-b627-475d-9941-f2a930d69a14",
      "metadata": {
        "id": "1464e2bd-b627-475d-9941-f2a930d69a14"
      },
      "outputs": [],
      "source": [
        "criterion = nn.CrossEntropyLoss()\n",
        "criterion_edge = nn.BCELoss()\n",
        "optimizer = Adam(model.parameters(), lr=1e-4)"
      ]
    },
    {
      "cell_type": "code",
      "execution_count": 9,
      "id": "04744c84-1e6d-4bfb-8dd5-abbdc91f102e",
      "metadata": {
        "id": "04744c84-1e6d-4bfb-8dd5-abbdc91f102e"
      },
      "outputs": [],
      "source": [
        "# Function to compute loss and accuracy for test set\n",
        "def evaluate(model, testloader, criterion):\n",
        "    model.eval()\n",
        "    test_loss = 0.0\n",
        "    running_correct = 0\n",
        "    total = 0\n",
        "    with torch.no_grad():\n",
        "        for images, labels in testloader:\n",
        "            # Move inputs and labels to the device\n",
        "            images, labels = images.to(device), labels.to(device)\n",
        "\n",
        "            outputs, edge_sim = model(images)\n",
        "            # Cls loss\n",
        "            loss_cls = criterion(outputs, labels)\n",
        "\n",
        "            # Edge loss\n",
        "            edge_gt, edge_mask = model.gcn.label2edge(labels.unsqueeze(dim=0))\n",
        "            loss_edge = criterion_edge(\n",
        "                edge_sim.masked_select(edge_mask), edge_gt.masked_select(edge_mask)\n",
        "            )\n",
        "\n",
        "            # Total loss\n",
        "            loss = 0.3 * loss_cls + loss_edge\n",
        "\n",
        "            test_loss += loss.item()\n",
        "\n",
        "            _, predicted = torch.max(outputs.data, 1)\n",
        "            total += labels.size(0)\n",
        "            running_correct += (predicted == labels).sum().item()\n",
        "\n",
        "    accuracy = 100 * running_correct / total\n",
        "    test_loss = test_loss / len(testloader)\n",
        "    return test_loss, accuracy"
      ]
    },
    {
      "cell_type": "code",
      "execution_count": 10,
      "id": "f2402591-e7f7-4bdd-8962-c029cfcd9307",
      "metadata": {
        "id": "f2402591-e7f7-4bdd-8962-c029cfcd9307"
      },
      "outputs": [],
      "source": [
        "# some parameter\n",
        "train_losses = []\n",
        "train_accuracies = []\n",
        "test_losses = []\n",
        "test_accuracies = []\n",
        "max_epoch = 30"
      ]
    },
    {
      "cell_type": "code",
      "execution_count": 11,
      "id": "190a58e1-0864-4818-a8d2-0f83212c6d13",
      "metadata": {
        "id": "190a58e1-0864-4818-a8d2-0f83212c6d13",
        "outputId": "3724347d-79a0-421d-e565-81297021a64d"
      },
      "outputs": [
        {
          "name": "stdout",
          "output_type": "stream",
          "text": [
            "Epoch [  1/ 30] \t Loss: 1.68725     Accuracy: 19.35% \t Test Loss: 1.47589     Test Accuracy: 34.22%\n",
            "Epoch [  2/ 30] \t Loss: 1.13364     Accuracy: 54.07% \t Test Loss: 1.08453     Test Accuracy: 51.04%\n",
            "Epoch [  3/ 30] \t Loss: 0.84118     Accuracy: 70.21% \t Test Loss: 0.85645     Test Accuracy: 62.50%\n",
            "Epoch [  4/ 30] \t Loss: 0.66854     Accuracy: 79.30% \t Test Loss: 0.73769     Test Accuracy: 70.85%\n",
            "Epoch [  5/ 30] \t Loss: 0.55760     Accuracy: 84.70% \t Test Loss: 0.63457     Test Accuracy: 77.94%\n",
            "Epoch [  6/ 30] \t Loss: 0.47375     Accuracy: 88.56% \t Test Loss: 0.56384     Test Accuracy: 80.13%\n",
            "Epoch [  7/ 30] \t Loss: 0.41969     Accuracy: 90.77% \t Test Loss: 0.52100     Test Accuracy: 83.12%\n",
            "Epoch [  8/ 30] \t Loss: 0.37344     Accuracy: 93.08% \t Test Loss: 0.49551     Test Accuracy: 83.87%\n",
            "Epoch [  9/ 30] \t Loss: 0.33964     Accuracy: 94.27% \t Test Loss: 0.46318     Test Accuracy: 84.85%\n",
            "Epoch [ 10/ 30] \t Loss: 0.31317     Accuracy: 95.35% \t Test Loss: 0.44438     Test Accuracy: 85.08%\n",
            "Epoch [ 11/ 30] \t Loss: 0.28864     Accuracy: 96.48% \t Test Loss: 0.43478     Test Accuracy: 85.83%\n",
            "Epoch [ 12/ 30] \t Loss: 0.27131     Accuracy: 96.82% \t Test Loss: 0.38330     Test Accuracy: 87.27%\n",
            "Epoch [ 13/ 30] \t Loss: 0.25304     Accuracy: 97.44% \t Test Loss: 0.38624     Test Accuracy: 86.81%\n",
            "Epoch [ 14/ 30] \t Loss: 0.23825     Accuracy: 97.77% \t Test Loss: 0.37093     Test Accuracy: 88.42%\n",
            "Epoch [ 15/ 30] \t Loss: 0.22987     Accuracy: 98.18% \t Test Loss: 0.34514     Test Accuracy: 87.73%\n",
            "Epoch [ 16/ 30] \t Loss: 0.21212     Accuracy: 98.89% \t Test Loss: 0.32368     Test Accuracy: 88.94%\n",
            "Epoch [ 17/ 30] \t Loss: 0.20458     Accuracy: 98.98% \t Test Loss: 0.31930     Test Accuracy: 89.86%\n",
            "Epoch [ 18/ 30] \t Loss: 0.19768     Accuracy: 99.02% \t Test Loss: 0.30054     Test Accuracy: 89.63%\n",
            "Epoch [ 19/ 30] \t Loss: 0.18774     Accuracy: 99.09% \t Test Loss: 0.29113     Test Accuracy: 90.32%\n",
            "Epoch [ 20/ 30] \t Loss: 0.18183     Accuracy: 99.22% \t Test Loss: 0.27500     Test Accuracy: 90.21%\n",
            "Epoch [ 21/ 30] \t Loss: 0.17456     Accuracy: 99.42% \t Test Loss: 0.25407     Test Accuracy: 90.21%\n",
            "Epoch [ 22/ 30] \t Loss: 0.17137     Accuracy: 99.57% \t Test Loss: 0.27705     Test Accuracy: 90.61%\n",
            "Epoch [ 23/ 30] \t Loss: 0.16207     Accuracy: 99.64% \t Test Loss: 0.26225     Test Accuracy: 90.78%\n",
            "Epoch [ 24/ 30] \t Loss: 0.15589     Accuracy: 99.64% \t Test Loss: 0.25916     Test Accuracy: 90.96%\n",
            "Epoch [ 25/ 30] \t Loss: 0.15304     Accuracy: 99.67% \t Test Loss: 0.26014     Test Accuracy: 90.90%\n",
            "Epoch [ 26/ 30] \t Loss: 0.14902     Accuracy: 99.74% \t Test Loss: 0.23495     Test Accuracy: 91.07%\n",
            "Epoch [ 27/ 30] \t Loss: 0.14391     Accuracy: 99.76% \t Test Loss: 0.26223     Test Accuracy: 91.07%\n",
            "Epoch [ 28/ 30] \t Loss: 0.14205     Accuracy: 99.86% \t Test Loss: 0.24964     Test Accuracy: 91.13%\n",
            "Epoch [ 29/ 30] \t Loss: 0.13746     Accuracy: 99.86% \t Test Loss: 0.25724     Test Accuracy: 91.30%\n",
            "Epoch [ 30/ 30] \t Loss: 0.13306     Accuracy: 99.77% \t Test Loss: 0.24112     Test Accuracy: 91.76%\n"
          ]
        }
      ],
      "source": [
        "# train\n",
        "for epoch in range(max_epoch):\n",
        "    model.train()\n",
        "    running_loss = 0.0\n",
        "    running_correct = 0  # to track number of correct predictions\n",
        "    total = 0  # to track total number of samples\n",
        "\n",
        "    for i, (inputs, labels) in enumerate(trainloader, 0):\n",
        "        # Move inputs and labels to the device\n",
        "        inputs, labels = inputs.to(device), labels.to(device)\n",
        "\n",
        "        # Zero the parameter gradients\n",
        "        optimizer.zero_grad()\n",
        "\n",
        "        # Forward pass\n",
        "        outputs, edge_sim = model(inputs)\n",
        "\n",
        "        # Cls loss\n",
        "        loss_cls = criterion(outputs, labels)\n",
        "\n",
        "        # Edge loss\n",
        "        edge_gt, edge_mask = model.gcn.label2edge(labels.unsqueeze(dim=0))\n",
        "        loss_edge = criterion_edge(\n",
        "            edge_sim.masked_select(edge_mask), edge_gt.masked_select(edge_mask)\n",
        "        )\n",
        "\n",
        "        # Total loss\n",
        "        loss = 0.3 * loss_cls + loss_edge\n",
        "\n",
        "        running_loss += loss.item()\n",
        "\n",
        "        # Backward pass and optimization\n",
        "        loss.backward()\n",
        "        optimizer.step()\n",
        "\n",
        "        # Determine class predictions and track accuracy\n",
        "        _, predicted = torch.max(outputs.data, 1)\n",
        "        total += labels.size(0)\n",
        "        running_correct += (predicted == labels).sum().item()\n",
        "\n",
        "    epoch_accuracy = 100 * running_correct / total\n",
        "    epoch_loss = running_loss / (i + 1)\n",
        "\n",
        "    test_loss, test_accuracy = evaluate(model, testloader, criterion)\n",
        "    print(\n",
        "        f\"Epoch [{(epoch + 1):3}/{max_epoch:3}] \\t Loss: {epoch_loss:<11.5f} Accuracy: {epoch_accuracy:.2f}% \\t Test Loss: {test_loss:<11.5f} Test Accuracy: {test_accuracy:.2f}%\"\n",
        "    )\n",
        "\n",
        "    # save for plot\n",
        "    train_losses.append(epoch_loss)\n",
        "    train_accuracies.append(epoch_accuracy)\n",
        "    test_losses.append(test_loss)\n",
        "    test_accuracies.append(test_accuracy)"
      ]
    },
    {
      "cell_type": "code",
      "execution_count": 12,
      "id": "cebcb439-88f2-40b6-9a17-4990ad324731",
      "metadata": {
        "id": "cebcb439-88f2-40b6-9a17-4990ad324731",
        "outputId": "7ad0b1ef-641d-447f-af55-8cee47220cf8"
      },
      "outputs": [
        {
          "name": "stdout",
          "output_type": "stream",
          "text": [
            "\n",
            "Best epoch: 30 with test accuracy: 91.76%\n"
          ]
        }
      ],
      "source": [
        "# the best accuracy\n",
        "best_epoch = np.argmax(test_accuracies)\n",
        "print(\n",
        "    f\"\\nBest epoch: {best_epoch + 1} with test accuracy: {test_accuracies[best_epoch]:.2f}%\"\n",
        ")"
      ]
    },
    {
      "cell_type": "markdown",
      "id": "z0RuEa2Wo44e",
      "metadata": {
        "id": "z0RuEa2Wo44e"
      },
      "source": [
        "# Plot results"
      ]
    },
    {
      "cell_type": "code",
      "execution_count": 13,
      "id": "DkC3_902Lgn-",
      "metadata": {
        "id": "DkC3_902Lgn-",
        "outputId": "980415bb-e7bf-4cd0-f937-7bdb4bbeeb21"
      },
      "outputs": [
        {
          "data": {
            "text/plain": [
              "<matplotlib.legend.Legend at 0x7bfc19ce0400>"
            ]
          },
          "execution_count": 13,
          "metadata": {},
          "output_type": "execute_result"
        },
        {
          "data": {
            "image/png": "[encoded data removed]",
            "text/plain": [
              "<Figure size 640x480 with 1 Axes>"
            ]
          },
          "metadata": {},
          "output_type": "display_data"
        }
      ],
      "source": [
        "plt.plot(train_losses, label=\"train_losses\")\n",
        "plt.plot(test_losses, label=\"test_losses\")\n",
        "plt.legend()"
      ]
    },
    {
      "cell_type": "code",
      "execution_count": 14,
      "id": "794f4e81",
      "metadata": {
        "id": "794f4e81",
        "outputId": "bf94f552-5d0c-4673-aa28-ab1ea2622dc1"
      },
      "outputs": [
        {
          "data": {
            "text/plain": [
              "<matplotlib.legend.Legend at 0x7bfc19d8b3a0>"
            ]
          },
          "execution_count": 14,
          "metadata": {},
          "output_type": "execute_result"
        },
        {
          "data": {
            "image/png": "[encoded data removed]",
            "text/plain": [
              "<Figure size 640x480 with 1 Axes>"
            ]
          },
          "metadata": {},
          "output_type": "display_data"
        }
      ],
      "source": [
        "plt.plot(train_accuracies, label=\"train_accuracy\")\n",
        "plt.plot(test_accuracies, label=\"test_accuracy\")\n",
        "plt.legend()"
      ]
    },
    {
      "cell_type": "code",
      "execution_count": null,
      "id": "989bb703",
      "metadata": {},
      "outputs": [],
      "source": []
    }
  ],
  "metadata": {
    "accelerator": "GPU",
    "colab": {
      "provenance": []
    },
    "gpuClass": "standard",
    "kernelspec": {
      "display_name": "Python 3 (ipykernel)",
      "language": "python",
      "name": "python3"
    },
    "language_info": {
      "codemirror_mode": {
        "name": "ipython",
        "version": 3
      },
      "file_extension": ".py",
      "mimetype": "text/x-python",
      "name": "python",
      "nbconvert_exporter": "python",
      "pygments_lexer": "ipython3",
      "version": "3.8.18"
    }
  },
  "nbformat": 4,
  "nbformat_minor": 5
}
