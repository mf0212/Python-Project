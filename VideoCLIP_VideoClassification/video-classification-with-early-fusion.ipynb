{
 "cells": [
  {
   "cell_type": "code",
   "execution_count": null,
   "metadata": {},
   "outputs": [],
   "source": [
    "%mkdir dataset\n",
    "%cd dataset\n",
    "!gdown 1N93rb_uFqKRZ9naX8CXShFt5RJHOmjZH\n",
    "!unzip -q rwf-2000.zip"
   ]
  },
  {
   "cell_type": "code",
   "execution_count": null,
   "metadata": {},
   "outputs": [],
   "source": [
    "%cd .."
   ]
  },
  {
   "cell_type": "markdown",
   "metadata": {},
   "source": [
    "# Import libraries"
   ]
  },
  {
   "cell_type": "code",
   "execution_count": 1,
   "metadata": {},
   "outputs": [],
   "source": [
    "import os\n",
    "import time\n",
    "\n",
    "import torch\n",
    "import torch.nn as nn\n",
    "import torch.nn.functional as F\n",
    "from PIL import Image\n",
    "from torch.utils.data import DataLoader, Dataset\n",
    "from torchvision import transforms\n",
    "from torchvision.models import resnet18\n",
    "from tqdm import tqdm\n",
    "\n",
    "os.environ[\"TOKENIZERS_PARALLELISM\"] = \"false\"\n",
    "\n",
    "import warnings\n",
    "\n",
    "warnings.filterwarnings(\"ignore\")"
   ]
  },
  {
   "cell_type": "code",
   "execution_count": 2,
   "metadata": {},
   "outputs": [],
   "source": [
    "import logging\n",
    "\n",
    "logging.getLogger().setLevel(logging.INFO)\n",
    "logging.basicConfig(format=\"%(message)s\", level=logging.INFO)\n",
    "LOGGER = logging.getLogger(\"Torch-Cls\")\n",
    "seed = 123\n",
    "torch.manual_seed(seed)\n",
    "torch.cuda.manual_seed(seed)\n",
    "torch.backends.cudnn.deterministic = True\n",
    "torch.backends.cudnn.benchmark = False"
   ]
  },
  {
   "cell_type": "markdown",
   "metadata": {},
   "source": [
    "# Model"
   ]
  },
  {
   "cell_type": "code",
   "execution_count": 3,
   "metadata": {},
   "outputs": [],
   "source": [
    "class Model(nn.Module):\n",
    "    def __init__(self, num_classes=2, num_input_channel=48):\n",
    "        super(Model, self).__init__()\n",
    "        self.resnet = resnet18(pretrained=True)\n",
    "        self.resnet.conv1 = nn.Conv2d(\n",
    "            num_input_channel, 64, kernel_size=7, stride=2, padding=3, bias=False\n",
    "        )\n",
    "        self.resnet.fc = nn.Sequential(nn.Linear(self.resnet.fc.in_features, 512))\n",
    "        self.fc1 = nn.Linear(512, 128)\n",
    "        self.fc2 = nn.Linear(128, num_classes)\n",
    "\n",
    "    def forward(self, x_3d):\n",
    "        # (bs, C, T, H, W)\n",
    "        # concatenate all C and T dimensions to make it (bs, C*T, H, W)\n",
    "        x_3d = x_3d.permute(0, 2, 1, 3, 4).contiguous()\n",
    "        x_3d = x_3d.view(\n",
    "            x_3d.size(0), x_3d.size(1) * x_3d.size(2), x_3d.size(3), x_3d.size(4)\n",
    "        )\n",
    "\n",
    "        out = self.resnet(x_3d)\n",
    "\n",
    "        x = self.fc1(out)\n",
    "        x = F.relu(x)\n",
    "        x = self.fc2(x)\n",
    "        return x"
   ]
  },
  {
   "cell_type": "code",
   "execution_count": 4,
   "metadata": {},
   "outputs": [
    {
     "name": "stdout",
     "output_type": "stream",
     "text": [
      "Model has 11646210 parameters\n",
      "torch.Size([1, 2])\n"
     ]
    }
   ],
   "source": [
    "# Example of how to use the model\n",
    "model = Model(num_classes=2)\n",
    "\n",
    "# Check param\n",
    "param = sum(p.numel() for p in model.parameters() if p.requires_grad)\n",
    "print(f\"Model has {param} parameters\")\n",
    "\n",
    "# Test the model with a random input (batch_size, channels, frames, height, width)\n",
    "inputs = torch.rand(1, 3, 16, 224, 224)\n",
    "\n",
    "output = model(inputs)\n",
    "\n",
    "print(output.shape)"
   ]
  },
  {
   "cell_type": "code",
   "execution_count": 5,
   "metadata": {},
   "outputs": [],
   "source": [
    "del model, inputs, output"
   ]
  },
  {
   "cell_type": "markdown",
   "metadata": {},
   "source": [
    "# Load dataset"
   ]
  },
  {
   "cell_type": "code",
   "execution_count": 6,
   "metadata": {},
   "outputs": [],
   "source": [
    "class VideoDataset(Dataset):\n",
    "    def __init__(self, root_dir, phase=\"train\", transform=None, n_frames=None):\n",
    "        \"\"\"\n",
    "        Args:\n",
    "            root_dir (string): Directory with all the videos (each video as a subdirectory of frames).\n",
    "            transform (callable, optional): Optional transform to be applied on a sample.\n",
    "            n_frames (int, optional): Number of frames to sample from each video, uniformly. If None, use all frames.\n",
    "        \"\"\"\n",
    "        self.root_dir = root_dir\n",
    "        self.transform = transform\n",
    "        self.n_frames = n_frames\n",
    "        self.phase = phase\n",
    "        self.videos, self.labels = self._load_videos()\n",
    "\n",
    "    def _load_videos(self):\n",
    "        videos, labels = [], []\n",
    "        class_id = 0\n",
    "\n",
    "        video_folders = os.listdir(os.path.join(self.root_dir, self.phase))\n",
    "\n",
    "        for folder in video_folders:\n",
    "            video_paths = os.listdir(os.path.join(self.root_dir, self.phase, folder))\n",
    "\n",
    "            for video_path in video_paths:\n",
    "                video_folder = os.path.join(\n",
    "                    self.root_dir, self.phase, folder, video_path\n",
    "                )\n",
    "                frames = sorted(\n",
    "                    (os.path.join(video_folder, f) for f in os.listdir(video_folder)),\n",
    "                    key=lambda f: int(\n",
    "                        \"\".join(filter(str.isdigit, os.path.basename(f)))\n",
    "                    ),\n",
    "                )\n",
    "\n",
    "                if self.n_frames:\n",
    "                    frames = self._uniform_sample(frames, self.n_frames)\n",
    "\n",
    "                videos.append(frames)\n",
    "                labels.append(class_id)\n",
    "\n",
    "            class_id += 1\n",
    "\n",
    "        return videos, labels\n",
    "\n",
    "    def _uniform_sample(self, frames, n_frames):\n",
    "        \"\"\"\n",
    "        Helper method to uniformly sample n_frames from the frames list.\n",
    "        \"\"\"\n",
    "        stride = max(1, len(frames) // n_frames)\n",
    "        sampled = [frames[i] for i in range(0, len(frames), stride)]\n",
    "        return sampled[:n_frames]\n",
    "\n",
    "    def __len__(self):\n",
    "        return len(self.videos)\n",
    "\n",
    "    def __getitem__(self, idx):\n",
    "        video_frames = self.videos[idx]\n",
    "        label = self.labels[idx]\n",
    "        images = []\n",
    "        for frame_path in video_frames:\n",
    "            image = Image.open(frame_path).convert(\"RGB\")\n",
    "            if self.transform:\n",
    "                image = self.transform(image)\n",
    "            images.append(image)\n",
    "\n",
    "        # Stack images along new dimension (sequence length)\n",
    "        data = torch.stack(images, dim=0)\n",
    "\n",
    "        # Rearrange to have the shape (C, T, H, W)\n",
    "        data = data.permute(1, 0, 2, 3)\n",
    "        return data, label"
   ]
  },
  {
   "cell_type": "code",
   "execution_count": 7,
   "metadata": {},
   "outputs": [
    {
     "name": "stdout",
     "output_type": "stream",
     "text": [
      "Number of cpus: 80\n",
      "torch.Size([16, 3, 15, 224, 224]) tensor([1, 0, 1, 0, 0, 1, 1, 0, 1, 1, 1, 0, 0, 0, 0, 1])\n"
     ]
    }
   ],
   "source": [
    "BATCH_SIZE = 16\n",
    "MAX_LEN = 15\n",
    "IMAGE_SIZE = 224\n",
    "\n",
    "\n",
    "transform = transforms.Compose(\n",
    "    [\n",
    "        transforms.Resize((IMAGE_SIZE, IMAGE_SIZE)),\n",
    "        transforms.ToTensor(),\n",
    "    ]\n",
    ")\n",
    "\n",
    "# Load dataset\n",
    "train_dataset = VideoDataset(\n",
    "    root_dir=\"./dataset/rwf-2000\", phase=\"train\", transform=transform, n_frames=MAX_LEN\n",
    ")\n",
    "\n",
    "val_dataset = VideoDataset(\n",
    "    root_dir=\"./dataset/rwf-2000\", phase=\"val\", transform=transform, n_frames=MAX_LEN\n",
    ")\n",
    "\n",
    "# Count number of cpus\n",
    "cpus = os.cpu_count()\n",
    "print(f\"Number of cpus: {cpus}\")\n",
    "\n",
    "# Create data loaders\n",
    "train_loader = DataLoader(\n",
    "    train_dataset, batch_size=BATCH_SIZE, num_workers=cpus, shuffle=True\n",
    ")\n",
    "val_loader = DataLoader(\n",
    "    val_dataset, batch_size=BATCH_SIZE, num_workers=cpus, shuffle=False\n",
    ")\n",
    "\n",
    "# test\n",
    "for data, label in train_loader:\n",
    "    print(data.shape, label)\n",
    "    break"
   ]
  },
  {
   "cell_type": "markdown",
   "metadata": {},
   "source": [
    "# Train model"
   ]
  },
  {
   "cell_type": "code",
   "execution_count": 8,
   "metadata": {},
   "outputs": [],
   "source": [
    "def colorstr(*input):\n",
    "    *args, string = input if len(input) > 1 else (\"blue\", \"bold\", input[0])\n",
    "    colors = {\n",
    "        \"black\": \"\\033[30m\",  # basic colors\n",
    "        \"red\": \"\\033[31m\",\n",
    "        \"green\": \"\\033[32m\",\n",
    "        \"yellow\": \"\\033[33m\",\n",
    "        \"blue\": \"\\033[34m\",\n",
    "        \"magenta\": \"\\033[35m\",\n",
    "        \"cyan\": \"\\033[36m\",\n",
    "        \"white\": \"\\033[37m\",\n",
    "        \"bright_black\": \"\\033[90m\",  # bright colors\n",
    "        \"bright_red\": \"\\033[91m\",\n",
    "        \"bright_green\": \"\\033[92m\",\n",
    "        \"bright_yellow\": \"\\033[93m\",\n",
    "        \"bright_blue\": \"\\033[94m\",\n",
    "        \"bright_magenta\": \"\\033[95m\",\n",
    "        \"bright_cyan\": \"\\033[96m\",\n",
    "        \"bright_white\": \"\\033[97m\",\n",
    "        \"end\": \"\\033[0m\",  # misc\n",
    "        \"bold\": \"\\033[1m\",\n",
    "        \"underline\": \"\\033[4m\",\n",
    "    }\n",
    "    return \"\".join(colors[x] for x in args) + f\"{string}\" + colors[\"end\"]"
   ]
  },
  {
   "cell_type": "code",
   "execution_count": 9,
   "metadata": {},
   "outputs": [],
   "source": [
    "def train_model(\n",
    "    model, train_loader, val_loader, criterion, optimizer, num_epochs=25, device=\"cuda\"\n",
    "):\n",
    "    \"\"\"\n",
    "    Function to train the model.\n",
    "\n",
    "    Parameters:\n",
    "    - model: The neural network model to train.\n",
    "    - train_loader: DataLoader for the training set.\n",
    "    - val_loader: DataLoader for the validation set.\n",
    "    - criterion: The loss function.\n",
    "    - optimizer: The optimization algorithm.\n",
    "    - num_epochs: Number of epochs to train for.\n",
    "    - device: The device to run the training on, 'cuda' or 'cpu'.\n",
    "\n",
    "    Returns:\n",
    "    - model: The trained model.\n",
    "    \"\"\"\n",
    "    since = time.time()\n",
    "\n",
    "    history = {\n",
    "        \"train_loss\": [],\n",
    "        \"train_acc\": [],\n",
    "        \"val_loss\": [],\n",
    "        \"val_acc\": [],\n",
    "        \"lr\": [],\n",
    "    }\n",
    "    best_val_acc = 0.0\n",
    "\n",
    "    # Send the model to the specified device\n",
    "    model.to(device)\n",
    "\n",
    "    # Loop over the dataset multiple times\n",
    "    for epoch in range(num_epochs):\n",
    "        LOGGER.info(colorstr(f\"Epoch {epoch}/{num_epochs-1}:\"))\n",
    "\n",
    "        # Each epoch has a training and validation phase\n",
    "        for phase in [\"train\", \"val\"]:\n",
    "            if phase == \"train\":\n",
    "                LOGGER.info(\n",
    "                    colorstr(\"bright_yellow\", \"bold\", \"\\n%20s\" + \"%15s\" * 3)\n",
    "                    % (\"Training:\", \"gpu_mem\", \"loss\", \"acc\")\n",
    "                )\n",
    "                model.train()\n",
    "            else:\n",
    "                LOGGER.info(\n",
    "                    colorstr(\"bright_green\", \"bold\", \"\\n%20s\" + \"%15s\" * 3)\n",
    "                    % (\"Validation:\", \"gpu_mem\", \"loss\", \"acc\")\n",
    "                )\n",
    "                model.eval()\n",
    "\n",
    "            running_items = 0\n",
    "            running_loss = 0.0\n",
    "            running_corrects = 0\n",
    "\n",
    "            # Use the appropriate data loader\n",
    "            data_loader = train_loader if phase == \"train\" else val_loader\n",
    "\n",
    "            _phase = tqdm(\n",
    "                data_loader,\n",
    "                total=len(data_loader),\n",
    "                bar_format=\"{desc} {percentage:>7.0f}%|{bar:10}{r_bar}{bar:-10b}\",\n",
    "                unit=\"batch\",\n",
    "            )\n",
    "\n",
    "            # Iterate over data.\n",
    "            for inputs, labels in _phase:\n",
    "                inputs = inputs.to(device)\n",
    "                labels = labels.to(device)\n",
    "\n",
    "                # Zero the parameter gradients\n",
    "                optimizer.zero_grad()\n",
    "\n",
    "                # Forward\n",
    "                # Track history only in train\n",
    "                with torch.set_grad_enabled(phase == \"train\"):\n",
    "                    outputs = model(inputs)\n",
    "                    _, preds = torch.max(outputs, 1)\n",
    "                    loss = criterion(outputs, labels)\n",
    "\n",
    "                    # Backward + optimize only if in training phase\n",
    "                    if phase == \"train\":\n",
    "                        loss.backward()\n",
    "                        optimizer.step()\n",
    "\n",
    "                # Statistics\n",
    "                running_items += outputs.size(0)\n",
    "                running_loss += loss.item() * inputs.size(0)\n",
    "                running_corrects += torch.sum(preds == labels.data)\n",
    "\n",
    "                epoch_loss = running_loss / running_items\n",
    "                epoch_acc = running_corrects / running_items\n",
    "\n",
    "                mem = f\"{torch.cuda.memory_reserved() / 1E9 if torch.cuda.is_available() else 0:.3g}GB\"\n",
    "                desc = (\"%35s\" + \"%15.6g\" * 2) % (\n",
    "                    mem,\n",
    "                    epoch_loss,\n",
    "                    epoch_acc,\n",
    "                )\n",
    "                _phase.set_description_str(desc)\n",
    "\n",
    "            if phase == \"train\":\n",
    "                history[\"train_loss\"].append(epoch_loss)\n",
    "                history[\"train_acc\"].append(epoch_acc.item())\n",
    "            else:\n",
    "                history[\"val_loss\"].append(epoch_loss)\n",
    "                history[\"val_acc\"].append(epoch_acc.item())\n",
    "                if epoch_acc > best_val_acc:\n",
    "                    best_val_acc = epoch_acc\n",
    "                    history[\"best_epoch\"] = epoch\n",
    "\n",
    "                print(f\"Best val Acc: {best_val_acc:4f}\")\n",
    "\n",
    "    time_elapsed = time.time() - since\n",
    "    history[\"INFO\"] = (\n",
    "        \"Training complete in {:.0f}h {:.0f}m {:.0f}s with {} epochs - Best val Acc: {:4f}\".format(\n",
    "            time_elapsed // 3600,\n",
    "            time_elapsed % 3600 // 60,\n",
    "            time_elapsed % 60,\n",
    "            num_epochs,\n",
    "            best_val_acc,\n",
    "        )\n",
    "    )\n",
    "\n",
    "    return model"
   ]
  },
  {
   "cell_type": "code",
   "execution_count": 10,
   "metadata": {},
   "outputs": [
    {
     "name": "stderr",
     "output_type": "stream",
     "text": [
      "\u001b[34m\u001b[1mEpoch 0/49:\u001b[0m\n",
      "\u001b[93m\u001b[1m\n",
      "           Training:        gpu_mem           loss            acc\u001b[0m\n",
      "                             1.28GB       0.663784        0.60875     100%|██████████| 100/100 [00:15<00:00,  6.30batch/s]\n",
      "\u001b[92m\u001b[1m\n",
      "         Validation:        gpu_mem           loss            acc\u001b[0m\n",
      "                             1.28GB       0.674082         0.5675     100%|██████████| 25/25 [00:05<00:00,  4.78batch/s]\n",
      "\u001b[34m\u001b[1mEpoch 1/49:\u001b[0m\n",
      "\u001b[93m\u001b[1m\n",
      "           Training:        gpu_mem           loss            acc\u001b[0m\n"
     ]
    },
    {
     "name": "stdout",
     "output_type": "stream",
     "text": [
      "Best val Acc: 0.567500\n"
     ]
    },
    {
     "name": "stderr",
     "output_type": "stream",
     "text": [
      "                             1.28GB       0.637746          0.635     100%|██████████| 100/100 [00:22<00:00,  4.51batch/s]\n",
      "\u001b[92m\u001b[1m\n",
      "         Validation:        gpu_mem           loss            acc\u001b[0m\n",
      "                             1.28GB       0.662456            0.7     100%|██████████| 25/25 [00:05<00:00,  4.31batch/s]\n",
      "\u001b[34m\u001b[1mEpoch 2/49:\u001b[0m\n",
      "\u001b[93m\u001b[1m\n",
      "           Training:        gpu_mem           loss            acc\u001b[0m\n"
     ]
    },
    {
     "name": "stdout",
     "output_type": "stream",
     "text": [
      "Best val Acc: 0.700000\n"
     ]
    },
    {
     "name": "stderr",
     "output_type": "stream",
     "text": [
      "                             1.28GB       0.617931         0.6575     100%|██████████| 100/100 [00:25<00:00,  3.90batch/s]\n",
      "\u001b[92m\u001b[1m\n",
      "         Validation:        gpu_mem           loss            acc\u001b[0m\n",
      "                             1.28GB       0.558344         0.6925     100%|██████████| 25/25 [00:05<00:00,  4.84batch/s]\n",
      "\u001b[34m\u001b[1mEpoch 3/49:\u001b[0m\n",
      "\u001b[93m\u001b[1m\n",
      "           Training:        gpu_mem           loss            acc\u001b[0m\n"
     ]
    },
    {
     "name": "stdout",
     "output_type": "stream",
     "text": [
      "Best val Acc: 0.700000\n"
     ]
    },
    {
     "name": "stderr",
     "output_type": "stream",
     "text": [
      "                             1.28GB       0.558595       0.723125     100%|██████████| 100/100 [00:16<00:00,  5.95batch/s]\n",
      "\u001b[92m\u001b[1m\n",
      "         Validation:        gpu_mem           loss            acc\u001b[0m\n",
      "                             1.28GB       0.513343         0.7325     100%|██████████| 25/25 [00:11<00:00,  2.26batch/s]\n",
      "\u001b[34m\u001b[1mEpoch 4/49:\u001b[0m\n",
      "\u001b[93m\u001b[1m\n",
      "           Training:        gpu_mem           loss            acc\u001b[0m\n"
     ]
    },
    {
     "name": "stdout",
     "output_type": "stream",
     "text": [
      "Best val Acc: 0.732500\n"
     ]
    },
    {
     "name": "stderr",
     "output_type": "stream",
     "text": [
      "                             1.28GB       0.538107        0.73625     100%|██████████| 100/100 [00:19<00:00,  5.15batch/s]\n",
      "\u001b[92m\u001b[1m\n",
      "         Validation:        gpu_mem           loss            acc\u001b[0m\n",
      "                             1.28GB       0.561356         0.6925     100%|██████████| 25/25 [00:06<00:00,  3.84batch/s]\n",
      "\u001b[34m\u001b[1mEpoch 5/49:\u001b[0m\n",
      "\u001b[93m\u001b[1m\n",
      "           Training:        gpu_mem           loss            acc\u001b[0m\n"
     ]
    },
    {
     "name": "stdout",
     "output_type": "stream",
     "text": [
      "Best val Acc: 0.732500\n"
     ]
    },
    {
     "name": "stderr",
     "output_type": "stream",
     "text": [
      "                             1.28GB         0.5525       0.719375     100%|██████████| 100/100 [00:16<00:00,  6.16batch/s]\n",
      "\u001b[92m\u001b[1m\n",
      "         Validation:        gpu_mem           loss            acc\u001b[0m\n",
      "                             1.28GB        0.51679           0.76     100%|██████████| 25/25 [00:05<00:00,  4.35batch/s]\n",
      "\u001b[34m\u001b[1mEpoch 6/49:\u001b[0m\n",
      "\u001b[93m\u001b[1m\n",
      "           Training:        gpu_mem           loss            acc\u001b[0m\n"
     ]
    },
    {
     "name": "stdout",
     "output_type": "stream",
     "text": [
      "Best val Acc: 0.760000\n"
     ]
    },
    {
     "name": "stderr",
     "output_type": "stream",
     "text": [
      "                             1.28GB       0.508915       0.748125     100%|██████████| 100/100 [00:22<00:00,  4.54batch/s]\n",
      "\u001b[92m\u001b[1m\n",
      "         Validation:        gpu_mem           loss            acc\u001b[0m\n",
      "                             1.28GB       0.582852            0.7     100%|██████████| 25/25 [00:10<00:00,  2.44batch/s]\n",
      "\u001b[34m\u001b[1mEpoch 7/49:\u001b[0m\n",
      "\u001b[93m\u001b[1m\n",
      "           Training:        gpu_mem           loss            acc\u001b[0m\n"
     ]
    },
    {
     "name": "stdout",
     "output_type": "stream",
     "text": [
      "Best val Acc: 0.760000\n"
     ]
    },
    {
     "name": "stderr",
     "output_type": "stream",
     "text": [
      "                             1.28GB       0.497875       0.771875     100%|██████████| 100/100 [00:15<00:00,  6.27batch/s]\n",
      "\u001b[92m\u001b[1m\n",
      "         Validation:        gpu_mem           loss            acc\u001b[0m\n",
      "                             1.28GB       0.606159          0.715     100%|██████████| 25/25 [00:05<00:00,  4.39batch/s]\n",
      "\u001b[34m\u001b[1mEpoch 8/49:\u001b[0m\n",
      "\u001b[93m\u001b[1m\n",
      "           Training:        gpu_mem           loss            acc\u001b[0m\n"
     ]
    },
    {
     "name": "stdout",
     "output_type": "stream",
     "text": [
      "Best val Acc: 0.760000\n"
     ]
    },
    {
     "name": "stderr",
     "output_type": "stream",
     "text": [
      "                             1.28GB       0.470255       0.784375     100%|██████████| 100/100 [00:21<00:00,  4.57batch/s]\n",
      "\u001b[92m\u001b[1m\n",
      "         Validation:        gpu_mem           loss            acc\u001b[0m\n",
      "                             1.28GB        0.76069         0.6775     100%|██████████| 25/25 [00:06<00:00,  3.64batch/s]\n",
      "\u001b[34m\u001b[1mEpoch 9/49:\u001b[0m\n",
      "\u001b[93m\u001b[1m\n",
      "           Training:        gpu_mem           loss            acc\u001b[0m\n"
     ]
    },
    {
     "name": "stdout",
     "output_type": "stream",
     "text": [
      "Best val Acc: 0.760000\n"
     ]
    },
    {
     "name": "stderr",
     "output_type": "stream",
     "text": [
      "                             1.28GB       0.456053        0.79125     100%|██████████| 100/100 [00:20<00:00,  4.77batch/s]\n",
      "\u001b[92m\u001b[1m\n",
      "         Validation:        gpu_mem           loss            acc\u001b[0m\n",
      "                             1.28GB       0.581523          0.735     100%|██████████| 25/25 [00:05<00:00,  4.80batch/s]\n",
      "\u001b[34m\u001b[1mEpoch 10/49:\u001b[0m\n",
      "\u001b[93m\u001b[1m\n",
      "           Training:        gpu_mem           loss            acc\u001b[0m\n"
     ]
    },
    {
     "name": "stdout",
     "output_type": "stream",
     "text": [
      "Best val Acc: 0.760000\n"
     ]
    },
    {
     "name": "stderr",
     "output_type": "stream",
     "text": [
      "                             1.28GB        0.43982       0.811875     100%|██████████| 100/100 [00:21<00:00,  4.68batch/s]\n",
      "\u001b[92m\u001b[1m\n",
      "         Validation:        gpu_mem           loss            acc\u001b[0m\n",
      "                             1.28GB       0.685145         0.7125     100%|██████████| 25/25 [00:05<00:00,  4.22batch/s]\n",
      "\u001b[34m\u001b[1mEpoch 11/49:\u001b[0m\n",
      "\u001b[93m\u001b[1m\n",
      "           Training:        gpu_mem           loss            acc\u001b[0m\n"
     ]
    },
    {
     "name": "stdout",
     "output_type": "stream",
     "text": [
      "Best val Acc: 0.760000\n"
     ]
    },
    {
     "name": "stderr",
     "output_type": "stream",
     "text": [
      "                             1.28GB       0.411721        0.81375     100%|██████████| 100/100 [00:21<00:00,  4.67batch/s]\n",
      "\u001b[92m\u001b[1m\n",
      "         Validation:        gpu_mem           loss            acc\u001b[0m\n",
      "                             1.28GB       0.595576         0.7375     100%|██████████| 25/25 [00:05<00:00,  4.67batch/s]\n",
      "\u001b[34m\u001b[1mEpoch 12/49:\u001b[0m\n",
      "\u001b[93m\u001b[1m\n",
      "           Training:        gpu_mem           loss            acc\u001b[0m\n"
     ]
    },
    {
     "name": "stdout",
     "output_type": "stream",
     "text": [
      "Best val Acc: 0.760000\n"
     ]
    },
    {
     "name": "stderr",
     "output_type": "stream",
     "text": [
      "                             1.28GB       0.411886       0.809375     100%|██████████| 100/100 [00:17<00:00,  5.79batch/s]\n",
      "\u001b[92m\u001b[1m\n",
      "         Validation:        gpu_mem           loss            acc\u001b[0m\n",
      "                             1.28GB       0.533912         0.7475     100%|██████████| 25/25 [00:10<00:00,  2.46batch/s]\n",
      "\u001b[34m\u001b[1mEpoch 13/49:\u001b[0m\n",
      "\u001b[93m\u001b[1m\n",
      "           Training:        gpu_mem           loss            acc\u001b[0m\n"
     ]
    },
    {
     "name": "stdout",
     "output_type": "stream",
     "text": [
      "Best val Acc: 0.760000\n"
     ]
    },
    {
     "name": "stderr",
     "output_type": "stream",
     "text": [
      "                             1.28GB       0.373899          0.835     100%|██████████| 100/100 [00:21<00:00,  4.66batch/s]\n",
      "\u001b[92m\u001b[1m\n",
      "         Validation:        gpu_mem           loss            acc\u001b[0m\n",
      "                             1.28GB       0.562547         0.7125     100%|██████████| 25/25 [00:05<00:00,  4.72batch/s]\n",
      "\u001b[34m\u001b[1mEpoch 14/49:\u001b[0m\n",
      "\u001b[93m\u001b[1m\n",
      "           Training:        gpu_mem           loss            acc\u001b[0m\n"
     ]
    },
    {
     "name": "stdout",
     "output_type": "stream",
     "text": [
      "Best val Acc: 0.760000\n"
     ]
    },
    {
     "name": "stderr",
     "output_type": "stream",
     "text": [
      "                             1.28GB       0.323617       0.863125     100%|██████████| 100/100 [00:16<00:00,  6.05batch/s]\n",
      "\u001b[92m\u001b[1m\n",
      "         Validation:        gpu_mem           loss            acc\u001b[0m\n",
      "                             1.28GB        0.54426         0.7625     100%|██████████| 25/25 [00:05<00:00,  4.45batch/s]\n",
      "\u001b[34m\u001b[1mEpoch 15/49:\u001b[0m\n",
      "\u001b[93m\u001b[1m\n",
      "           Training:        gpu_mem           loss            acc\u001b[0m\n"
     ]
    },
    {
     "name": "stdout",
     "output_type": "stream",
     "text": [
      "Best val Acc: 0.762500\n"
     ]
    },
    {
     "name": "stderr",
     "output_type": "stream",
     "text": [
      "                             1.28GB       0.330508         0.8625     100%|██████████| 100/100 [00:21<00:00,  4.74batch/s]\n",
      "\u001b[92m\u001b[1m\n",
      "         Validation:        gpu_mem           loss            acc\u001b[0m\n",
      "                             1.28GB       0.683474           0.74     100%|██████████| 25/25 [00:10<00:00,  2.38batch/s]\n",
      "\u001b[34m\u001b[1mEpoch 16/49:\u001b[0m\n",
      "\u001b[93m\u001b[1m\n",
      "           Training:        gpu_mem           loss            acc\u001b[0m\n"
     ]
    },
    {
     "name": "stdout",
     "output_type": "stream",
     "text": [
      "Best val Acc: 0.762500\n"
     ]
    },
    {
     "name": "stderr",
     "output_type": "stream",
     "text": [
      "                             1.28GB       0.266239         0.8925     100%|██████████| 100/100 [00:15<00:00,  6.46batch/s]\n",
      "\u001b[92m\u001b[1m\n",
      "         Validation:        gpu_mem           loss            acc\u001b[0m\n",
      "                             1.28GB       0.582495         0.7225     100%|██████████| 25/25 [00:06<00:00,  3.89batch/s]\n",
      "\u001b[34m\u001b[1mEpoch 17/49:\u001b[0m\n",
      "\u001b[93m\u001b[1m\n",
      "           Training:        gpu_mem           loss            acc\u001b[0m\n"
     ]
    },
    {
     "name": "stdout",
     "output_type": "stream",
     "text": [
      "Best val Acc: 0.762500\n"
     ]
    },
    {
     "name": "stderr",
     "output_type": "stream",
     "text": [
      "                             1.28GB       0.239872        0.90125     100%|██████████| 100/100 [00:20<00:00,  4.78batch/s]\n",
      "\u001b[92m\u001b[1m\n",
      "         Validation:        gpu_mem           loss            acc\u001b[0m\n",
      "                             1.28GB       0.809109         0.7325     100%|██████████| 25/25 [00:11<00:00,  2.16batch/s]\n",
      "\u001b[34m\u001b[1mEpoch 18/49:\u001b[0m\n",
      "\u001b[93m\u001b[1m\n",
      "           Training:        gpu_mem           loss            acc\u001b[0m\n"
     ]
    },
    {
     "name": "stdout",
     "output_type": "stream",
     "text": [
      "Best val Acc: 0.762500\n"
     ]
    },
    {
     "name": "stderr",
     "output_type": "stream",
     "text": [
      "                             1.28GB       0.231648          0.915     100%|██████████| 100/100 [00:25<00:00,  3.87batch/s]\n",
      "\u001b[92m\u001b[1m\n",
      "         Validation:        gpu_mem           loss            acc\u001b[0m\n",
      "                             1.28GB        1.13082            0.7     100%|██████████| 25/25 [00:05<00:00,  4.56batch/s]\n",
      "\u001b[34m\u001b[1mEpoch 19/49:\u001b[0m\n",
      "\u001b[93m\u001b[1m\n",
      "           Training:        gpu_mem           loss            acc\u001b[0m\n"
     ]
    },
    {
     "name": "stdout",
     "output_type": "stream",
     "text": [
      "Best val Acc: 0.762500\n"
     ]
    },
    {
     "name": "stderr",
     "output_type": "stream",
     "text": [
      "                             1.28GB       0.287336       0.893125     100%|██████████| 100/100 [00:22<00:00,  4.53batch/s]\n",
      "\u001b[92m\u001b[1m\n",
      "         Validation:        gpu_mem           loss            acc\u001b[0m\n",
      "                             1.28GB       0.711121          0.725     100%|██████████| 25/25 [00:06<00:00,  3.72batch/s]\n",
      "\u001b[34m\u001b[1mEpoch 20/49:\u001b[0m\n",
      "\u001b[93m\u001b[1m\n",
      "           Training:        gpu_mem           loss            acc\u001b[0m\n"
     ]
    },
    {
     "name": "stdout",
     "output_type": "stream",
     "text": [
      "Best val Acc: 0.762500\n"
     ]
    },
    {
     "name": "stderr",
     "output_type": "stream",
     "text": [
      "                             1.28GB       0.188808         0.9275     100%|██████████| 100/100 [00:25<00:00,  3.93batch/s]\n",
      "\u001b[92m\u001b[1m\n",
      "         Validation:        gpu_mem           loss            acc\u001b[0m\n",
      "                             1.28GB       0.829249         0.7325     100%|██████████| 25/25 [00:05<00:00,  4.59batch/s]\n",
      "\u001b[34m\u001b[1mEpoch 21/49:\u001b[0m\n",
      "\u001b[93m\u001b[1m\n",
      "           Training:        gpu_mem           loss            acc\u001b[0m\n"
     ]
    },
    {
     "name": "stdout",
     "output_type": "stream",
     "text": [
      "Best val Acc: 0.762500\n"
     ]
    },
    {
     "name": "stderr",
     "output_type": "stream",
     "text": [
      "                             1.28GB       0.161342       0.939375     100%|██████████| 100/100 [00:16<00:00,  5.93batch/s]\n",
      "\u001b[92m\u001b[1m\n",
      "         Validation:        gpu_mem           loss            acc\u001b[0m\n",
      "                             1.28GB        1.00735         0.7225     100%|██████████| 25/25 [00:08<00:00,  3.02batch/s]\n",
      "\u001b[34m\u001b[1mEpoch 22/49:\u001b[0m\n",
      "\u001b[93m\u001b[1m\n",
      "           Training:        gpu_mem           loss            acc\u001b[0m\n"
     ]
    },
    {
     "name": "stdout",
     "output_type": "stream",
     "text": [
      "Best val Acc: 0.762500\n"
     ]
    },
    {
     "name": "stderr",
     "output_type": "stream",
     "text": [
      "                             1.28GB         0.1215       0.954375     100%|██████████| 100/100 [00:22<00:00,  4.45batch/s]\n",
      "\u001b[92m\u001b[1m\n",
      "         Validation:        gpu_mem           loss            acc\u001b[0m\n",
      "                             1.28GB       0.922845          0.725     100%|██████████| 25/25 [00:09<00:00,  2.61batch/s]\n",
      "\u001b[34m\u001b[1mEpoch 23/49:\u001b[0m\n",
      "\u001b[93m\u001b[1m\n",
      "           Training:        gpu_mem           loss            acc\u001b[0m\n"
     ]
    },
    {
     "name": "stdout",
     "output_type": "stream",
     "text": [
      "Best val Acc: 0.762500\n"
     ]
    },
    {
     "name": "stderr",
     "output_type": "stream",
     "text": [
      "                             1.28GB       0.106485        0.96375     100%|██████████| 100/100 [00:15<00:00,  6.29batch/s]\n",
      "\u001b[92m\u001b[1m\n",
      "         Validation:        gpu_mem           loss            acc\u001b[0m\n",
      "                             1.28GB        1.04982          0.725     100%|██████████| 25/25 [00:10<00:00,  2.46batch/s]\n",
      "\u001b[34m\u001b[1mEpoch 24/49:\u001b[0m\n",
      "\u001b[93m\u001b[1m\n",
      "           Training:        gpu_mem           loss            acc\u001b[0m\n"
     ]
    },
    {
     "name": "stdout",
     "output_type": "stream",
     "text": [
      "Best val Acc: 0.762500\n"
     ]
    },
    {
     "name": "stderr",
     "output_type": "stream",
     "text": [
      "                             1.28GB      0.0973728       0.960625     100%|██████████| 100/100 [00:16<00:00,  5.93batch/s]\n",
      "\u001b[92m\u001b[1m\n",
      "         Validation:        gpu_mem           loss            acc\u001b[0m\n",
      "                             1.28GB       0.914805          0.745     100%|██████████| 25/25 [00:10<00:00,  2.49batch/s]\n",
      "\u001b[34m\u001b[1mEpoch 25/49:\u001b[0m\n",
      "\u001b[93m\u001b[1m\n",
      "           Training:        gpu_mem           loss            acc\u001b[0m\n"
     ]
    },
    {
     "name": "stdout",
     "output_type": "stream",
     "text": [
      "Best val Acc: 0.762500\n"
     ]
    },
    {
     "name": "stderr",
     "output_type": "stream",
     "text": [
      "                             1.28GB        0.08871       0.966875     100%|██████████| 100/100 [00:20<00:00,  4.93batch/s]\n",
      "\u001b[92m\u001b[1m\n",
      "         Validation:        gpu_mem           loss            acc\u001b[0m\n",
      "                             1.28GB        1.66255            0.7     100%|██████████| 25/25 [00:05<00:00,  4.36batch/s]\n",
      "\u001b[34m\u001b[1mEpoch 26/49:\u001b[0m\n",
      "\u001b[93m\u001b[1m\n",
      "           Training:        gpu_mem           loss            acc\u001b[0m\n"
     ]
    },
    {
     "name": "stdout",
     "output_type": "stream",
     "text": [
      "Best val Acc: 0.762500\n"
     ]
    },
    {
     "name": "stderr",
     "output_type": "stream",
     "text": [
      "                             1.28GB      0.0520126         0.9825     100%|██████████| 100/100 [00:20<00:00,  4.95batch/s]\n",
      "\u001b[92m\u001b[1m\n",
      "         Validation:        gpu_mem           loss            acc\u001b[0m\n",
      "                             1.28GB        1.53772          0.715     100%|██████████| 25/25 [00:09<00:00,  2.61batch/s]\n",
      "\u001b[34m\u001b[1mEpoch 27/49:\u001b[0m\n",
      "\u001b[93m\u001b[1m\n",
      "           Training:        gpu_mem           loss            acc\u001b[0m\n"
     ]
    },
    {
     "name": "stdout",
     "output_type": "stream",
     "text": [
      "Best val Acc: 0.762500\n"
     ]
    },
    {
     "name": "stderr",
     "output_type": "stream",
     "text": [
      "                             1.28GB      0.0887668        0.96625     100%|██████████| 100/100 [00:20<00:00,  4.81batch/s]\n",
      "\u001b[92m\u001b[1m\n",
      "         Validation:        gpu_mem           loss            acc\u001b[0m\n",
      "                             1.28GB        1.02656         0.7375     100%|██████████| 25/25 [00:06<00:00,  3.75batch/s]\n",
      "\u001b[34m\u001b[1mEpoch 28/49:\u001b[0m\n",
      "\u001b[93m\u001b[1m\n",
      "           Training:        gpu_mem           loss            acc\u001b[0m\n"
     ]
    },
    {
     "name": "stdout",
     "output_type": "stream",
     "text": [
      "Best val Acc: 0.762500\n"
     ]
    },
    {
     "name": "stderr",
     "output_type": "stream",
     "text": [
      "                             1.28GB       0.117675        0.96125     100%|██████████| 100/100 [00:19<00:00,  5.04batch/s]\n",
      "\u001b[92m\u001b[1m\n",
      "         Validation:        gpu_mem           loss            acc\u001b[0m\n",
      "                             1.28GB        1.22816         0.6775     100%|██████████| 25/25 [00:05<00:00,  4.36batch/s]\n",
      "\u001b[34m\u001b[1mEpoch 29/49:\u001b[0m\n",
      "\u001b[93m\u001b[1m\n",
      "           Training:        gpu_mem           loss            acc\u001b[0m\n"
     ]
    },
    {
     "name": "stdout",
     "output_type": "stream",
     "text": [
      "Best val Acc: 0.762500\n"
     ]
    },
    {
     "name": "stderr",
     "output_type": "stream",
     "text": [
      "                             1.28GB      0.0599018         0.9825     100%|██████████| 100/100 [00:19<00:00,  5.03batch/s]\n",
      "\u001b[92m\u001b[1m\n",
      "         Validation:        gpu_mem           loss            acc\u001b[0m\n",
      "                             1.28GB        1.06942         0.7175     100%|██████████| 25/25 [00:09<00:00,  2.56batch/s]\n",
      "\u001b[34m\u001b[1mEpoch 30/49:\u001b[0m\n",
      "\u001b[93m\u001b[1m\n",
      "           Training:        gpu_mem           loss            acc\u001b[0m\n"
     ]
    },
    {
     "name": "stdout",
     "output_type": "stream",
     "text": [
      "Best val Acc: 0.762500\n"
     ]
    },
    {
     "name": "stderr",
     "output_type": "stream",
     "text": [
      "                             1.28GB      0.0607531       0.980625     100%|██████████| 100/100 [00:19<00:00,  5.12batch/s]\n",
      "\u001b[92m\u001b[1m\n",
      "         Validation:        gpu_mem           loss            acc\u001b[0m\n",
      "                             1.28GB        1.27013           0.72     100%|██████████| 25/25 [00:06<00:00,  3.74batch/s]\n",
      "\u001b[34m\u001b[1mEpoch 31/49:\u001b[0m\n",
      "\u001b[93m\u001b[1m\n",
      "           Training:        gpu_mem           loss            acc\u001b[0m\n"
     ]
    },
    {
     "name": "stdout",
     "output_type": "stream",
     "text": [
      "Best val Acc: 0.762500\n"
     ]
    },
    {
     "name": "stderr",
     "output_type": "stream",
     "text": [
      "                             1.28GB      0.0364207       0.986875     100%|██████████| 100/100 [00:20<00:00,  4.83batch/s]\n",
      "\u001b[92m\u001b[1m\n",
      "         Validation:        gpu_mem           loss            acc\u001b[0m\n",
      "                             1.28GB         2.2723         0.7175     100%|██████████| 25/25 [00:05<00:00,  4.39batch/s]\n",
      "\u001b[34m\u001b[1mEpoch 32/49:\u001b[0m\n",
      "\u001b[93m\u001b[1m\n",
      "           Training:        gpu_mem           loss            acc\u001b[0m\n"
     ]
    },
    {
     "name": "stdout",
     "output_type": "stream",
     "text": [
      "Best val Acc: 0.762500\n"
     ]
    },
    {
     "name": "stderr",
     "output_type": "stream",
     "text": [
      "                             1.28GB       0.137856       0.960625     100%|██████████| 100/100 [00:19<00:00,  5.16batch/s]\n",
      "\u001b[92m\u001b[1m\n",
      "         Validation:        gpu_mem           loss            acc\u001b[0m\n",
      "                             1.28GB        1.23478         0.7125     100%|██████████| 25/25 [00:09<00:00,  2.73batch/s]\n",
      "\u001b[34m\u001b[1mEpoch 33/49:\u001b[0m\n",
      "\u001b[93m\u001b[1m\n",
      "           Training:        gpu_mem           loss            acc\u001b[0m\n"
     ]
    },
    {
     "name": "stdout",
     "output_type": "stream",
     "text": [
      "Best val Acc: 0.762500\n"
     ]
    },
    {
     "name": "stderr",
     "output_type": "stream",
     "text": [
      "                             1.28GB      0.0439727       0.986875     100%|██████████| 100/100 [00:19<00:00,  5.16batch/s]\n",
      "\u001b[92m\u001b[1m\n",
      "         Validation:        gpu_mem           loss            acc\u001b[0m\n",
      "                             1.28GB        1.43254         0.7175     100%|██████████| 25/25 [00:05<00:00,  4.40batch/s]\n",
      "\u001b[34m\u001b[1mEpoch 34/49:\u001b[0m\n",
      "\u001b[93m\u001b[1m\n",
      "           Training:        gpu_mem           loss            acc\u001b[0m\n"
     ]
    },
    {
     "name": "stdout",
     "output_type": "stream",
     "text": [
      "Best val Acc: 0.762500\n"
     ]
    },
    {
     "name": "stderr",
     "output_type": "stream",
     "text": [
      "                             1.28GB      0.0576041           0.98     100%|██████████| 100/100 [00:20<00:00,  4.92batch/s]\n",
      "\u001b[92m\u001b[1m\n",
      "         Validation:        gpu_mem           loss            acc\u001b[0m\n",
      "                             1.28GB          1.529           0.73     100%|██████████| 25/25 [00:05<00:00,  4.56batch/s]\n",
      "\u001b[34m\u001b[1mEpoch 35/49:\u001b[0m\n",
      "\u001b[93m\u001b[1m\n",
      "           Training:        gpu_mem           loss            acc\u001b[0m\n"
     ]
    },
    {
     "name": "stdout",
     "output_type": "stream",
     "text": [
      "Best val Acc: 0.762500\n"
     ]
    },
    {
     "name": "stderr",
     "output_type": "stream",
     "text": [
      "                             1.28GB      0.0503387        0.98125     100%|██████████| 100/100 [00:19<00:00,  5.14batch/s]\n",
      "\u001b[92m\u001b[1m\n",
      "         Validation:        gpu_mem           loss            acc\u001b[0m\n",
      "                             1.28GB        1.69076          0.695     100%|██████████| 25/25 [00:08<00:00,  2.86batch/s]\n",
      "\u001b[34m\u001b[1mEpoch 36/49:\u001b[0m\n",
      "\u001b[93m\u001b[1m\n",
      "           Training:        gpu_mem           loss            acc\u001b[0m\n"
     ]
    },
    {
     "name": "stdout",
     "output_type": "stream",
     "text": [
      "Best val Acc: 0.762500\n"
     ]
    },
    {
     "name": "stderr",
     "output_type": "stream",
     "text": [
      "                             1.28GB      0.0400121       0.985625     100%|██████████| 100/100 [00:16<00:00,  6.19batch/s]\n",
      "\u001b[92m\u001b[1m\n",
      "         Validation:        gpu_mem           loss            acc\u001b[0m\n",
      "                             1.28GB        1.97842         0.7525     100%|██████████| 25/25 [00:11<00:00,  2.25batch/s]\n",
      "\u001b[34m\u001b[1mEpoch 37/49:\u001b[0m\n",
      "\u001b[93m\u001b[1m\n",
      "           Training:        gpu_mem           loss            acc\u001b[0m\n"
     ]
    },
    {
     "name": "stdout",
     "output_type": "stream",
     "text": [
      "Best val Acc: 0.762500\n"
     ]
    },
    {
     "name": "stderr",
     "output_type": "stream",
     "text": [
      "                             1.28GB      0.0223465       0.994375     100%|██████████| 100/100 [00:19<00:00,  5.05batch/s]\n",
      "\u001b[92m\u001b[1m\n",
      "         Validation:        gpu_mem           loss            acc\u001b[0m\n",
      "                             1.28GB        2.24906          0.715     100%|██████████| 25/25 [00:09<00:00,  2.54batch/s]\n",
      "\u001b[34m\u001b[1mEpoch 38/49:\u001b[0m\n",
      "\u001b[93m\u001b[1m\n",
      "           Training:        gpu_mem           loss            acc\u001b[0m\n"
     ]
    },
    {
     "name": "stdout",
     "output_type": "stream",
     "text": [
      "Best val Acc: 0.762500\n"
     ]
    },
    {
     "name": "stderr",
     "output_type": "stream",
     "text": [
      "                             1.28GB      0.0889881        0.97125     100%|██████████| 100/100 [00:15<00:00,  6.43batch/s]\n",
      "\u001b[92m\u001b[1m\n",
      "         Validation:        gpu_mem           loss            acc\u001b[0m\n",
      "                             1.28GB        1.27295         0.6975     100%|██████████| 25/25 [00:06<00:00,  3.83batch/s]\n",
      "\u001b[34m\u001b[1mEpoch 39/49:\u001b[0m\n",
      "\u001b[93m\u001b[1m\n",
      "           Training:        gpu_mem           loss            acc\u001b[0m\n"
     ]
    },
    {
     "name": "stdout",
     "output_type": "stream",
     "text": [
      "Best val Acc: 0.762500\n"
     ]
    },
    {
     "name": "stderr",
     "output_type": "stream",
     "text": [
      "                             1.28GB      0.0269819       0.988125     100%|██████████| 100/100 [00:25<00:00,  3.91batch/s]\n",
      "\u001b[92m\u001b[1m\n",
      "         Validation:        gpu_mem           loss            acc\u001b[0m\n",
      "                             1.28GB        1.99287         0.7225     100%|██████████| 25/25 [00:05<00:00,  4.30batch/s]\n",
      "\u001b[34m\u001b[1mEpoch 40/49:\u001b[0m\n",
      "\u001b[93m\u001b[1m\n",
      "           Training:        gpu_mem           loss            acc\u001b[0m\n"
     ]
    },
    {
     "name": "stdout",
     "output_type": "stream",
     "text": [
      "Best val Acc: 0.762500\n"
     ]
    },
    {
     "name": "stderr",
     "output_type": "stream",
     "text": [
      "                             1.28GB      0.0166769       0.996875     100%|██████████| 100/100 [00:19<00:00,  5.26batch/s]\n",
      "\u001b[92m\u001b[1m\n",
      "         Validation:        gpu_mem           loss            acc\u001b[0m\n",
      "                             1.28GB        1.80186         0.7125     100%|██████████| 25/25 [00:05<00:00,  4.37batch/s]\n",
      "\u001b[34m\u001b[1mEpoch 41/49:\u001b[0m\n",
      "\u001b[93m\u001b[1m\n",
      "           Training:        gpu_mem           loss            acc\u001b[0m\n"
     ]
    },
    {
     "name": "stdout",
     "output_type": "stream",
     "text": [
      "Best val Acc: 0.762500\n"
     ]
    },
    {
     "name": "stderr",
     "output_type": "stream",
     "text": [
      "                             1.28GB      0.0272885       0.990625     100%|██████████| 100/100 [00:22<00:00,  4.47batch/s]\n",
      "\u001b[92m\u001b[1m\n",
      "         Validation:        gpu_mem           loss            acc\u001b[0m\n",
      "                             1.28GB        1.98975         0.7175     100%|██████████| 25/25 [00:11<00:00,  2.25batch/s]\n",
      "\u001b[34m\u001b[1mEpoch 42/49:\u001b[0m\n",
      "\u001b[93m\u001b[1m\n",
      "           Training:        gpu_mem           loss            acc\u001b[0m\n"
     ]
    },
    {
     "name": "stdout",
     "output_type": "stream",
     "text": [
      "Best val Acc: 0.762500\n"
     ]
    },
    {
     "name": "stderr",
     "output_type": "stream",
     "text": [
      "                             1.28GB      0.0369178           0.99     100%|██████████| 100/100 [00:19<00:00,  5.26batch/s]\n",
      "\u001b[92m\u001b[1m\n",
      "         Validation:        gpu_mem           loss            acc\u001b[0m\n",
      "                             1.28GB        1.85554           0.71     100%|██████████| 25/25 [00:05<00:00,  4.68batch/s]\n",
      "\u001b[34m\u001b[1mEpoch 43/49:\u001b[0m\n",
      "\u001b[93m\u001b[1m\n",
      "           Training:        gpu_mem           loss            acc\u001b[0m\n"
     ]
    },
    {
     "name": "stdout",
     "output_type": "stream",
     "text": [
      "Best val Acc: 0.762500\n"
     ]
    },
    {
     "name": "stderr",
     "output_type": "stream",
     "text": [
      "                             1.28GB       0.018493        0.99125     100%|██████████| 100/100 [00:17<00:00,  5.82batch/s]\n",
      "\u001b[92m\u001b[1m\n",
      "         Validation:        gpu_mem           loss            acc\u001b[0m\n",
      "                             1.28GB        3.03564           0.68     100%|██████████| 25/25 [00:11<00:00,  2.18batch/s]\n",
      "\u001b[34m\u001b[1mEpoch 44/49:\u001b[0m\n",
      "\u001b[93m\u001b[1m\n",
      "           Training:        gpu_mem           loss            acc\u001b[0m\n"
     ]
    },
    {
     "name": "stdout",
     "output_type": "stream",
     "text": [
      "Best val Acc: 0.762500\n"
     ]
    },
    {
     "name": "stderr",
     "output_type": "stream",
     "text": [
      "                             1.28GB      0.0746076        0.97875     100%|██████████| 100/100 [00:24<00:00,  4.02batch/s]\n",
      "\u001b[92m\u001b[1m\n",
      "         Validation:        gpu_mem           loss            acc\u001b[0m\n",
      "                             1.28GB        1.45176         0.7425     100%|██████████| 25/25 [00:05<00:00,  4.77batch/s]\n",
      "\u001b[34m\u001b[1mEpoch 45/49:\u001b[0m\n",
      "\u001b[93m\u001b[1m\n",
      "           Training:        gpu_mem           loss            acc\u001b[0m\n"
     ]
    },
    {
     "name": "stdout",
     "output_type": "stream",
     "text": [
      "Best val Acc: 0.762500\n"
     ]
    },
    {
     "name": "stderr",
     "output_type": "stream",
     "text": [
      "                             1.28GB      0.0378138        0.98625     100%|██████████| 100/100 [00:15<00:00,  6.36batch/s]\n",
      "\u001b[92m\u001b[1m\n",
      "         Validation:        gpu_mem           loss            acc\u001b[0m\n",
      "                             1.28GB        1.80318           0.72     100%|██████████| 25/25 [00:06<00:00,  3.78batch/s]\n",
      "\u001b[34m\u001b[1mEpoch 46/49:\u001b[0m\n",
      "\u001b[93m\u001b[1m\n",
      "           Training:        gpu_mem           loss            acc\u001b[0m\n"
     ]
    },
    {
     "name": "stdout",
     "output_type": "stream",
     "text": [
      "Best val Acc: 0.762500\n"
     ]
    },
    {
     "name": "stderr",
     "output_type": "stream",
     "text": [
      "                             1.28GB      0.0266013       0.990625     100%|██████████| 100/100 [00:28<00:00,  3.51batch/s]\n",
      "\u001b[92m\u001b[1m\n",
      "         Validation:        gpu_mem           loss            acc\u001b[0m\n",
      "                             1.28GB        2.65265         0.7025     100%|██████████| 25/25 [00:05<00:00,  4.46batch/s]\n",
      "\u001b[34m\u001b[1mEpoch 47/49:\u001b[0m\n",
      "\u001b[93m\u001b[1m\n",
      "           Training:        gpu_mem           loss            acc\u001b[0m\n"
     ]
    },
    {
     "name": "stdout",
     "output_type": "stream",
     "text": [
      "Best val Acc: 0.762500\n"
     ]
    },
    {
     "name": "stderr",
     "output_type": "stream",
     "text": [
      "                             1.28GB      0.0714952        0.97625     100%|██████████| 100/100 [00:15<00:00,  6.54batch/s]\n",
      "\u001b[92m\u001b[1m\n",
      "         Validation:        gpu_mem           loss            acc\u001b[0m\n",
      "                             1.28GB        2.34533           0.71     100%|██████████| 25/25 [00:05<00:00,  4.22batch/s]\n",
      "\u001b[34m\u001b[1mEpoch 48/49:\u001b[0m\n",
      "\u001b[93m\u001b[1m\n",
      "           Training:        gpu_mem           loss            acc\u001b[0m\n"
     ]
    },
    {
     "name": "stdout",
     "output_type": "stream",
     "text": [
      "Best val Acc: 0.762500\n"
     ]
    },
    {
     "name": "stderr",
     "output_type": "stream",
     "text": [
      "                             1.28GB       0.073971       0.984375     100%|██████████| 100/100 [00:24<00:00,  4.10batch/s]\n",
      "\u001b[92m\u001b[1m\n",
      "         Validation:        gpu_mem           loss            acc\u001b[0m\n",
      "                             1.28GB        2.23189          0.725     100%|██████████| 25/25 [00:11<00:00,  2.22batch/s]\n",
      "\u001b[34m\u001b[1mEpoch 49/49:\u001b[0m\n",
      "\u001b[93m\u001b[1m\n",
      "           Training:        gpu_mem           loss            acc\u001b[0m\n"
     ]
    },
    {
     "name": "stdout",
     "output_type": "stream",
     "text": [
      "Best val Acc: 0.762500\n"
     ]
    },
    {
     "name": "stderr",
     "output_type": "stream",
     "text": [
      "                             1.28GB       0.100116       0.968125     100%|██████████| 100/100 [00:14<00:00,  6.81batch/s]\n",
      "\u001b[92m\u001b[1m\n",
      "         Validation:        gpu_mem           loss            acc\u001b[0m\n",
      "                             1.28GB         2.2614          0.735     100%|██████████| 25/25 [00:05<00:00,  4.74batch/s]\n"
     ]
    },
    {
     "name": "stdout",
     "output_type": "stream",
     "text": [
      "Best val Acc: 0.762500\n"
     ]
    }
   ],
   "source": [
    "# Example usage (assuming you have defined your criterion and optimizer):\n",
    "device = torch.device(\"cuda\" if torch.cuda.is_available() else \"cpu\")\n",
    "\n",
    "model = Model(num_classes=2, num_input_channel=3 * MAX_LEN)\n",
    "\n",
    "criterion = torch.nn.CrossEntropyLoss()\n",
    "optimizer = torch.optim.Adam(model.parameters(), lr=1e-3)\n",
    "\n",
    "trained_model = train_model(\n",
    "    model, train_loader, val_loader, criterion, optimizer, num_epochs=50, device=device\n",
    ")"
   ]
  },
  {
   "cell_type": "code",
   "execution_count": null,
   "metadata": {},
   "outputs": [],
   "source": []
  }
 ],
 "metadata": {
  "kernelspec": {
   "display_name": "duc_open_sora",
   "language": "python",
   "name": "python3"
  },
  "language_info": {
   "codemirror_mode": {
    "name": "ipython",
    "version": 3
   },
   "file_extension": ".py",
   "mimetype": "text/x-python",
   "name": "python",
   "nbconvert_exporter": "python",
   "pygments_lexer": "ipython3",
   "version": "3.8.18"
  }
 },
 "nbformat": 4,
 "nbformat_minor": 2
}
