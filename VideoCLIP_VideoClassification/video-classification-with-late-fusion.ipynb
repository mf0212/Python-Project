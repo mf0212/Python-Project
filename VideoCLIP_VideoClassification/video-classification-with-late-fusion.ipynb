{
 "cells": [
  {
   "cell_type": "code",
   "execution_count": null,
   "metadata": {},
   "outputs": [],
   "source": [
    "%mkdir dataset\n",
    "%cd dataset\n",
    "!gdown 1N93rb_uFqKRZ9naX8CXShFt5RJHOmjZH\n",
    "!unzip -q rwf-2000.zip"
   ]
  },
  {
   "cell_type": "code",
   "execution_count": null,
   "metadata": {},
   "outputs": [],
   "source": [
    "%cd .."
   ]
  },
  {
   "cell_type": "markdown",
   "metadata": {},
   "source": [
    "# Import libraries"
   ]
  },
  {
   "cell_type": "code",
   "execution_count": 1,
   "metadata": {},
   "outputs": [],
   "source": [
    "import os\n",
    "import time\n",
    "\n",
    "import torch\n",
    "import torch.nn as nn\n",
    "import torch.nn.functional as F\n",
    "from PIL import Image\n",
    "from torch.utils.data import DataLoader, Dataset\n",
    "from torchvision import transforms\n",
    "from torchvision.models import resnet18\n",
    "from tqdm import tqdm\n",
    "\n",
    "os.environ[\"TOKENIZERS_PARALLELISM\"] = \"false\"\n",
    "\n",
    "import warnings\n",
    "\n",
    "warnings.filterwarnings(\"ignore\")"
   ]
  },
  {
   "cell_type": "code",
   "execution_count": 2,
   "metadata": {},
   "outputs": [],
   "source": [
    "import logging\n",
    "\n",
    "logging.getLogger().setLevel(logging.INFO)\n",
    "logging.basicConfig(format=\"%(message)s\", level=logging.INFO)\n",
    "LOGGER = logging.getLogger(\"Torch-Cls\")\n",
    "seed = 123\n",
    "torch.manual_seed(seed)\n",
    "torch.cuda.manual_seed(seed)\n",
    "torch.backends.cudnn.deterministic = True\n",
    "torch.backends.cudnn.benchmark = False"
   ]
  },
  {
   "cell_type": "markdown",
   "metadata": {},
   "source": [
    "# Model"
   ]
  },
  {
   "cell_type": "code",
   "execution_count": 3,
   "metadata": {},
   "outputs": [],
   "source": [
    "class Model(nn.Module):\n",
    "    def __init__(self, num_classes=2):\n",
    "        super(Model, self).__init__()\n",
    "        self.resnet = resnet18(pretrained=True)\n",
    "        self.resnet.fc = nn.Sequential(nn.Linear(self.resnet.fc.in_features, 512))\n",
    "        self.fc1 = nn.Linear(512, 128)\n",
    "        self.fc2 = nn.Linear(128, num_classes)\n",
    "\n",
    "    def forward(self, x_3d):\n",
    "        # (bs, C, T, H, W) -> (bs, T, C, H, W)\n",
    "        x_3d = x_3d.permute(0, 2, 1, 3, 4)\n",
    "\n",
    "        features = []\n",
    "        for t in range(x_3d.size(1)):\n",
    "            out = self.resnet(x_3d[:, t, :, :, :])\n",
    "            features.append(out)\n",
    "\n",
    "        # average pooling\n",
    "        out = torch.mean(torch.stack(features), 0)\n",
    "\n",
    "        x = self.fc1(out)\n",
    "        x = F.relu(x)\n",
    "        x = self.fc2(x)\n",
    "        return x"
   ]
  },
  {
   "cell_type": "code",
   "execution_count": 4,
   "metadata": {},
   "outputs": [
    {
     "name": "stdout",
     "output_type": "stream",
     "text": [
      "Model has 11505090 parameters\n",
      "torch.Size([1, 2])\n"
     ]
    }
   ],
   "source": [
    "# Example of how to use the model\n",
    "model = Model(num_classes=2)\n",
    "\n",
    "# Check param\n",
    "param = sum(p.numel() for p in model.parameters() if p.requires_grad)\n",
    "print(f\"Model has {param} parameters\")\n",
    "\n",
    "# Test the model with a random input (batch_size, channels, frames, height, width)\n",
    "inputs = torch.rand(1, 3, 16, 224, 224)\n",
    "\n",
    "output = model(inputs)\n",
    "\n",
    "print(output.shape)"
   ]
  },
  {
   "cell_type": "code",
   "execution_count": 5,
   "metadata": {},
   "outputs": [],
   "source": [
    "del model, inputs, output"
   ]
  },
  {
   "cell_type": "markdown",
   "metadata": {},
   "source": [
    "# Load dataset"
   ]
  },
  {
   "cell_type": "code",
   "execution_count": 6,
   "metadata": {},
   "outputs": [],
   "source": [
    "class VideoDataset(Dataset):\n",
    "    def __init__(self, root_dir, phase=\"train\", transform=None, n_frames=None):\n",
    "        \"\"\"\n",
    "        Args:\n",
    "            root_dir (string): Directory with all the videos (each video as a subdirectory of frames).\n",
    "            transform (callable, optional): Optional transform to be applied on a sample.\n",
    "            n_frames (int, optional): Number of frames to sample from each video, uniformly. If None, use all frames.\n",
    "        \"\"\"\n",
    "        self.root_dir = root_dir\n",
    "        self.transform = transform\n",
    "        self.n_frames = n_frames\n",
    "        self.phase = phase\n",
    "        self.videos, self.labels = self._load_videos()\n",
    "\n",
    "    def _load_videos(self):\n",
    "        videos, labels = [], []\n",
    "        class_id = 0\n",
    "\n",
    "        video_folders = os.listdir(os.path.join(self.root_dir, self.phase))\n",
    "\n",
    "        for folder in video_folders:\n",
    "            video_paths = os.listdir(os.path.join(self.root_dir, self.phase, folder))\n",
    "\n",
    "            for video_path in video_paths:\n",
    "                video_folder = os.path.join(\n",
    "                    self.root_dir, self.phase, folder, video_path\n",
    "                )\n",
    "                frames = sorted(\n",
    "                    (os.path.join(video_folder, f) for f in os.listdir(video_folder)),\n",
    "                    key=lambda f: int(\n",
    "                        \"\".join(filter(str.isdigit, os.path.basename(f)))\n",
    "                    ),\n",
    "                )\n",
    "\n",
    "                if self.n_frames:\n",
    "                    frames = self._uniform_sample(frames, self.n_frames)\n",
    "\n",
    "                videos.append(frames)\n",
    "                labels.append(class_id)\n",
    "\n",
    "            class_id += 1\n",
    "\n",
    "        return videos, labels\n",
    "\n",
    "    def _uniform_sample(self, frames, n_frames):\n",
    "        \"\"\"\n",
    "        Helper method to uniformly sample n_frames from the frames list.\n",
    "        \"\"\"\n",
    "        stride = max(1, len(frames) // n_frames)\n",
    "        sampled = [frames[i] for i in range(0, len(frames), stride)]\n",
    "        return sampled[:n_frames]\n",
    "\n",
    "    def __len__(self):\n",
    "        return len(self.videos)\n",
    "\n",
    "    def __getitem__(self, idx):\n",
    "        video_frames = self.videos[idx]\n",
    "        label = self.labels[idx]\n",
    "        images = []\n",
    "        for frame_path in video_frames:\n",
    "            image = Image.open(frame_path).convert(\"RGB\")\n",
    "            if self.transform:\n",
    "                image = self.transform(image)\n",
    "            images.append(image)\n",
    "\n",
    "        # Stack images along new dimension (sequence length)\n",
    "        data = torch.stack(images, dim=0)\n",
    "\n",
    "        # Rearrange to have the shape (C, T, H, W)\n",
    "        data = data.permute(1, 0, 2, 3)\n",
    "        return data, label"
   ]
  },
  {
   "cell_type": "code",
   "execution_count": 7,
   "metadata": {},
   "outputs": [
    {
     "name": "stdout",
     "output_type": "stream",
     "text": [
      "Number of cpus: 80\n",
      "torch.Size([16, 3, 15, 224, 224]) tensor([1, 1, 1, 0, 1, 0, 0, 0, 1, 1, 1, 0, 1, 0, 0, 0])\n"
     ]
    }
   ],
   "source": [
    "BATCH_SIZE = 16\n",
    "MAX_LEN = 15\n",
    "IMAGE_SIZE = 224\n",
    "\n",
    "\n",
    "transform = transforms.Compose(\n",
    "    [\n",
    "        transforms.Resize((IMAGE_SIZE, IMAGE_SIZE)),\n",
    "        transforms.ToTensor(),\n",
    "    ]\n",
    ")\n",
    "\n",
    "# Load dataset\n",
    "train_dataset = VideoDataset(\n",
    "    root_dir=\"./dataset/rwf-2000\", phase=\"train\", transform=transform, n_frames=MAX_LEN\n",
    ")\n",
    "\n",
    "val_dataset = VideoDataset(\n",
    "    root_dir=\"./dataset/rwf-2000\", phase=\"val\", transform=transform, n_frames=MAX_LEN\n",
    ")\n",
    "\n",
    "# Count number of cpus\n",
    "cpus = os.cpu_count()\n",
    "print(f\"Number of cpus: {cpus}\")\n",
    "\n",
    "# Create data loaders\n",
    "train_loader = DataLoader(\n",
    "    train_dataset, batch_size=BATCH_SIZE, num_workers=cpus, shuffle=True\n",
    ")\n",
    "val_loader = DataLoader(\n",
    "    val_dataset, batch_size=BATCH_SIZE, num_workers=cpus, shuffle=False\n",
    ")\n",
    "\n",
    "# test\n",
    "for data, label in train_loader:\n",
    "    print(data.shape, label)\n",
    "    break"
   ]
  },
  {
   "cell_type": "markdown",
   "metadata": {},
   "source": [
    "# Train model"
   ]
  },
  {
   "cell_type": "code",
   "execution_count": 8,
   "metadata": {},
   "outputs": [],
   "source": [
    "def colorstr(*input):\n",
    "    *args, string = input if len(input) > 1 else (\"blue\", \"bold\", input[0])\n",
    "    colors = {\n",
    "        \"black\": \"\\033[30m\",  # basic colors\n",
    "        \"red\": \"\\033[31m\",\n",
    "        \"green\": \"\\033[32m\",\n",
    "        \"yellow\": \"\\033[33m\",\n",
    "        \"blue\": \"\\033[34m\",\n",
    "        \"magenta\": \"\\033[35m\",\n",
    "        \"cyan\": \"\\033[36m\",\n",
    "        \"white\": \"\\033[37m\",\n",
    "        \"bright_black\": \"\\033[90m\",  # bright colors\n",
    "        \"bright_red\": \"\\033[91m\",\n",
    "        \"bright_green\": \"\\033[92m\",\n",
    "        \"bright_yellow\": \"\\033[93m\",\n",
    "        \"bright_blue\": \"\\033[94m\",\n",
    "        \"bright_magenta\": \"\\033[95m\",\n",
    "        \"bright_cyan\": \"\\033[96m\",\n",
    "        \"bright_white\": \"\\033[97m\",\n",
    "        \"end\": \"\\033[0m\",  # misc\n",
    "        \"bold\": \"\\033[1m\",\n",
    "        \"underline\": \"\\033[4m\",\n",
    "    }\n",
    "    return \"\".join(colors[x] for x in args) + f\"{string}\" + colors[\"end\"]"
   ]
  },
  {
   "cell_type": "code",
   "execution_count": 9,
   "metadata": {},
   "outputs": [],
   "source": [
    "def train_model(\n",
    "    model, train_loader, val_loader, criterion, optimizer, num_epochs=25, device=\"cuda\"\n",
    "):\n",
    "    \"\"\"\n",
    "    Function to train the model.\n",
    "\n",
    "    Parameters:\n",
    "    - model: The neural network model to train.\n",
    "    - train_loader: DataLoader for the training set.\n",
    "    - val_loader: DataLoader for the validation set.\n",
    "    - criterion: The loss function.\n",
    "    - optimizer: The optimization algorithm.\n",
    "    - num_epochs: Number of epochs to train for.\n",
    "    - device: The device to run the training on, 'cuda' or 'cpu'.\n",
    "\n",
    "    Returns:\n",
    "    - model: The trained model.\n",
    "    \"\"\"\n",
    "    since = time.time()\n",
    "\n",
    "    history = {\n",
    "        \"train_loss\": [],\n",
    "        \"train_acc\": [],\n",
    "        \"val_loss\": [],\n",
    "        \"val_acc\": [],\n",
    "        \"lr\": [],\n",
    "    }\n",
    "    best_val_acc = 0.0\n",
    "\n",
    "    # Send the model to the specified device\n",
    "    model.to(device)\n",
    "\n",
    "    # Loop over the dataset multiple times\n",
    "    for epoch in range(num_epochs):\n",
    "        LOGGER.info(colorstr(f\"Epoch {epoch}/{num_epochs-1}:\"))\n",
    "\n",
    "        # Each epoch has a training and validation phase\n",
    "        for phase in [\"train\", \"val\"]:\n",
    "            if phase == \"train\":\n",
    "                LOGGER.info(\n",
    "                    colorstr(\"bright_yellow\", \"bold\", \"\\n%20s\" + \"%15s\" * 3)\n",
    "                    % (\"Training:\", \"gpu_mem\", \"loss\", \"acc\")\n",
    "                )\n",
    "                model.train()\n",
    "            else:\n",
    "                LOGGER.info(\n",
    "                    colorstr(\"bright_green\", \"bold\", \"\\n%20s\" + \"%15s\" * 3)\n",
    "                    % (\"Validation:\", \"gpu_mem\", \"loss\", \"acc\")\n",
    "                )\n",
    "                model.eval()\n",
    "\n",
    "            running_items = 0\n",
    "            running_loss = 0.0\n",
    "            running_corrects = 0\n",
    "\n",
    "            # Use the appropriate data loader\n",
    "            data_loader = train_loader if phase == \"train\" else val_loader\n",
    "\n",
    "            _phase = tqdm(\n",
    "                data_loader,\n",
    "                total=len(data_loader),\n",
    "                bar_format=\"{desc} {percentage:>7.0f}%|{bar:10}{r_bar}{bar:-10b}\",\n",
    "                unit=\"batch\",\n",
    "            )\n",
    "\n",
    "            # Iterate over data.\n",
    "            for inputs, labels in _phase:\n",
    "                inputs = inputs.to(device)\n",
    "                labels = labels.to(device)\n",
    "\n",
    "                # Zero the parameter gradients\n",
    "                optimizer.zero_grad()\n",
    "\n",
    "                # Forward\n",
    "                # Track history only in train\n",
    "                with torch.set_grad_enabled(phase == \"train\"):\n",
    "                    outputs = model(inputs)\n",
    "                    _, preds = torch.max(outputs, 1)\n",
    "                    loss = criterion(outputs, labels)\n",
    "\n",
    "                    # Backward + optimize only if in training phase\n",
    "                    if phase == \"train\":\n",
    "                        loss.backward()\n",
    "                        optimizer.step()\n",
    "\n",
    "                # Statistics\n",
    "                running_items += outputs.size(0)\n",
    "                running_loss += loss.item() * inputs.size(0)\n",
    "                running_corrects += torch.sum(preds == labels.data)\n",
    "\n",
    "                epoch_loss = running_loss / running_items\n",
    "                epoch_acc = running_corrects / running_items\n",
    "\n",
    "                mem = f\"{torch.cuda.memory_reserved() / 1E9 if torch.cuda.is_available() else 0:.3g}GB\"\n",
    "                desc = (\"%35s\" + \"%15.6g\" * 2) % (\n",
    "                    mem,\n",
    "                    epoch_loss,\n",
    "                    epoch_acc,\n",
    "                )\n",
    "                _phase.set_description_str(desc)\n",
    "\n",
    "            if phase == \"train\":\n",
    "                history[\"train_loss\"].append(epoch_loss)\n",
    "                history[\"train_acc\"].append(epoch_acc.item())\n",
    "            else:\n",
    "                history[\"val_loss\"].append(epoch_loss)\n",
    "                history[\"val_acc\"].append(epoch_acc.item())\n",
    "                if epoch_acc > best_val_acc:\n",
    "                    best_val_acc = epoch_acc\n",
    "                    history[\"best_epoch\"] = epoch\n",
    "\n",
    "                print(f\"Best val Acc: {best_val_acc:4f}\")\n",
    "\n",
    "    time_elapsed = time.time() - since\n",
    "    history[\"INFO\"] = (\n",
    "        \"Training complete in {:.0f}h {:.0f}m {:.0f}s with {} epochs - Best val Acc: {:4f}\".format(\n",
    "            time_elapsed // 3600,\n",
    "            time_elapsed % 3600 // 60,\n",
    "            time_elapsed % 60,\n",
    "            num_epochs,\n",
    "            best_val_acc,\n",
    "        )\n",
    "    )\n",
    "\n",
    "    return model"
   ]
  },
  {
   "cell_type": "code",
   "execution_count": 10,
   "metadata": {},
   "outputs": [
    {
     "name": "stderr",
     "output_type": "stream",
     "text": [
      "\u001b[34m\u001b[1mEpoch 0/49:\u001b[0m\n",
      "\u001b[93m\u001b[1m\n",
      "           Training:        gpu_mem           loss            acc\u001b[0m\n",
      "                             5.91GB       0.682812       0.581875     100%|██████████| 100/100 [00:48<00:00,  2.07batch/s]\n",
      "\u001b[92m\u001b[1m\n",
      "         Validation:        gpu_mem           loss            acc\u001b[0m\n",
      "                             5.91GB       0.676673         0.5725     100%|██████████| 25/25 [00:11<00:00,  2.16batch/s]\n",
      "\u001b[34m\u001b[1mEpoch 1/49:\u001b[0m\n",
      "\u001b[93m\u001b[1m\n",
      "           Training:        gpu_mem           loss            acc\u001b[0m\n"
     ]
    },
    {
     "name": "stdout",
     "output_type": "stream",
     "text": [
      "Best val Acc: 0.572500\n"
     ]
    },
    {
     "name": "stderr",
     "output_type": "stream",
     "text": [
      "                             5.91GB       0.648954          0.625     100%|██████████| 100/100 [00:50<00:00,  1.98batch/s]\n",
      "\u001b[92m\u001b[1m\n",
      "         Validation:        gpu_mem           loss            acc\u001b[0m\n",
      "                             5.91GB        0.56152          0.695     100%|██████████| 25/25 [00:07<00:00,  3.27batch/s]\n",
      "\u001b[34m\u001b[1mEpoch 2/49:\u001b[0m\n",
      "\u001b[93m\u001b[1m\n",
      "           Training:        gpu_mem           loss            acc\u001b[0m\n"
     ]
    },
    {
     "name": "stdout",
     "output_type": "stream",
     "text": [
      "Best val Acc: 0.695000\n"
     ]
    },
    {
     "name": "stderr",
     "output_type": "stream",
     "text": [
      "                             5.91GB       0.628437        0.65125     100%|██████████| 100/100 [00:51<00:00,  1.95batch/s]\n",
      "\u001b[92m\u001b[1m\n",
      "         Validation:        gpu_mem           loss            acc\u001b[0m\n",
      "                             5.91GB       0.583614           0.66     100%|██████████| 25/25 [00:09<00:00,  2.72batch/s]\n",
      "\u001b[34m\u001b[1mEpoch 3/49:\u001b[0m\n",
      "\u001b[93m\u001b[1m\n",
      "           Training:        gpu_mem           loss            acc\u001b[0m\n"
     ]
    },
    {
     "name": "stdout",
     "output_type": "stream",
     "text": [
      "Best val Acc: 0.695000\n"
     ]
    },
    {
     "name": "stderr",
     "output_type": "stream",
     "text": [
      "                             5.91GB       0.645583         0.6225     100%|██████████| 100/100 [00:50<00:00,  1.97batch/s]\n",
      "\u001b[92m\u001b[1m\n",
      "         Validation:        gpu_mem           loss            acc\u001b[0m\n",
      "                             5.91GB       0.558522          0.725     100%|██████████| 25/25 [00:11<00:00,  2.11batch/s]\n",
      "\u001b[34m\u001b[1mEpoch 4/49:\u001b[0m\n",
      "\u001b[93m\u001b[1m\n",
      "           Training:        gpu_mem           loss            acc\u001b[0m\n"
     ]
    },
    {
     "name": "stdout",
     "output_type": "stream",
     "text": [
      "Best val Acc: 0.725000\n"
     ]
    },
    {
     "name": "stderr",
     "output_type": "stream",
     "text": [
      "                             5.91GB       0.618058        0.65375     100%|██████████| 100/100 [00:45<00:00,  2.18batch/s]\n",
      "\u001b[92m\u001b[1m\n",
      "         Validation:        gpu_mem           loss            acc\u001b[0m\n",
      "                             5.91GB       0.537223         0.7175     100%|██████████| 25/25 [00:11<00:00,  2.21batch/s]\n",
      "\u001b[34m\u001b[1mEpoch 5/49:\u001b[0m\n",
      "\u001b[93m\u001b[1m\n",
      "           Training:        gpu_mem           loss            acc\u001b[0m\n"
     ]
    },
    {
     "name": "stdout",
     "output_type": "stream",
     "text": [
      "Best val Acc: 0.725000\n"
     ]
    },
    {
     "name": "stderr",
     "output_type": "stream",
     "text": [
      "                             5.91GB       0.637567       0.636875     100%|██████████| 100/100 [00:49<00:00,  2.01batch/s]\n",
      "\u001b[92m\u001b[1m\n",
      "         Validation:        gpu_mem           loss            acc\u001b[0m\n",
      "                             5.91GB       0.647896          0.655     100%|██████████| 25/25 [00:07<00:00,  3.42batch/s]\n",
      "\u001b[34m\u001b[1mEpoch 6/49:\u001b[0m\n",
      "\u001b[93m\u001b[1m\n",
      "           Training:        gpu_mem           loss            acc\u001b[0m\n"
     ]
    },
    {
     "name": "stdout",
     "output_type": "stream",
     "text": [
      "Best val Acc: 0.725000\n"
     ]
    },
    {
     "name": "stderr",
     "output_type": "stream",
     "text": [
      "                             5.91GB       0.616404       0.674375     100%|██████████| 100/100 [00:50<00:00,  2.00batch/s]\n",
      "\u001b[92m\u001b[1m\n",
      "         Validation:        gpu_mem           loss            acc\u001b[0m\n",
      "                             5.91GB       0.620102           0.64     100%|██████████| 25/25 [00:12<00:00,  2.01batch/s]\n",
      "\u001b[34m\u001b[1mEpoch 7/49:\u001b[0m\n",
      "\u001b[93m\u001b[1m\n",
      "           Training:        gpu_mem           loss            acc\u001b[0m\n"
     ]
    },
    {
     "name": "stdout",
     "output_type": "stream",
     "text": [
      "Best val Acc: 0.725000\n"
     ]
    },
    {
     "name": "stderr",
     "output_type": "stream",
     "text": [
      "                             5.91GB       0.590047       0.685625     100%|██████████| 100/100 [00:56<00:00,  1.76batch/s]\n",
      "\u001b[92m\u001b[1m\n",
      "         Validation:        gpu_mem           loss            acc\u001b[0m\n",
      "                             5.91GB       0.574426         0.7025     100%|██████████| 25/25 [00:12<00:00,  2.08batch/s]\n",
      "\u001b[34m\u001b[1mEpoch 8/49:\u001b[0m\n",
      "\u001b[93m\u001b[1m\n",
      "           Training:        gpu_mem           loss            acc\u001b[0m\n"
     ]
    },
    {
     "name": "stdout",
     "output_type": "stream",
     "text": [
      "Best val Acc: 0.725000\n"
     ]
    },
    {
     "name": "stderr",
     "output_type": "stream",
     "text": [
      "                             5.91GB       0.592056           0.68     100%|██████████| 100/100 [00:48<00:00,  2.07batch/s]\n",
      "\u001b[92m\u001b[1m\n",
      "         Validation:        gpu_mem           loss            acc\u001b[0m\n",
      "                             5.91GB       0.777997           0.68     100%|██████████| 25/25 [00:12<00:00,  1.96batch/s]\n",
      "\u001b[34m\u001b[1mEpoch 9/49:\u001b[0m\n",
      "\u001b[93m\u001b[1m\n",
      "           Training:        gpu_mem           loss            acc\u001b[0m\n"
     ]
    },
    {
     "name": "stdout",
     "output_type": "stream",
     "text": [
      "Best val Acc: 0.725000\n"
     ]
    },
    {
     "name": "stderr",
     "output_type": "stream",
     "text": [
      "                             5.91GB        0.58376       0.685625     100%|██████████| 100/100 [00:53<00:00,  1.88batch/s]\n",
      "\u001b[92m\u001b[1m\n",
      "         Validation:        gpu_mem           loss            acc\u001b[0m\n",
      "                             5.91GB       0.585129           0.69     100%|██████████| 25/25 [00:06<00:00,  3.62batch/s]\n",
      "\u001b[34m\u001b[1mEpoch 10/49:\u001b[0m\n",
      "\u001b[93m\u001b[1m\n",
      "           Training:        gpu_mem           loss            acc\u001b[0m\n"
     ]
    },
    {
     "name": "stdout",
     "output_type": "stream",
     "text": [
      "Best val Acc: 0.725000\n"
     ]
    },
    {
     "name": "stderr",
     "output_type": "stream",
     "text": [
      "                             5.91GB       0.559753       0.715625     100%|██████████| 100/100 [00:52<00:00,  1.91batch/s]\n",
      "\u001b[92m\u001b[1m\n",
      "         Validation:        gpu_mem           loss            acc\u001b[0m\n",
      "                             5.91GB       0.562891         0.6825     100%|██████████| 25/25 [00:07<00:00,  3.31batch/s]\n",
      "\u001b[34m\u001b[1mEpoch 11/49:\u001b[0m\n",
      "\u001b[93m\u001b[1m\n",
      "           Training:        gpu_mem           loss            acc\u001b[0m\n"
     ]
    },
    {
     "name": "stdout",
     "output_type": "stream",
     "text": [
      "Best val Acc: 0.725000\n"
     ]
    },
    {
     "name": "stderr",
     "output_type": "stream",
     "text": [
      "                             5.91GB       0.546395       0.720625     100%|██████████| 100/100 [00:51<00:00,  1.93batch/s]\n",
      "\u001b[92m\u001b[1m\n",
      "         Validation:        gpu_mem           loss            acc\u001b[0m\n",
      "                             5.91GB       0.589372         0.7175     100%|██████████| 25/25 [00:08<00:00,  3.11batch/s]\n",
      "\u001b[34m\u001b[1mEpoch 12/49:\u001b[0m\n",
      "\u001b[93m\u001b[1m\n",
      "           Training:        gpu_mem           loss            acc\u001b[0m\n"
     ]
    },
    {
     "name": "stdout",
     "output_type": "stream",
     "text": [
      "Best val Acc: 0.725000\n"
     ]
    },
    {
     "name": "stderr",
     "output_type": "stream",
     "text": [
      "                             5.91GB       0.503712       0.753125     100%|██████████| 100/100 [00:51<00:00,  1.93batch/s]\n",
      "\u001b[92m\u001b[1m\n",
      "         Validation:        gpu_mem           loss            acc\u001b[0m\n",
      "                             5.91GB       0.548677          0.715     100%|██████████| 25/25 [00:07<00:00,  3.16batch/s]\n",
      "\u001b[34m\u001b[1mEpoch 13/49:\u001b[0m\n",
      "\u001b[93m\u001b[1m\n",
      "           Training:        gpu_mem           loss            acc\u001b[0m\n"
     ]
    },
    {
     "name": "stdout",
     "output_type": "stream",
     "text": [
      "Best val Acc: 0.725000\n"
     ]
    },
    {
     "name": "stderr",
     "output_type": "stream",
     "text": [
      "                             5.91GB       0.513452        0.74875     100%|██████████| 100/100 [00:50<00:00,  1.97batch/s]\n",
      "\u001b[92m\u001b[1m\n",
      "         Validation:        gpu_mem           loss            acc\u001b[0m\n",
      "                             5.91GB       0.555598         0.6875     100%|██████████| 25/25 [00:10<00:00,  2.36batch/s]\n",
      "\u001b[34m\u001b[1mEpoch 14/49:\u001b[0m\n",
      "\u001b[93m\u001b[1m\n",
      "           Training:        gpu_mem           loss            acc\u001b[0m\n"
     ]
    },
    {
     "name": "stdout",
     "output_type": "stream",
     "text": [
      "Best val Acc: 0.725000\n"
     ]
    },
    {
     "name": "stderr",
     "output_type": "stream",
     "text": [
      "                             5.91GB       0.496038        0.74875     100%|██████████| 100/100 [00:48<00:00,  2.06batch/s]\n",
      "\u001b[92m\u001b[1m\n",
      "         Validation:        gpu_mem           loss            acc\u001b[0m\n",
      "                             5.91GB        0.54083         0.7275     100%|██████████| 25/25 [00:10<00:00,  2.34batch/s]\n",
      "\u001b[34m\u001b[1mEpoch 15/49:\u001b[0m\n",
      "\u001b[93m\u001b[1m\n",
      "           Training:        gpu_mem           loss            acc\u001b[0m\n"
     ]
    },
    {
     "name": "stdout",
     "output_type": "stream",
     "text": [
      "Best val Acc: 0.727500\n"
     ]
    },
    {
     "name": "stderr",
     "output_type": "stream",
     "text": [
      "                             5.91GB        0.46211       0.771875     100%|██████████| 100/100 [00:48<00:00,  2.07batch/s]\n",
      "\u001b[92m\u001b[1m\n",
      "         Validation:        gpu_mem           loss            acc\u001b[0m\n",
      "                             5.91GB         0.5024           0.73     100%|██████████| 25/25 [00:10<00:00,  2.30batch/s]\n",
      "\u001b[34m\u001b[1mEpoch 16/49:\u001b[0m\n",
      "\u001b[93m\u001b[1m\n",
      "           Training:        gpu_mem           loss            acc\u001b[0m\n"
     ]
    },
    {
     "name": "stdout",
     "output_type": "stream",
     "text": [
      "Best val Acc: 0.730000\n"
     ]
    },
    {
     "name": "stderr",
     "output_type": "stream",
     "text": [
      "                             5.91GB       0.451304       0.776875     100%|██████████| 100/100 [00:49<00:00,  2.03batch/s]\n",
      "\u001b[92m\u001b[1m\n",
      "         Validation:        gpu_mem           loss            acc\u001b[0m\n",
      "                             5.91GB       0.602147          0.685     100%|██████████| 25/25 [00:11<00:00,  2.09batch/s]\n",
      "\u001b[34m\u001b[1mEpoch 17/49:\u001b[0m\n",
      "\u001b[93m\u001b[1m\n",
      "           Training:        gpu_mem           loss            acc\u001b[0m\n"
     ]
    },
    {
     "name": "stdout",
     "output_type": "stream",
     "text": [
      "Best val Acc: 0.730000\n"
     ]
    },
    {
     "name": "stderr",
     "output_type": "stream",
     "text": [
      "                             5.91GB       0.437644       0.779375     100%|██████████| 100/100 [00:50<00:00,  1.99batch/s]\n",
      "\u001b[92m\u001b[1m\n",
      "         Validation:        gpu_mem           loss            acc\u001b[0m\n",
      "                             5.91GB       0.639002          0.715     100%|██████████| 25/25 [00:12<00:00,  2.06batch/s]\n",
      "\u001b[34m\u001b[1mEpoch 18/49:\u001b[0m\n",
      "\u001b[93m\u001b[1m\n",
      "           Training:        gpu_mem           loss            acc\u001b[0m\n"
     ]
    },
    {
     "name": "stdout",
     "output_type": "stream",
     "text": [
      "Best val Acc: 0.730000\n"
     ]
    },
    {
     "name": "stderr",
     "output_type": "stream",
     "text": [
      "                             5.91GB        0.43025       0.800625     100%|██████████| 100/100 [00:48<00:00,  2.07batch/s]\n",
      "\u001b[92m\u001b[1m\n",
      "         Validation:        gpu_mem           loss            acc\u001b[0m\n",
      "                             5.91GB       0.548266         0.6925     100%|██████████| 25/25 [00:16<00:00,  1.51batch/s]\n",
      "\u001b[34m\u001b[1mEpoch 19/49:\u001b[0m\n",
      "\u001b[93m\u001b[1m\n",
      "           Training:        gpu_mem           loss            acc\u001b[0m\n"
     ]
    },
    {
     "name": "stdout",
     "output_type": "stream",
     "text": [
      "Best val Acc: 0.730000\n"
     ]
    },
    {
     "name": "stderr",
     "output_type": "stream",
     "text": [
      "                             5.91GB       0.450204        0.78375     100%|██████████| 100/100 [00:41<00:00,  2.43batch/s]\n",
      "\u001b[92m\u001b[1m\n",
      "         Validation:        gpu_mem           loss            acc\u001b[0m\n",
      "                             5.91GB       0.581795         0.6875     100%|██████████| 25/25 [00:18<00:00,  1.38batch/s]\n",
      "\u001b[34m\u001b[1mEpoch 20/49:\u001b[0m\n",
      "\u001b[93m\u001b[1m\n",
      "           Training:        gpu_mem           loss            acc\u001b[0m\n"
     ]
    },
    {
     "name": "stdout",
     "output_type": "stream",
     "text": [
      "Best val Acc: 0.730000\n"
     ]
    },
    {
     "name": "stderr",
     "output_type": "stream",
     "text": [
      "                             5.91GB       0.396273        0.81625     100%|██████████| 100/100 [00:45<00:00,  2.20batch/s]\n",
      "\u001b[92m\u001b[1m\n",
      "         Validation:        gpu_mem           loss            acc\u001b[0m\n",
      "                             5.91GB        0.72539         0.6975     100%|██████████| 25/25 [00:15<00:00,  1.61batch/s]\n",
      "\u001b[34m\u001b[1mEpoch 21/49:\u001b[0m\n",
      "\u001b[93m\u001b[1m\n",
      "           Training:        gpu_mem           loss            acc\u001b[0m\n"
     ]
    },
    {
     "name": "stdout",
     "output_type": "stream",
     "text": [
      "Best val Acc: 0.730000\n"
     ]
    },
    {
     "name": "stderr",
     "output_type": "stream",
     "text": [
      "                             5.91GB       0.357724       0.835625     100%|██████████| 100/100 [00:41<00:00,  2.42batch/s]\n",
      "\u001b[92m\u001b[1m\n",
      "         Validation:        gpu_mem           loss            acc\u001b[0m\n",
      "                             5.91GB       0.679144         0.7225     100%|██████████| 25/25 [00:10<00:00,  2.50batch/s]\n",
      "\u001b[34m\u001b[1mEpoch 22/49:\u001b[0m\n",
      "\u001b[93m\u001b[1m\n",
      "           Training:        gpu_mem           loss            acc\u001b[0m\n"
     ]
    },
    {
     "name": "stdout",
     "output_type": "stream",
     "text": [
      "Best val Acc: 0.730000\n"
     ]
    },
    {
     "name": "stderr",
     "output_type": "stream",
     "text": [
      "                             5.91GB       0.341723       0.855625     100%|██████████| 100/100 [00:41<00:00,  2.44batch/s]\n",
      "\u001b[92m\u001b[1m\n",
      "         Validation:        gpu_mem           loss            acc\u001b[0m\n",
      "                             5.91GB       0.699967         0.7125     100%|██████████| 25/25 [00:11<00:00,  2.09batch/s]\n",
      "\u001b[34m\u001b[1mEpoch 23/49:\u001b[0m\n",
      "\u001b[93m\u001b[1m\n",
      "           Training:        gpu_mem           loss            acc\u001b[0m\n"
     ]
    },
    {
     "name": "stdout",
     "output_type": "stream",
     "text": [
      "Best val Acc: 0.730000\n"
     ]
    },
    {
     "name": "stderr",
     "output_type": "stream",
     "text": [
      "                             5.91GB       0.309542          0.865     100%|██████████| 100/100 [00:43<00:00,  2.32batch/s]\n",
      "\u001b[92m\u001b[1m\n",
      "         Validation:        gpu_mem           loss            acc\u001b[0m\n",
      "                             5.91GB       0.710642         0.7225     100%|██████████| 25/25 [00:12<00:00,  2.06batch/s]\n",
      "\u001b[34m\u001b[1mEpoch 24/49:\u001b[0m\n",
      "\u001b[93m\u001b[1m\n",
      "           Training:        gpu_mem           loss            acc\u001b[0m\n"
     ]
    },
    {
     "name": "stdout",
     "output_type": "stream",
     "text": [
      "Best val Acc: 0.730000\n"
     ]
    },
    {
     "name": "stderr",
     "output_type": "stream",
     "text": [
      "                             5.91GB       0.287311         0.8775     100%|██████████| 100/100 [00:40<00:00,  2.50batch/s]\n",
      "\u001b[92m\u001b[1m\n",
      "         Validation:        gpu_mem           loss            acc\u001b[0m\n",
      "                             5.91GB       0.709959         0.7075     100%|██████████| 25/25 [00:16<00:00,  1.47batch/s]\n",
      "\u001b[34m\u001b[1mEpoch 25/49:\u001b[0m\n",
      "\u001b[93m\u001b[1m\n",
      "           Training:        gpu_mem           loss            acc\u001b[0m\n"
     ]
    },
    {
     "name": "stdout",
     "output_type": "stream",
     "text": [
      "Best val Acc: 0.730000\n"
     ]
    },
    {
     "name": "stderr",
     "output_type": "stream",
     "text": [
      "                             5.91GB       0.298124          0.875     100%|██████████| 100/100 [00:45<00:00,  2.22batch/s]\n",
      "\u001b[92m\u001b[1m\n",
      "         Validation:        gpu_mem           loss            acc\u001b[0m\n",
      "                             5.91GB        0.56962          0.715     100%|██████████| 25/25 [00:11<00:00,  2.23batch/s]\n",
      "\u001b[34m\u001b[1mEpoch 26/49:\u001b[0m\n",
      "\u001b[93m\u001b[1m\n",
      "           Training:        gpu_mem           loss            acc\u001b[0m\n"
     ]
    },
    {
     "name": "stdout",
     "output_type": "stream",
     "text": [
      "Best val Acc: 0.730000\n"
     ]
    },
    {
     "name": "stderr",
     "output_type": "stream",
     "text": [
      "                             5.91GB       0.294384           0.88     100%|██████████| 100/100 [00:41<00:00,  2.43batch/s]\n",
      "\u001b[92m\u001b[1m\n",
      "         Validation:        gpu_mem           loss            acc\u001b[0m\n",
      "                             5.91GB       0.736924         0.6775     100%|██████████| 25/25 [00:11<00:00,  2.25batch/s]\n",
      "\u001b[34m\u001b[1mEpoch 27/49:\u001b[0m\n",
      "\u001b[93m\u001b[1m\n",
      "           Training:        gpu_mem           loss            acc\u001b[0m\n"
     ]
    },
    {
     "name": "stdout",
     "output_type": "stream",
     "text": [
      "Best val Acc: 0.730000\n"
     ]
    },
    {
     "name": "stderr",
     "output_type": "stream",
     "text": [
      "                             5.91GB       0.271942       0.881875     100%|██████████| 100/100 [00:42<00:00,  2.37batch/s]\n",
      "\u001b[92m\u001b[1m\n",
      "         Validation:        gpu_mem           loss            acc\u001b[0m\n",
      "                             5.91GB       0.784291          0.725     100%|██████████| 25/25 [00:11<00:00,  2.16batch/s]\n",
      "\u001b[34m\u001b[1mEpoch 28/49:\u001b[0m\n",
      "\u001b[93m\u001b[1m\n",
      "           Training:        gpu_mem           loss            acc\u001b[0m\n"
     ]
    },
    {
     "name": "stdout",
     "output_type": "stream",
     "text": [
      "Best val Acc: 0.730000\n"
     ]
    },
    {
     "name": "stderr",
     "output_type": "stream",
     "text": [
      "                             5.91GB       0.208435        0.91375     100%|██████████| 100/100 [00:40<00:00,  2.46batch/s]\n",
      "\u001b[92m\u001b[1m\n",
      "         Validation:        gpu_mem           loss            acc\u001b[0m\n",
      "                             5.91GB       0.925237         0.6775     100%|██████████| 25/25 [00:11<00:00,  2.13batch/s]\n",
      "\u001b[34m\u001b[1mEpoch 29/49:\u001b[0m\n",
      "\u001b[93m\u001b[1m\n",
      "           Training:        gpu_mem           loss            acc\u001b[0m\n"
     ]
    },
    {
     "name": "stdout",
     "output_type": "stream",
     "text": [
      "Best val Acc: 0.730000\n"
     ]
    },
    {
     "name": "stderr",
     "output_type": "stream",
     "text": [
      "                             5.91GB       0.220769       0.915625     100%|██████████| 100/100 [00:39<00:00,  2.51batch/s]\n",
      "\u001b[92m\u001b[1m\n",
      "         Validation:        gpu_mem           loss            acc\u001b[0m\n",
      "                             5.91GB        0.64977          0.685     100%|██████████| 25/25 [00:11<00:00,  2.18batch/s]\n",
      "\u001b[34m\u001b[1mEpoch 30/49:\u001b[0m\n",
      "\u001b[93m\u001b[1m\n",
      "           Training:        gpu_mem           loss            acc\u001b[0m\n"
     ]
    },
    {
     "name": "stdout",
     "output_type": "stream",
     "text": [
      "Best val Acc: 0.730000\n"
     ]
    },
    {
     "name": "stderr",
     "output_type": "stream",
     "text": [
      "                             5.91GB        0.20587       0.925625     100%|██████████| 100/100 [00:41<00:00,  2.44batch/s]\n",
      "\u001b[92m\u001b[1m\n",
      "         Validation:        gpu_mem           loss            acc\u001b[0m\n",
      "                             5.91GB       0.770038           0.69     100%|██████████| 25/25 [00:11<00:00,  2.12batch/s]\n",
      "\u001b[34m\u001b[1mEpoch 31/49:\u001b[0m\n",
      "\u001b[93m\u001b[1m\n",
      "           Training:        gpu_mem           loss            acc\u001b[0m\n"
     ]
    },
    {
     "name": "stdout",
     "output_type": "stream",
     "text": [
      "Best val Acc: 0.730000\n"
     ]
    },
    {
     "name": "stderr",
     "output_type": "stream",
     "text": [
      "                             5.91GB        0.19686       0.914375     100%|██████████| 100/100 [00:40<00:00,  2.48batch/s]\n",
      "\u001b[92m\u001b[1m\n",
      "         Validation:        gpu_mem           loss            acc\u001b[0m\n",
      "                             5.91GB       0.865181           0.72     100%|██████████| 25/25 [00:11<00:00,  2.17batch/s]\n",
      "\u001b[34m\u001b[1mEpoch 32/49:\u001b[0m\n",
      "\u001b[93m\u001b[1m\n",
      "           Training:        gpu_mem           loss            acc\u001b[0m\n"
     ]
    },
    {
     "name": "stdout",
     "output_type": "stream",
     "text": [
      "Best val Acc: 0.730000\n"
     ]
    },
    {
     "name": "stderr",
     "output_type": "stream",
     "text": [
      "                             5.91GB       0.174418         0.9375     100%|██████████| 100/100 [00:40<00:00,  2.49batch/s]\n",
      "\u001b[92m\u001b[1m\n",
      "         Validation:        gpu_mem           loss            acc\u001b[0m\n",
      "                             5.91GB       0.994608          0.685     100%|██████████| 25/25 [00:11<00:00,  2.15batch/s]\n",
      "\u001b[34m\u001b[1mEpoch 33/49:\u001b[0m\n",
      "\u001b[93m\u001b[1m\n",
      "           Training:        gpu_mem           loss            acc\u001b[0m\n"
     ]
    },
    {
     "name": "stdout",
     "output_type": "stream",
     "text": [
      "Best val Acc: 0.730000\n"
     ]
    },
    {
     "name": "stderr",
     "output_type": "stream",
     "text": [
      "                             5.91GB        0.14649       0.945625     100%|██████████| 100/100 [00:40<00:00,  2.45batch/s]\n",
      "\u001b[92m\u001b[1m\n",
      "         Validation:        gpu_mem           loss            acc\u001b[0m\n",
      "                             5.91GB       0.974982         0.7275     100%|██████████| 25/25 [00:11<00:00,  2.14batch/s]\n",
      "\u001b[34m\u001b[1mEpoch 34/49:\u001b[0m\n",
      "\u001b[93m\u001b[1m\n",
      "           Training:        gpu_mem           loss            acc\u001b[0m\n"
     ]
    },
    {
     "name": "stdout",
     "output_type": "stream",
     "text": [
      "Best val Acc: 0.730000\n"
     ]
    },
    {
     "name": "stderr",
     "output_type": "stream",
     "text": [
      "                             5.91GB       0.143605       0.944375     100%|██████████| 100/100 [00:48<00:00,  2.05batch/s]\n",
      "\u001b[92m\u001b[1m\n",
      "         Validation:        gpu_mem           loss            acc\u001b[0m\n",
      "                             5.91GB        1.31118         0.6725     100%|██████████| 25/25 [00:10<00:00,  2.29batch/s]\n",
      "\u001b[34m\u001b[1mEpoch 35/49:\u001b[0m\n",
      "\u001b[93m\u001b[1m\n",
      "           Training:        gpu_mem           loss            acc\u001b[0m\n"
     ]
    },
    {
     "name": "stdout",
     "output_type": "stream",
     "text": [
      "Best val Acc: 0.730000\n"
     ]
    },
    {
     "name": "stderr",
     "output_type": "stream",
     "text": [
      "                             5.91GB       0.154078        0.94375     100%|██████████| 100/100 [00:40<00:00,  2.46batch/s]\n",
      "\u001b[92m\u001b[1m\n",
      "         Validation:        gpu_mem           loss            acc\u001b[0m\n",
      "                             5.91GB        0.99595         0.7025     100%|██████████| 25/25 [00:13<00:00,  1.85batch/s]\n",
      "\u001b[34m\u001b[1mEpoch 36/49:\u001b[0m\n",
      "\u001b[93m\u001b[1m\n",
      "           Training:        gpu_mem           loss            acc\u001b[0m\n"
     ]
    },
    {
     "name": "stdout",
     "output_type": "stream",
     "text": [
      "Best val Acc: 0.730000\n"
     ]
    },
    {
     "name": "stderr",
     "output_type": "stream",
     "text": [
      "                             5.91GB       0.112237       0.958125     100%|██████████| 100/100 [00:41<00:00,  2.40batch/s]\n",
      "\u001b[92m\u001b[1m\n",
      "         Validation:        gpu_mem           loss            acc\u001b[0m\n",
      "                             5.91GB       0.994752          0.655     100%|██████████| 25/25 [00:07<00:00,  3.25batch/s]\n",
      "\u001b[34m\u001b[1mEpoch 37/49:\u001b[0m\n",
      "\u001b[93m\u001b[1m\n",
      "           Training:        gpu_mem           loss            acc\u001b[0m\n"
     ]
    },
    {
     "name": "stdout",
     "output_type": "stream",
     "text": [
      "Best val Acc: 0.730000\n"
     ]
    },
    {
     "name": "stderr",
     "output_type": "stream",
     "text": [
      "                             5.91GB       0.131786        0.95125     100%|██████████| 100/100 [00:48<00:00,  2.07batch/s]\n",
      "\u001b[92m\u001b[1m\n",
      "         Validation:        gpu_mem           loss            acc\u001b[0m\n",
      "                             5.91GB        1.15499         0.7075     100%|██████████| 25/25 [00:07<00:00,  3.30batch/s]\n",
      "\u001b[34m\u001b[1mEpoch 38/49:\u001b[0m\n",
      "\u001b[93m\u001b[1m\n",
      "           Training:        gpu_mem           loss            acc\u001b[0m\n"
     ]
    },
    {
     "name": "stdout",
     "output_type": "stream",
     "text": [
      "Best val Acc: 0.730000\n"
     ]
    },
    {
     "name": "stderr",
     "output_type": "stream",
     "text": [
      "                             5.91GB       0.112969        0.96125     100%|██████████| 100/100 [00:45<00:00,  2.22batch/s]\n",
      "\u001b[92m\u001b[1m\n",
      "         Validation:        gpu_mem           loss            acc\u001b[0m\n",
      "                             5.91GB        1.12471          0.685     100%|██████████| 25/25 [00:11<00:00,  2.14batch/s]\n",
      "\u001b[34m\u001b[1mEpoch 39/49:\u001b[0m\n",
      "\u001b[93m\u001b[1m\n",
      "           Training:        gpu_mem           loss            acc\u001b[0m\n"
     ]
    },
    {
     "name": "stdout",
     "output_type": "stream",
     "text": [
      "Best val Acc: 0.730000\n"
     ]
    },
    {
     "name": "stderr",
     "output_type": "stream",
     "text": [
      "                             5.91GB      0.0747964        0.97375     100%|██████████| 100/100 [00:40<00:00,  2.50batch/s]\n",
      "\u001b[92m\u001b[1m\n",
      "         Validation:        gpu_mem           loss            acc\u001b[0m\n",
      "                             5.91GB        1.15828         0.7125     100%|██████████| 25/25 [00:14<00:00,  1.70batch/s]\n",
      "\u001b[34m\u001b[1mEpoch 40/49:\u001b[0m\n",
      "\u001b[93m\u001b[1m\n",
      "           Training:        gpu_mem           loss            acc\u001b[0m\n"
     ]
    },
    {
     "name": "stdout",
     "output_type": "stream",
     "text": [
      "Best val Acc: 0.730000\n"
     ]
    },
    {
     "name": "stderr",
     "output_type": "stream",
     "text": [
      "                             5.91GB       0.135008       0.950625     100%|██████████| 100/100 [00:44<00:00,  2.24batch/s]\n",
      "\u001b[92m\u001b[1m\n",
      "         Validation:        gpu_mem           loss            acc\u001b[0m\n",
      "                             5.91GB        1.07187         0.6775     100%|██████████| 25/25 [00:13<00:00,  1.86batch/s]\n",
      "\u001b[34m\u001b[1mEpoch 41/49:\u001b[0m\n",
      "\u001b[93m\u001b[1m\n",
      "           Training:        gpu_mem           loss            acc\u001b[0m\n"
     ]
    },
    {
     "name": "stdout",
     "output_type": "stream",
     "text": [
      "Best val Acc: 0.730000\n"
     ]
    },
    {
     "name": "stderr",
     "output_type": "stream",
     "text": [
      "                             5.91GB      0.0961695       0.964375     100%|██████████| 100/100 [00:43<00:00,  2.31batch/s]\n",
      "\u001b[92m\u001b[1m\n",
      "         Validation:        gpu_mem           loss            acc\u001b[0m\n",
      "                             5.91GB        1.23177         0.6725     100%|██████████| 25/25 [00:11<00:00,  2.10batch/s]\n",
      "\u001b[34m\u001b[1mEpoch 42/49:\u001b[0m\n",
      "\u001b[93m\u001b[1m\n",
      "           Training:        gpu_mem           loss            acc\u001b[0m\n"
     ]
    },
    {
     "name": "stdout",
     "output_type": "stream",
     "text": [
      "Best val Acc: 0.730000\n"
     ]
    },
    {
     "name": "stderr",
     "output_type": "stream",
     "text": [
      "                             5.91GB       0.094977           0.96     100%|██████████| 100/100 [00:43<00:00,  2.28batch/s]\n",
      "\u001b[92m\u001b[1m\n",
      "         Validation:        gpu_mem           loss            acc\u001b[0m\n",
      "                             5.91GB        1.20598          0.725     100%|██████████| 25/25 [00:08<00:00,  3.07batch/s]\n",
      "\u001b[34m\u001b[1mEpoch 43/49:\u001b[0m\n",
      "\u001b[93m\u001b[1m\n",
      "           Training:        gpu_mem           loss            acc\u001b[0m\n"
     ]
    },
    {
     "name": "stdout",
     "output_type": "stream",
     "text": [
      "Best val Acc: 0.730000\n"
     ]
    },
    {
     "name": "stderr",
     "output_type": "stream",
     "text": [
      "                             5.91GB       0.174871        0.94125     100%|██████████| 100/100 [00:43<00:00,  2.30batch/s]\n",
      "\u001b[92m\u001b[1m\n",
      "         Validation:        gpu_mem           loss            acc\u001b[0m\n",
      "                             5.91GB        1.32829           0.71     100%|██████████| 25/25 [00:11<00:00,  2.13batch/s]\n",
      "\u001b[34m\u001b[1mEpoch 44/49:\u001b[0m\n",
      "\u001b[93m\u001b[1m\n",
      "           Training:        gpu_mem           loss            acc\u001b[0m\n"
     ]
    },
    {
     "name": "stdout",
     "output_type": "stream",
     "text": [
      "Best val Acc: 0.730000\n"
     ]
    },
    {
     "name": "stderr",
     "output_type": "stream",
     "text": [
      "                             5.91GB       0.111701       0.961875     100%|██████████| 100/100 [00:50<00:00,  2.00batch/s]\n",
      "\u001b[92m\u001b[1m\n",
      "         Validation:        gpu_mem           loss            acc\u001b[0m\n",
      "                             5.91GB        1.06636          0.695     100%|██████████| 25/25 [00:09<00:00,  2.65batch/s]\n",
      "\u001b[34m\u001b[1mEpoch 45/49:\u001b[0m\n",
      "\u001b[93m\u001b[1m\n",
      "           Training:        gpu_mem           loss            acc\u001b[0m\n"
     ]
    },
    {
     "name": "stdout",
     "output_type": "stream",
     "text": [
      "Best val Acc: 0.730000\n"
     ]
    },
    {
     "name": "stderr",
     "output_type": "stream",
     "text": [
      "                             5.91GB      0.0866539           0.97     100%|██████████| 100/100 [00:47<00:00,  2.09batch/s]\n",
      "\u001b[92m\u001b[1m\n",
      "         Validation:        gpu_mem           loss            acc\u001b[0m\n",
      "                             5.91GB        1.12804         0.6575     100%|██████████| 25/25 [00:08<00:00,  3.05batch/s]\n",
      "\u001b[34m\u001b[1mEpoch 46/49:\u001b[0m\n",
      "\u001b[93m\u001b[1m\n",
      "           Training:        gpu_mem           loss            acc\u001b[0m\n"
     ]
    },
    {
     "name": "stdout",
     "output_type": "stream",
     "text": [
      "Best val Acc: 0.730000\n"
     ]
    },
    {
     "name": "stderr",
     "output_type": "stream",
     "text": [
      "                             5.91GB      0.0738927        0.97125     100%|██████████| 100/100 [00:40<00:00,  2.48batch/s]\n",
      "\u001b[92m\u001b[1m\n",
      "         Validation:        gpu_mem           loss            acc\u001b[0m\n",
      "                             5.91GB        1.90223          0.705     100%|██████████| 25/25 [00:11<00:00,  2.12batch/s]\n",
      "\u001b[34m\u001b[1mEpoch 47/49:\u001b[0m\n",
      "\u001b[93m\u001b[1m\n",
      "           Training:        gpu_mem           loss            acc\u001b[0m\n"
     ]
    },
    {
     "name": "stdout",
     "output_type": "stream",
     "text": [
      "Best val Acc: 0.730000\n"
     ]
    },
    {
     "name": "stderr",
     "output_type": "stream",
     "text": [
      "                             5.91GB      0.0547217       0.980625     100%|██████████| 100/100 [00:39<00:00,  2.52batch/s]\n",
      "\u001b[92m\u001b[1m\n",
      "         Validation:        gpu_mem           loss            acc\u001b[0m\n",
      "                             5.91GB        1.56521         0.6725     100%|██████████| 25/25 [00:07<00:00,  3.54batch/s]\n",
      "\u001b[34m\u001b[1mEpoch 48/49:\u001b[0m\n",
      "\u001b[93m\u001b[1m\n",
      "           Training:        gpu_mem           loss            acc\u001b[0m\n"
     ]
    },
    {
     "name": "stdout",
     "output_type": "stream",
     "text": [
      "Best val Acc: 0.730000\n"
     ]
    },
    {
     "name": "stderr",
     "output_type": "stream",
     "text": [
      "                             5.91GB       0.117322       0.959375     100%|██████████| 100/100 [00:44<00:00,  2.22batch/s]\n",
      "\u001b[92m\u001b[1m\n",
      "         Validation:        gpu_mem           loss            acc\u001b[0m\n",
      "                             5.91GB       0.786972         0.7025     100%|██████████| 25/25 [00:06<00:00,  3.84batch/s]\n",
      "\u001b[34m\u001b[1mEpoch 49/49:\u001b[0m\n",
      "\u001b[93m\u001b[1m\n",
      "           Training:        gpu_mem           loss            acc\u001b[0m\n"
     ]
    },
    {
     "name": "stdout",
     "output_type": "stream",
     "text": [
      "Best val Acc: 0.730000\n"
     ]
    },
    {
     "name": "stderr",
     "output_type": "stream",
     "text": [
      "                             5.91GB       0.108877          0.965     100%|██████████| 100/100 [00:40<00:00,  2.45batch/s]\n",
      "\u001b[92m\u001b[1m\n",
      "         Validation:        gpu_mem           loss            acc\u001b[0m\n",
      "                             5.91GB        1.18655          0.685     100%|██████████| 25/25 [00:10<00:00,  2.39batch/s]\n"
     ]
    },
    {
     "name": "stdout",
     "output_type": "stream",
     "text": [
      "Best val Acc: 0.730000\n"
     ]
    }
   ],
   "source": [
    "# Example usage (assuming you have defined your criterion and optimizer):\n",
    "device = torch.device(\"cuda\" if torch.cuda.is_available() else \"cpu\")\n",
    "\n",
    "model = Model(num_classes=2)\n",
    "\n",
    "criterion = torch.nn.CrossEntropyLoss()\n",
    "optimizer = torch.optim.Adam(model.parameters(), lr=1e-3)\n",
    "\n",
    "trained_model = train_model(\n",
    "    model, train_loader, val_loader, criterion, optimizer, num_epochs=50, device=device\n",
    ")"
   ]
  },
  {
   "cell_type": "code",
   "execution_count": null,
   "metadata": {},
   "outputs": [],
   "source": []
  }
 ],
 "metadata": {
  "kernelspec": {
   "display_name": "duc_open_sora",
   "language": "python",
   "name": "python3"
  },
  "language_info": {
   "codemirror_mode": {
    "name": "ipython",
    "version": 3
   },
   "file_extension": ".py",
   "mimetype": "text/x-python",
   "name": "python",
   "nbconvert_exporter": "python",
   "pygments_lexer": "ipython3",
   "version": "3.8.18"
  }
 },
 "nbformat": 4,
 "nbformat_minor": 2
}
